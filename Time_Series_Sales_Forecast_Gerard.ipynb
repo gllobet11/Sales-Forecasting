{
 "cells": [
  {
   "cell_type": "markdown",
   "id": "e49604d6",
   "metadata": {},
   "source": [
    "# Predicción de Ventas Mensuales para Retail con Machine Learning\n",
    "\n",
    "### Resumen del Proyecto\n",
    "\n",
    "Este proyecto aborda el desafío de predecir las ventas mensuales para miles de combinaciones de tienda-producto en una cadena de retail. Una predicción precisa es fundamental para optimizar la gestión de inventario, planificar estrategias de precios y maximizar los ingresos.\n",
    "\n",
    "**Objetivo:** El objetivo técnico es desarrollar un modelo de Machine Learning que minimice el Error Cuadrático Medio (RMSE) en la predicción de ventas para el mes siguiente.\n",
    "\n",
    "**Metodología:**\n",
    "El pipeline desarrollado sigue un enfoque robusto y profesional:\n",
    "1.  **Preprocesamiento y Limpieza de Datos:** Manejo de outliers e imputación jerárquica de valores faltantes.\n",
    "2.  **Ingeniería de Características Avanzada:** Creación de un amplio conjunto de features para capturar la estacionalidad, tendencias, lags y otras dinámicas temporales.\n",
    "3.  **Modelado y Validación:** Entrenamiento y evaluación de múltiples modelos de Gradient Boosting (LightGBM, XGBoost, CatBoost) y RandomForest, utilizando una estrategia de validación temporal que simula un entorno de producción.\n",
    "4.  **Ensembling (Blending):** Construcción de un modelo de ensamble final mediante un meta-modelo Ridge para combinar las fortalezas de los mejores modelos base y mejorar la precisión final.\n",
    "\n",
    "**Resultado Final:** El ensamble calibrado final alcanzó un **RMSE de validación de 2.6311**, superando a todos los modelos individuales y proporcionando una solución robusta y precisa."
   ]
  },
  {
   "cell_type": "markdown",
   "id": "ce7f474a",
   "metadata": {},
   "source": [
    "**Porque se ha decidido este tipo de validación del modelo?**\n",
    "- Tras jugar con varias estrategias de validación (cross validation, ARIMAS, y Prophet en concreto) se ha decidio que por la naturaleza de **nuestros datos***, y debido a que no tenemos suficientes registros en el tiempo como para sacar el máximo partido a la cross validation mantendremos el enfoque inicial planteado en clase: Validar el mes anterior al mes test y el resto considerarlo como conjunto de entrenamiento.\n",
    "\n",
    "***Naturaleza de nuestros datos:** provienen del agregado, esto se puede apreciar ya que hay combinaciones de items que no tienen registros todos los meses.\n"
   ]
  },
  {
   "cell_type": "markdown",
   "id": "d3d7ca83",
   "metadata": {},
   "source": [
    "## **1.Imports**"
   ]
  },
  {
   "cell_type": "code",
   "execution_count": 1,
   "id": "c12aea81-1b9f-45c7-8950-8c1b0099628a",
   "metadata": {},
   "outputs": [],
   "source": [
    "# %load_ext cuml.accel\n",
    "# Para datasets pequeños como es nuestro caso, el utilizar GPU no sale a cuenta debido al overhead de mover los datos a la GPU."
   ]
  },
  {
   "cell_type": "code",
   "execution_count": 2,
   "id": "01ff6d6b",
   "metadata": {},
   "outputs": [],
   "source": [
    "# ==============================================================================\n",
    "# 1. IMPORTS\n",
    "# ==============================================================================\n",
    "\n",
    "# --- Manejo de Datos ---\n",
    "import os\n",
    "import pandas as pd\n",
    "import numpy as np\n",
    "import warnings\n",
    "\n",
    "# --- Pipeline y Preprocesamiento ---\n",
    "from sklearn.base import BaseEstimator, TransformerMixin\n",
    "from catboost import Pool\n",
    "from sklearn.linear_model import Ridge\n",
    "from sklearn.metrics import mean_squared_error\n",
    "\n",
    "\n",
    "# --- Modelado ---\n",
    "import lightgbm as lgb\n",
    "import xgboost as xgb\n",
    "from catboost import CatBoostRegressor, Pool\n",
    "from sklearn.ensemble import RandomForestRegressor\n",
    "from sklearn.linear_model import Ridge\n",
    "from xgboost.callback import EarlyStopping as XGBEarlyStopping\n",
    "\n",
    "# --- Métricas y Validación ---\n",
    "from sklearn.metrics import mean_squared_error\n",
    "\n",
    "# --- Visualización (incluyendo las usadas en celdas comentadas) ---\n",
    "import matplotlib.pyplot as plt\n",
    "import seaborn as sns\n",
    "import plotly.express as px\n",
    "import plotly.graph_objects as go\n",
    "from plotly.subplots import make_subplots\n",
    "import plotly.figure_factory as ff\n",
    "from sklearn.inspection import permutation_importance\n",
    "\n",
    "\n",
    "# Ignorar warnings para una presentación más limpia\n",
    "warnings.filterwarnings(\"ignore\")\n",
    "\n",
    "from typing import List, Optional, Dict, Tuple"
   ]
  },
  {
   "cell_type": "markdown",
   "id": "cb98e0ee",
   "metadata": {},
   "source": [
    "## **2. Configuración y Carga de Datos**"
   ]
  },
  {
   "cell_type": "code",
   "execution_count": 3,
   "id": "258a014e",
   "metadata": {},
   "outputs": [
    {
     "name": "stdout",
     "output_type": "stream",
     "text": [
      "Cargando datos desde C:/Users/teser\\Desktop/Master-DS-Nucleo-Digital/Time-Series/Monthly sales prediction/kaggle_predict_sales\\data/ts_kaggle_train.csv...\n",
      "Datos cargados con éxito.\n"
     ]
    }
   ],
   "source": [
    "DATA_PATH = r\"C:/Users/teser\\Desktop/Master-DS-Nucleo-Digital/Time-Series/Monthly sales prediction/kaggle_predict_sales\\data/\"\n",
    "\n",
    "\n",
    "TRAIN_FILE = \"ts_kaggle_train.csv\"\n",
    "\n",
    "\n",
    "def load_data(path, filename):\n",
    "    print(f\"Cargando datos desde {os.path.join(path, filename)}...\")\n",
    "    df = pd.read_csv(os.path.join(path, filename), index_col=0)\n",
    "    print(\"Datos cargados con éxito.\")\n",
    "    return df\n",
    "\n",
    "\n",
    "raw_df = load_data(DATA_PATH, TRAIN_FILE)\n",
    "# raw_df=pd.read_csv(TRAIN_FILE)"
   ]
  },
  {
   "cell_type": "markdown",
   "id": "546a0327",
   "metadata": {},
   "source": [
    "## **3. Preprocesamiento y Análisis Exploratorio (EDA)**\n",
    "\n",
    "El primer paso consiste en limpiar y preparar los datos. Se utiliza una clase `HierarchicalImputerPreprocessor` para realizar dos tareas críticas de forma causal (sin fuga de datos):\n",
    "* **Capping de Outliers:** Se limitan las ventas y precios extremos por categoría para evitar que estos valores anómalos distorsionen el entrenamiento.\n",
    "* **Imputación de Precios:** Los precios faltantes se imputan de forma jerárquica, utilizando primero el historial del propio producto y, si no existe, la mediana de su categoría.\n",
    "\n",
    "El análisis exploratorio inicial (ver gráficos en la sección 5.2) reveló patrones clave que guiaron la ingeniería de características, como una **fuerte estacionalidad** (picos en diciembre/enero) y una **relación no lineal entre el precio y las ventas**."
   ]
  },
  {
   "cell_type": "code",
   "execution_count": null,
   "id": "4bf1567f",
   "metadata": {},
   "outputs": [],
   "source": [
    "\n",
    "class HierarchicalImputerPreprocessor(BaseEstimator, TransformerMixin):\n",
    "    \"\"\"\n",
    "    Preprocesador con imputación jerárquica para precios y capping de outliers.\n",
    "    1. Imputa precios usando bfill().ffill() por unique_id.\n",
    "    2. Imputa los nulos restantes con la mediana por categoría (aprendida en fit).\n",
    "    3. Realiza capping de outliers para ventas y precios.\n",
    "    \"\"\"\n",
    "\n",
    "    def __init__(\n",
    "        self, sales_iqr_multiplier=1.5, price_iqr_multiplier=1.5, global_sales_cap=30\n",
    "    ):\n",
    "        self.sales_iqr_multiplier = sales_iqr_multiplier\n",
    "        self.price_iqr_multiplier = price_iqr_multiplier\n",
    "        self.global_sales_cap = global_sales_cap\n",
    "\n",
    "        # Atributos que se aprenderán en fit()\n",
    "        self.sales_caps_ = {}\n",
    "        self.price_caps_ = {}\n",
    "        self.price_medians_ = {}  # Para la imputación de nivel 2\n",
    "        self.global_price_median_ = None  # Fallback final\n",
    "\n",
    "    def fit(self, X, y=None):\n",
    "        print(\"🚀 Entrenando HierarchicalImputerPreprocessor...\")\n",
    "\n",
    "        # --- 1. Aprender valores para imputación y capping de precios ---\n",
    "        self.global_price_median_ = X[\"monthly_average_price\"].median()\n",
    "        for category in X[\"item_category_id\"].unique():\n",
    "            mask = X[\"item_category_id\"] == category\n",
    "\n",
    "            # Aprender mediana de precios por categoría para imputación\n",
    "            category_price = X.loc[mask, \"monthly_average_price\"].dropna()\n",
    "            if not category_price.empty:\n",
    "                self.price_medians_[category] = category_price.median()\n",
    "\n",
    "                # Aprender umbral de capping de precios\n",
    "                Q1_p = category_price.quantile(0.25)\n",
    "                Q3_p = category_price.quantile(0.75)\n",
    "                IQR_p = Q3_p - Q1_p\n",
    "                upper_bound_p = Q3_p + self.price_iqr_multiplier * IQR_p\n",
    "                self.price_caps_[category] = upper_bound_p\n",
    "\n",
    "        # --- 2. Aprender umbrales de capping de ventas ---\n",
    "        for category in X[\"item_category_id\"].unique():\n",
    "            mask = X[\"item_category_id\"] == category\n",
    "            category_sales = X.loc[mask, \"monthly_sales\"].dropna()\n",
    "            if not category_sales.empty:\n",
    "                Q1_s = category_sales.quantile(0.25)\n",
    "                Q3_s = category_sales.quantile(0.75)\n",
    "                IQR_s = Q3_s - Q1_s\n",
    "                upper_bound_s = Q3_s + self.sales_iqr_multiplier * IQR_s\n",
    "                self.sales_caps_[category] = min(upper_bound_s, self.global_sales_cap)\n",
    "\n",
    "        print(\" -> Parámetros de imputación y capping aprendidos.\")\n",
    "        return self\n",
    "\n",
    "    def transform(self, X):\n",
    "        print(\"🚀 Aplicando transformación de HierarchicalImputerPreprocessor...\")\n",
    "        df = X.copy()\n",
    "        price_col = \"monthly_average_price\"\n",
    "\n",
    "        df[\"date\"] = pd.to_datetime(df[\"date\"], format=\"%Y-%m-%d\")\n",
    "\n",
    "        # --- 1. Imputación Jerárquica de Precios ---\n",
    "        print(\" -> Nivel 1: Imputando precios con bfill().ffill() por unique_id...\")\n",
    "        df[price_col] = df.groupby(\"unique_id\")[price_col].transform(\n",
    "            lambda s: s.bfill().ffill()\n",
    "        )\n",
    "\n",
    "        # --- Nivel 2: Imputar nulos restantes con la mediana de la categoría ---\n",
    "        if df[price_col].isnull().any():\n",
    "            print(\n",
    "                \" -> Nivel 2: Imputando nulos restantes con medianas por categoría...\"\n",
    "            )\n",
    "            # Mapea cada fila a la mediana de su categoría\n",
    "            category_medians = df[\"item_category_id\"].map(self.price_medians_)\n",
    "            df[price_col].fillna(category_medians, inplace=True)\n",
    "\n",
    "        # --- Nivel 3: Fallback final con la mediana global ---\n",
    "        if df[price_col].isnull().any():\n",
    "            print(\" -> Nivel 3: Imputando nulos restantes con la mediana global...\")\n",
    "            df[price_col].fillna(self.global_price_median_, inplace=True)\n",
    "\n",
    "        # --- 2. Capping de Outliers de Precios (después de imputar) ---\n",
    "        print(\" -> Aplicando capping a 'monthly_average_price'...\")\n",
    "        df[price_col] = df.groupby(\"item_category_id\")[price_col].transform(\n",
    "            lambda p: p.clip(0, self.price_caps_.get(p.name, self.global_price_median_))\n",
    "        )\n",
    "\n",
    "        # --- 3. Capping de Outliers de Ventas ---\n",
    "        print(\" -> Aplicando capping a 'monthly_sales'...\")\n",
    "        df[\"monthly_sales\"] = df.groupby(\"item_category_id\")[\"monthly_sales\"].transform(\n",
    "            lambda s: s.clip(0, self.sales_caps_.get(s.name, self.global_sales_cap))\n",
    "        )\n",
    "\n",
    "        return df"
   ]
  },
  {
   "cell_type": "markdown",
   "id": "a286fff5",
   "metadata": {},
   "source": [
    "## **4. Feature Engineering**\n",
    "\n",
    "Para que los modelos puedan aprender de la historia, es crucial transformar la serie temporal en un formato tabular rico en información. La clase `CoreFeatureEngineer` consolida la creación de un conjunto completo de características causales:\n",
    "\n",
    "* **Features Temporales:** Mes, año, día del mes y transformaciones cíclicas (seno/coseno) para capturar la estacionalidad.\n",
    "* **Lag Features:** Ventas y precios de meses anteriores (hace 1, 3, 6 meses) para capturar la auto-correlación.\n",
    "* **Rolling Windows:** Estadísticas móviles (media, desviación estándar, máximo) sobre ventanas de 3 y 6 meses para suavizar el ruido y capturar tendencias recientes.\n",
    "* **Features de Dinámica de Precios:** Ratios que comparan el precio actual de un ítem con su media histórica y la media de su categoría.\n",
    "* **Features \"Expertas\":** Interacciones categóricas y variables como los \"meses desde el último pico de ventas\"."
   ]
  },
  {
   "cell_type": "code",
   "execution_count": null,
   "id": "c8b43c4a",
   "metadata": {},
   "outputs": [],
   "source": [
    "\n",
    "class CoreFeatureEngineer(BaseEstimator, TransformerMixin):\n",
    "    \"\"\"\n",
    "    Clase única y completa que consolida toda la lógica de ingeniería de características.\n",
    "    - Es configurable (peak_threshold).\n",
    "    - Orquesta la creación de todas las features en el orden correcto y de forma causal.\n",
    "    - No realiza imputación, delega esa tarea a un paso posterior.\n",
    "    \"\"\"\n",
    "\n",
    "    def __init__(self, target_col=\"monthly_sales\", peak_threshold=25):\n",
    "        self.target_col = target_col\n",
    "        self.peak_threshold = peak_threshold\n",
    "        print(\n",
    "            f\"✅ ComprehensiveFeatureEngineer inicializado. Umbral de pico: {self.peak_threshold}\"\n",
    "        )\n",
    "\n",
    "    def fit(self, X, y=None):\n",
    "        # Este transformador es 'stateless', no aprende nada en el fit.\n",
    "        return self\n",
    "\n",
    "    def transform(self, X):\n",
    "        print(\"\\n🚀 Ejecutando Comprehensive Feature Engineering...\")\n",
    "        df = X.copy()\n",
    "\n",
    "        # --- PRE-PROCESADO ESENCIAL ---\n",
    "        # Aseguramos el orden causal para que lags, rolling y picos funcionen correctamente.\n",
    "        df = df.sort_values([\"unique_id\", \"date\"])\n",
    "\n",
    "        # --- NIVEL 1: FEATURES BÁSICAS ---\n",
    "        df = self._extract_ids(df)\n",
    "        df = self._add_time_features(df)\n",
    "        df = self._create_basic_lags_rolling(df)\n",
    "\n",
    "        # --- NIVEL 2: FEATURES DE TENDENCIA ---\n",
    "        df = self._add_sales_trend(df)\n",
    "        df = self._add_price_trend(df)\n",
    "\n",
    "        # --- NIVEL 3: FEATURES EXPERTAS ---\n",
    "        df = self._add_volatility_consistency(df)\n",
    "        df = self._add_market_share(df)\n",
    "        df = self._add_interaction_features(df)\n",
    "        df = self._add_causal_peak_features(df)\n",
    "\n",
    "        # --- NIVEL 4: FEATURES CONTEXTUALES Y AVANZADAS ---\n",
    "        df = self._add_contextual_interactions(df)\n",
    "        df = self._add_advanced_rolling_stats(df)\n",
    "        df = self._add_price_dynamics(df)\n",
    "\n",
    "        df = self._add_causal_ratios(df)\n",
    "\n",
    "        # --- POST-PROCESADO FINAL ---\n",
    "        df.replace([np.inf, -np.inf], np.nan, inplace=True)\n",
    "\n",
    "        print(\"✅ Ingeniería de características finalizada.\")\n",
    "        return df\n",
    "\n",
    "    @staticmethod\n",
    "    def _safe_divide(numerator, denominator):\n",
    "        denominator = denominator.replace(0, np.nan)\n",
    "        return numerator / denominator\n",
    "\n",
    "    def _extract_ids(self, df):\n",
    "        split_ids = df[\"unique_id\"].str.split(\"_\", expand=True)\n",
    "        df[\"shop_id\"] = pd.to_numeric(split_ids[0])\n",
    "        df[\"item_id\"] = pd.to_numeric(split_ids[1])\n",
    "        return df\n",
    "\n",
    "    def _add_time_features(self, df):\n",
    "        df[\"month\"] = df[\"date\"].dt.month\n",
    "        df[\"month_sin\"] = np.sin(2 * np.pi * df[\"month\"] / 12)\n",
    "        df[\"month_cos\"] = np.cos(2 * np.pi * df[\"month\"] / 12)\n",
    "        df[\"year\"] = df[\"date\"].dt.year\n",
    "        df[\"date_block_num\"] = (df[\"year\"] - 2013) * 12 + df[\"month\"] - 1\n",
    "        df[\"item_age\"] = df.groupby(\"unique_id\").cumcount()\n",
    "        return df\n",
    "\n",
    "    def _create_basic_lags_rolling(self, df):\n",
    "        g_sales = df.groupby(\"unique_id\")[\"monthly_sales\"]\n",
    "        g_price = df.groupby(\"unique_id\")[\"monthly_average_price\"]\n",
    "        for lag in [1, 3, 6]:\n",
    "            df[f\"monthly_sales_lag_{lag}\"] = g_sales.shift(lag)\n",
    "            df[f\"monthly_average_price_lag_{lag}\"] = g_price.shift(lag)\n",
    "        for window in [3, 6]:\n",
    "            past_sales = g_sales.shift(1)\n",
    "            past_price = g_price.shift(1)\n",
    "            df[f\"monthly_sales_rolling_mean_{window}\"] = (\n",
    "                past_sales.groupby(df[\"unique_id\"])\n",
    "                .rolling(window, min_periods=1)\n",
    "                .mean()\n",
    "                .reset_index(level=0, drop=True)\n",
    "            )\n",
    "            df[f\"monthly_sales_rolling_std_{window}\"] = (\n",
    "                past_sales.groupby(df[\"unique_id\"])\n",
    "                .rolling(window, min_periods=1)\n",
    "                .std()\n",
    "                .reset_index(level=0, drop=True)\n",
    "            )\n",
    "            df[f\"monthly_average_price_rolling_mean_{window}\"] = (\n",
    "                past_price.groupby(df[\"unique_id\"])\n",
    "                .rolling(window, min_periods=1)\n",
    "                .mean()\n",
    "                .reset_index(level=0, drop=True)\n",
    "            )\n",
    "            df[f\"monthly_average_price_rolling_std_{window}\"] = (\n",
    "                past_price.groupby(df[\"unique_id\"])\n",
    "                .rolling(window, min_periods=1)\n",
    "                .std()\n",
    "                .reset_index(level=0, drop=True)\n",
    "            )\n",
    "        return df\n",
    "\n",
    "    def _add_sales_trend(self, df):\n",
    "        df[\"sales_trend_3m\"] = self._safe_divide(\n",
    "            df[\"monthly_sales_lag_1\"] - df[\"monthly_sales_lag_3\"],\n",
    "            df[\"monthly_sales_lag_3\"],\n",
    "        )\n",
    "        return df\n",
    "\n",
    "    def _add_price_trend(self, df):\n",
    "        df[\"price_trend_3m\"] = self._safe_divide(\n",
    "            df[\"monthly_average_price_lag_1\"] - df[\"monthly_average_price_lag_3\"],\n",
    "            df[\"monthly_average_price_lag_3\"],\n",
    "        )\n",
    "        return df\n",
    "\n",
    "    def _add_volatility_consistency(self, df):\n",
    "        past_sales = df.groupby(\"unique_id\")[\"monthly_sales\"].shift(1)\n",
    "        mean6 = (\n",
    "            past_sales.groupby(df[\"unique_id\"])\n",
    "            .rolling(6, min_periods=1)\n",
    "            .mean()\n",
    "            .reset_index(level=0, drop=True)\n",
    "        )\n",
    "        std6 = (\n",
    "            past_sales.groupby(df[\"unique_id\"])\n",
    "            .rolling(6, min_periods=1)\n",
    "            .std()\n",
    "            .reset_index(level=0, drop=True)\n",
    "        )\n",
    "        df[\"sales_consistency_6m\"] = self._safe_divide(mean6, (std6 + 1e-6))\n",
    "        past_price = df.groupby(\"unique_id\")[\"monthly_average_price\"].shift(1)\n",
    "        df[\"price_volatility_6m\"] = (\n",
    "            past_price.groupby(df[\"unique_id\"])\n",
    "            .rolling(6, min_periods=1)\n",
    "            .std()\n",
    "            .reset_index(level=0, drop=True)\n",
    "        )\n",
    "        return df\n",
    "\n",
    "    def _add_market_share(self, df):\n",
    "        monthly_sales_lag_1 = df.groupby(\"unique_id\")[\"monthly_sales\"].shift(1)\n",
    "        df[\"category_monthly_sales\"] = df.groupby(\n",
    "            [\"date_block_num\", \"item_category_id\"]\n",
    "        )[\"monthly_sales_lag_1\"].transform(\"sum\")\n",
    "        df[\"item_market_share\"] = self._safe_divide(\n",
    "            monthly_sales_lag_1, (df[\"category_monthly_sales\"] + 1e-6)\n",
    "        )\n",
    "        df.drop(columns=[\"category_monthly_sales\"], inplace=True)\n",
    "        return df\n",
    "\n",
    "    def _add_interaction_features(self, df):\n",
    "        df[\"shop_category_interaction\"] = (\n",
    "            (df[\"shop_id\"].astype(str) + \"_\" + df[\"item_category_id\"].astype(str))\n",
    "            .astype(\"category\")\n",
    "            .cat.codes\n",
    "        )\n",
    "        return df\n",
    "\n",
    "    def _add_causal_peak_features(self, df):\n",
    "        past_sales = df.groupby(\"unique_id\")[self.target_col].shift(1)\n",
    "        df[\"sales_rolling_max_12m\"] = (\n",
    "            past_sales.groupby(df[\"unique_id\"])\n",
    "            .rolling(12, min_periods=1)\n",
    "            .max()\n",
    "            .reset_index(level=0, drop=True)\n",
    "        )\n",
    "        is_peak = past_sales.gt(self.peak_threshold).astype(int)\n",
    "        grp_idx = is_peak.groupby(df[\"unique_id\"]).cumsum()\n",
    "        df[\"months_since_last_peak\"] = df.groupby([\"unique_id\", grp_idx]).cumcount()\n",
    "        return df\n",
    "\n",
    "    def _add_contextual_interactions(self, df):\n",
    "        df[\"month_category_interaction\"] = (\n",
    "            (df[\"month\"].astype(str) + \"_\" + df[\"item_category_id\"].astype(str))\n",
    "            .astype(\"category\")\n",
    "            .cat.codes\n",
    "        )\n",
    "        df[\"month_shop_interaction\"] = (\n",
    "            (df[\"month\"].astype(str) + \"_\" + df[\"shop_id\"].astype(str))\n",
    "            .astype(\"category\")\n",
    "            .cat.codes\n",
    "        )\n",
    "        major_holidays_months = [1, 12]\n",
    "        df[\"is_holiday_month\"] = df[\"month\"].isin(major_holidays_months).astype(int)\n",
    "        return df\n",
    "\n",
    "    def _add_advanced_rolling_stats(self, df):\n",
    "        for col in [\"monthly_sales\", \"monthly_average_price\"]:\n",
    "            past = df.groupby(\"unique_id\")[col].shift(1)\n",
    "            for window in [6, 12]:\n",
    "                df[f\"{col}_rolling_max_{window}m\"] = (\n",
    "                    past.groupby(df[\"unique_id\"])\n",
    "                    .rolling(window, min_periods=1)\n",
    "                    .max()\n",
    "                    .reset_index(level=0, drop=True)\n",
    "                )\n",
    "        return df\n",
    "\n",
    "    def _add_price_dynamics(self, df):\n",
    "        past_price = df.groupby(\"unique_id\")[\"monthly_average_price\"].shift(1)\n",
    "        item_avg = (\n",
    "            past_price.groupby(df[\"unique_id\"])\n",
    "            .expanding()\n",
    "            .mean()\n",
    "            .reset_index(level=0, drop=True)\n",
    "        )\n",
    "        df[\"item_avg_price\"] = item_avg\n",
    "        df[\"price_vs_historical_avg_ratio\"] = self._safe_divide(\n",
    "            df[\"monthly_average_price\"], df[\"item_avg_price\"]\n",
    "        )\n",
    "        return df\n",
    "\n",
    "    def _add_causal_ratios(self, df):\n",
    "        \"\"\"Crea ratios avanzados de forma 100% causal para evitar CUALQUIER fuga de datos.\"\"\"\n",
    "        print(\"   -> Creando ratios avanzados de forma segura...\")\n",
    "\n",
    "        # Ratio Precio vs. Categoría (Causal)\n",
    "        # Se calcula la media del mes ANTERIOR para evitar fugas del mes actual.\n",
    "        df[\"category_avg_price_past\"] = df.groupby(\n",
    "            [\"date_block_num\", \"item_category_id\"]\n",
    "        )[\"monthly_average_price\"].transform(\"mean\")\n",
    "        df[\"category_avg_price_lag1\"] = df.groupby([\"unique_id\"])[\n",
    "            \"category_avg_price_past\"\n",
    "        ].shift(1)\n",
    "        df[\"price_to_category_ratio\"] = self._safe_divide(\n",
    "            df[\"monthly_average_price\"], df[\"category_avg_price_lag1\"]\n",
    "        )\n",
    "        df.drop(\n",
    "            columns=[\"category_avg_price_past\", \"category_avg_price_lag1\"], inplace=True\n",
    "        )\n",
    "\n",
    "        # Ratio Year-over-Year (Causal)\n",
    "        g = df.groupby(\"unique_id\")[\"monthly_sales\"]\n",
    "        monthly_sales_lag_1 = g.shift(1)\n",
    "        monthly_sales_lag_12 = g.shift(12)\n",
    "        df[\"yoy_sales_ratio\"] = self._safe_divide(\n",
    "            monthly_sales_lag_1, monthly_sales_lag_12\n",
    "        )\n",
    "\n",
    "        return df"
   ]
  },
  {
   "cell_type": "markdown",
   "id": "54ddb396",
   "metadata": {},
   "source": [
    "## 4.1 Target Encoding"
   ]
  },
  {
   "cell_type": "markdown",
   "id": "7ea4f305",
   "metadata": {},
   "source": [
    "Para convertir las variables categóricas de alta cardinalidad (como item_id o shop_id) en features numéricas, se descartó el One-Hot Encoding por el riesgo de generar demasiadas dimensiones. En su lugar, se optó por el Target Encoding, una técnica que codifica cada categoría según la media de la variable objetivo (las ventas).\n",
    "\n",
    "Sin embargo, aplicar esta técnica de forma ingenua en datos de series temporales introduce una severa **fuga de datos**, ya que la información del futuro se usaría para codificar el pasado. Para evitarlo, se ha implementado una clase **TargetEncoderTimeAware** a medida, que garantiza una codificación 100% causal:\n",
    "\n",
    "- **Para los datos de entrenamiento**, el valor de encoding para cualquier punto en el tiempo t se calcula utilizando únicamente la media de la variable objetivo de los momentos anteriores (<t).\n",
    "\n",
    "- Se aplica un **suavizado bayesiano** (alpha=200) para dar más peso a la media global en categorías con pocos datos, evitando así el sobreajuste.\n",
    "\n",
    "- Se añade un ligero **ruido** a los valores codificados del entrenamiento como técnica de regularización."
   ]
  },
  {
   "cell_type": "code",
   "execution_count": 6,
   "id": "7b63ccd2",
   "metadata": {},
   "outputs": [],
   "source": [
    "class TargetEncoderTimeAware(BaseEstimator, TransformerMixin):\n",
    "    \"\"\"\n",
    "    Target Encoding libre de fuga para series temporales.\n",
    "    - Para train (fit_transform): cada bloque t usa estadísticas de bloques < t.\n",
    "    - Para inferencia (transform): mapeo con TODA la historia de train.\n",
    "    Requiere una columna temporal entera/ordinal (p.ej., date_block_num).\n",
    "    \"\"\"\n",
    "\n",
    "    def __init__(\n",
    "        self,\n",
    "        cols: List[str],\n",
    "        date_col: str,\n",
    "        alpha: float = 10.0,\n",
    "        noise: float = 0.01,\n",
    "        min_samples: int = 1,\n",
    "        drop_original: bool = True,\n",
    "        handle_unknown: str = \"global_mean\",  # {\"global_mean\", \"NaN\"}\n",
    "    ):\n",
    "        self.cols = cols\n",
    "        self.date_col = date_col\n",
    "        self.alpha = alpha\n",
    "        self.noise = noise\n",
    "        self.min_samples = min_samples\n",
    "        self.drop_original = drop_original\n",
    "        self.handle_unknown = handle_unknown\n",
    "\n",
    "        # Atributos tras fit\n",
    "        self.global_mean_: float = np.nan\n",
    "        self.mappings_: Dict[str, pd.Series] = (\n",
    "            {}\n",
    "        )  # col -> pd.Series(index=cat, value=enc)\n",
    "        self.train_feature_names_: List[str] = []  # nombres resultantes en train\n",
    "        self._fitted_ = False\n",
    "\n",
    "    def _validate_input(self, X, y, fit_phase: bool):\n",
    "        if not isinstance(X, (pd.DataFrame,)):\n",
    "            raise ValueError(\"TargetEncoderTimeAware requiere X como pandas.DataFrame.\")\n",
    "        if fit_phase and y is None:\n",
    "            raise ValueError(\"Se requiere y durante fit/fit_transform.\")\n",
    "        if self.date_col not in X.columns:\n",
    "            raise ValueError(f\"No se encontró '{self.date_col}' en X.\")\n",
    "        for c in self.cols:\n",
    "            if c not in X.columns:\n",
    "                raise ValueError(f\"No se encontró columna categórica '{c}' en X.\")\n",
    "\n",
    "    def fit(self, X: pd.DataFrame, y: Optional[pd.Series] = None):\n",
    "        \"\"\"Calcula mapeos finales para inferencia (transform en val/test).\"\"\"\n",
    "        self._validate_input(X, y, fit_phase=True)\n",
    "\n",
    "        Xy = X[[self.date_col] + self.cols].copy()\n",
    "        Xy[\"_y_\"] = pd.Series(y, index=X.index).values\n",
    "\n",
    "        # media global del train\n",
    "        self.global_mean_ = float(np.nanmean(y))\n",
    "\n",
    "        # mapeos finales (train completo) por columna\n",
    "        self.mappings_ = {}\n",
    "        for col in self.cols:\n",
    "            stats = (\n",
    "                Xy.groupby(col)[\"_y_\"]\n",
    "                .agg([\"mean\", \"count\"])\n",
    "                .rename(columns={\"mean\": \"mean\", \"count\": \"count\"})\n",
    "            )\n",
    "            # suavizado por alpha\n",
    "            # alpha actúa como un regularizador de credibilidad\n",
    "            enc = (stats[\"count\"] * stats[\"mean\"] + self.alpha * self.global_mean_) / (\n",
    "                stats[\"count\"] + self.alpha\n",
    "            )\n",
    "            #  filtrar categorías con poco soporte -> acercarlas a la global\n",
    "            if self.min_samples > 1:\n",
    "                mask = stats[\"count\"] < self.min_samples\n",
    "                enc.loc[mask] = (\n",
    "                    stats.loc[mask, \"count\"] * stats.loc[mask, \"mean\"]\n",
    "                    + self.alpha * self.global_mean_\n",
    "                ) / (stats.loc[mask, \"count\"] + self.alpha)\n",
    "            self.mappings_[col] = enc\n",
    "\n",
    "        self._fitted_ = True\n",
    "        return self\n",
    "\n",
    "    def fit_transform(self, X: pd.DataFrame, y: Optional[pd.Series] = None):\n",
    "        \"\"\"Devuelve X_train codificado de forma time-aware (sin mirarse a sí mismo).\"\"\"\n",
    "        self._validate_input(X, y, fit_phase=True)\n",
    "\n",
    "        # Orden temporal\n",
    "        X_ = X.copy()\n",
    "        X_[\"_y_\"] = pd.Series(y, index=X.index).values\n",
    "        X_.sort_values(self.date_col, kind=\"mergesort\", inplace=True)  # estable\n",
    "\n",
    "        # salida\n",
    "        out = X_.copy()\n",
    "\n",
    "  \n",
    "        # Nota: usaremos una global fija (self.global_mean_) para suavizado.\n",
    "        self.global_mean_ = float(np.nanmean(y))\n",
    "\n",
    "        # para cada col, calculamos codificación por bloques usando SOLO historia previa\n",
    "        unique_ts = np.sort(X_[self.date_col].unique())\n",
    "        rng = np.random.default_rng(42)  \n",
    "\n",
    "        for col in self.cols:\n",
    "            enc_name = f\"{col}_enc\"\n",
    "            out[enc_name] = np.nan\n",
    "\n",
    "            # Estructuras para acumulados\n",
    "            # Vamos acumulando sumas y conteos por categoría usando SOLO datos < t\n",
    "            cum_sum = pd.Series(dtype=float)\n",
    "            cum_cnt = pd.Series(dtype=float)\n",
    "\n",
    "            for t in unique_ts:\n",
    "                # índices de este bloque\n",
    "                idx_t = out[self.date_col] == t\n",
    "\n",
    "                # construir mapping con historia previa (< t)\n",
    "                if (cum_cnt.size > 0) and (cum_cnt.sum() > 0):\n",
    "                    stats = pd.DataFrame({\"sum\": cum_sum, \"cnt\": cum_cnt})\n",
    "                    stats[\"mean\"] = stats[\"sum\"] / stats[\"cnt\"]\n",
    "                    # suavizado\n",
    "                    mapping = (\n",
    "                        stats[\"cnt\"] * stats[\"mean\"] + self.alpha * self.global_mean_\n",
    "                    ) / (stats[\"cnt\"] + self.alpha)\n",
    "                else:\n",
    "                    mapping = pd.Series(dtype=float)\n",
    "\n",
    "                # aplicar mapping al bloque t\n",
    "                mapped = out.loc[idx_t, col].map(mapping)\n",
    "                # fallback\n",
    "                if self.handle_unknown == \"global_mean\":\n",
    "                    mapped = mapped.fillna(self.global_mean_)\n",
    "                # asignar\n",
    "                out.loc[idx_t, enc_name] = mapped.values\n",
    "\n",
    "                # actualizar acumulados con el propio bloque t (para el siguiente paso temporal)\n",
    "                grp = (\n",
    "                    out.loc[idx_t, [col, \"_y_\"]]\n",
    "                    .groupby(col)[\"_y_\"]\n",
    "                    .agg([\"sum\", \"count\"])\n",
    "                )\n",
    "                # sumar a los acumulados existentes (alineando índices)\n",
    "                if grp.shape[0] > 0:\n",
    "                    cum_sum = grp[\"sum\"].add(cum_sum, fill_value=0.0)\n",
    "                    cum_cnt = grp[\"count\"].add(cum_cnt, fill_value=0.0)\n",
    "\n",
    "            # ruido (solo en train)\n",
    "            if self.noise and self.noise > 0:\n",
    "                eps = rng.normal(loc=0.0, scale=self.noise, size=len(out))\n",
    "                out[enc_name] = out[enc_name] * (1.0 + eps)\n",
    "\n",
    "        # guardamos mapeos finales para inferencia\n",
    "        self.fit(X, y)\n",
    "\n",
    "        # limpiar columnas originales si procede\n",
    "        if self.drop_original:\n",
    "            out.drop(columns=self.cols, inplace=True)\n",
    "\n",
    "        # limpiar auxiliares y reordenar al índice original\n",
    "        out.drop(columns=[\"_y_\"], inplace=True)\n",
    "        out = out.loc[X.index]  # mismo orden que entrada\n",
    "\n",
    "        # nombres de salida (útiles para logs/inspección)\n",
    "        new_cols = [f\"{c}_enc\" for c in self.cols]\n",
    "        self.train_feature_names_ = list(new_cols) + [\n",
    "            c for c in out.columns if c not in new_cols\n",
    "        ]  # info\n",
    "        return out\n",
    "\n",
    "    def transform(self, X: pd.DataFrame):\n",
    "        \"\"\"Aplica los mapeos aprendidos en train (para val/test).\"\"\"\n",
    "        if not self._fitted_:\n",
    "            raise RuntimeError(\"Llama a fit/fit_transform antes de transform.\")\n",
    "        if not isinstance(X, pd.DataFrame):\n",
    "            raise ValueError(\"Se requiere pandas.DataFrame en transform.\")\n",
    "\n",
    "        out = X.copy()\n",
    "        for col in self.cols:\n",
    "            enc_name = f\"{col}_enc\"\n",
    "            mapping = self.mappings_[col]\n",
    "            mapped = out[col].map(mapping)\n",
    "            if self.handle_unknown == \"global_mean\":\n",
    "                mapped = mapped.fillna(self.global_mean_)\n",
    "            out[enc_name] = mapped.values\n",
    "\n",
    "        if self.drop_original:\n",
    "            out.drop(columns=self.cols, inplace=True)\n",
    "        return out"
   ]
  },
  {
   "cell_type": "markdown",
   "id": "ebf4879e",
   "metadata": {},
   "source": [
    "## 4.2 Imputación de nulos \n",
    "- La ingeniería de características, especialmente la creación de lags y rolling windows, genera de forma natural valores NaN al principio de cada serie temporal (cuando no hay datos históricos suficientes para el cálculo). Antes de entrenar los modelos, es imprescindible manejar estos valores faltantes.\n",
    "\n",
    "- Un enfoque simple, como rellenar todos los NaNs con cero introduciria mucho ruido al modelo, y rellenar con la media global, sería incorrecto.\n",
    "\n",
    "- Un NaN en una feature de media móvil no significa lo mismo que un NaN en una feature de ratio. Por ello, se ha creado una clase SmartImputer personalizada que aplica reglas de imputación contextualizando por cada variable, se puede ver la justificación del criterio por cada variable en los comentarios de la clase."
   ]
  },
  {
   "cell_type": "code",
   "execution_count": null,
   "id": "8d1430cf",
   "metadata": {},
   "outputs": [],
   "source": [
    "\n",
    "class SmartImputer(BaseEstimator, TransformerMixin):\n",
    "    \"\"\"\n",
    "    Un transformador de Scikit-Learn para imputar de forma inteligente los NaNs\n",
    "    generados por las clases FeatureEngineer.\n",
    "    \"\"\"\n",
    "\n",
    "    def __init__(self, fill_value=0):\n",
    "        # Valor de relleno final parma cualquier NaN que quede.\n",
    "        self.fill_value = fill_value\n",
    "\n",
    "    def fit(self, X, y=None):\n",
    "        # Este imputador no necesita \"aprender\" nada de los datos de entrenamiento.\n",
    "        # Sus reglas son fijas.\n",
    "        return self\n",
    "\n",
    "    def transform(self, X):\n",
    "        print(\"Ejecutando SmartImputer...\")\n",
    "        df = X.copy()\n",
    "\n",
    "        # El orden de imputación es importante.\n",
    "        # Primero imputamos los lags, ya que pueden ser usados para imputar los rolling.\n",
    "        df = self._impute_lags(df)\n",
    "        df = self._impute_rolling_windows(df)\n",
    "        df = self._impute_ratios_and_trends(df)\n",
    "        df = self._impute_volatility(df)\n",
    "\n",
    "        # Un paso final para garantizar que no quede ningún NaN.\n",
    "        df = self._impute_remaining(df)\n",
    "\n",
    "        print(\"Imputación inteligente finalizada.\")\n",
    "        return df\n",
    "\n",
    "    def _impute_lags(self, df):\n",
    "        \"\"\"Imputa lags usando forward-fill con un límite.\"\"\"\n",
    "        print(\" -> Imputando features de lag...\")\n",
    "        lag_cols = [c for c in df.columns if \"_lag_\" in c]\n",
    "        # Usamos forward-fill para propagar el último valor conocido,\n",
    "        # pero con un límite para no arrastrar información muy antigua.\n",
    "        # Agrupamos por `unique_id` para no mezclar datos de diferentes series.\n",
    "        df[lag_cols] = df.groupby(\"unique_id\")[lag_cols].ffill(limit=2)\n",
    "        return df\n",
    "\n",
    "    def _impute_rolling_windows(self, df):\n",
    "        \"\"\"Imputa rolling windows con 0, un valor neutro para datos sin historial.\"\"\"\n",
    "        print(\" -> Imputando features de rolling window con 0...\")\n",
    "        rolling_cols = [c for c in df.columns if \"_rolling_\" in c]\n",
    "\n",
    "        # Un valor de 0 es una suposición mucho más segura que usar lag_1.\n",
    "        # Significa que si no hay historial, el promedio/máximo/std pasado fue cero.\n",
    "        df[rolling_cols] = df[rolling_cols].fillna(0)\n",
    "\n",
    "        return df\n",
    "\n",
    "    def _impute_ratios_and_trends(self, df):\n",
    "        \"\"\"Imputa ratios y tendencias con valores neutros.\"\"\"\n",
    "        print(\" -> Imputando ratios y tendencias...\")\n",
    "        # Para ratios (X/Y), un valor de 1 es neutro (implica X=Y, sin cambio).\n",
    "        ratio_cols = [c for c in df.columns if \"_ratio\" in c or \"market_share\" in c]\n",
    "        df[ratio_cols] = df[ratio_cols].fillna(1)\n",
    "\n",
    "        # Para tendencias ((X-Y)/Y), un valor de 0 es neutro (implica X=Y, sin cambio).\n",
    "        trend_cols = [c for c in df.columns if \"_trend\" in c]\n",
    "        df[trend_cols] = df[trend_cols].fillna(0)\n",
    "        return df\n",
    "\n",
    "    def _impute_volatility(self, df):\n",
    "        \"\"\"Imputa volatilidad/std con 0.\"\"\"\n",
    "        print(\" -> Imputando features de volatilidad...\")\n",
    "        # Si la volatilidad es NaN, es porque no hay variación (o hay pocos datos).\n",
    "        # Un valor de 0 es la imputación más lógica.\n",
    "        vol_cols = [\n",
    "            c\n",
    "            for c in df.columns\n",
    "            if \"_std\" in c or \"_volatility\" in c or \"consistency\" in c\n",
    "        ]\n",
    "        # Para 'consistency', que es un inverso de la std, un valor alto es bueno.\n",
    "        # Pero para mantenerlo simple, la imputaremos junto con las demás.\n",
    "        # Podríamos hacer una regla aparte si fuera necesario.\n",
    "        df[vol_cols] = df[vol_cols].fillna(0)\n",
    "        return df\n",
    "\n",
    "    def _impute_remaining(self, df):\n",
    "        \"\"\"Imputa cualquier NaN restante con el valor de relleno especificado.\"\"\"\n",
    "        print(f\" -> Imputando NaNs restantes con {self.fill_value}...\")\n",
    "        df.fillna(self.fill_value, inplace=True)\n",
    "        return df"
   ]
  },
  {
   "cell_type": "markdown",
   "id": "70f890c2",
   "metadata": {},
   "source": [
    "## Extra Functions\n"
   ]
  },
  {
   "cell_type": "code",
   "execution_count": null,
   "id": "b39b710f",
   "metadata": {},
   "outputs": [],
   "source": [
    "def _model_feature_names(model):\n",
    "    \"\"\"\n",
    "    Intenta extraer los nombres de features con los que se entrenó el modelo.\n",
    "    Soporta LightGBM, XGBoost y fallback genérico.\n",
    "    \"\"\"\n",
    "    # LightGBM sklearn\n",
    "    if hasattr(model, \"feature_name_\") and model.feature_name_:\n",
    "        return list(model.feature_name_)\n",
    "    # LightGBM booster directo\n",
    "    if hasattr(model, \"_Booster\") and model._Booster is not None:\n",
    "        try:\n",
    "            return list(model._Booster.feature_name())\n",
    "        except Exception:\n",
    "            pass\n",
    "    # XGBoost sklearn\n",
    "    if hasattr(model, \"get_booster\"):\n",
    "        try:\n",
    "            names = model.get_booster().feature_names\n",
    "            if names:\n",
    "                return list(names)\n",
    "        except Exception:\n",
    "            pass\n",
    "    # Fallback: None -> lo resolveremos con el DF de referencia\n",
    "    return None\n",
    "\n",
    "\n",
    "def _ensure_same_features_for_importance(model, features_df):\n",
    "    \"\"\"\n",
    "    Devuelve (names, importances) alineados y validados para plotear importancia nativa.\n",
    "    'features_df' debe ser el MISMO DF (o con las mismas columnas/orden) usado en el fit.\n",
    "    \"\"\"\n",
    "    importances = getattr(model, \"feature_importances_\", None)\n",
    "    if importances is None:\n",
    "        raise AttributeError(\"El modelo no expone 'feature_importances_'.\")\n",
    "\n",
    "    importances = list(importances)\n",
    "    model_names = _model_feature_names(model)\n",
    "\n",
    "    # Caso 1: el modelo nos da sus nombres\n",
    "    if model_names is not None:\n",
    "        # Tomamos solo las columnas que el modelo realmente usó\n",
    "        # (por si 'features_df' tiene columnas extra)\n",
    "        used = [c for c in model_names if c in features_df.columns]\n",
    "        if len(used) != len(importances):\n",
    "            raise ValueError(\n",
    "                f\"Desajuste longitud: importances={len(importances)} vs feature_names={len(model_names)}.\\n\"\n",
    "                f\"Coinciden con DF en {len(used)} columnas. Revisa que estés pasando el DF correcto.\"\n",
    "            )\n",
    "        return used, importances\n",
    "\n",
    "    # Caso 2: no hay nombres en el modelo → usamos el DF de referencia\n",
    "    if len(importances) != features_df.shape[1]:\n",
    "        raise ValueError(\n",
    "            f\"Desajuste longitud: importances={len(importances)} vs DF cols={features_df.shape[1]}.\\n\"\n",
    "            f\"Asegúrate de pasar el MISMO DataFrame (mismas columnas y orden) con el que entrenaste el modelo.\"\n",
    "        )\n",
    "    return list(features_df.columns), importances\n",
    "\n",
    "\n",
    "def plot_native_importance(model, features_df, model_name=\"Modelo\"):\n",
    "    \"\"\"\n",
    "    Calcula y visualiza la importancia nativa con un diseño mejorado para\n",
    "    etiquetas largas. 'features_df' DEBE ser el mismo DF (o con las mismas\n",
    "    columnas/orden) usado en el fit del modelo.\n",
    "    \"\"\"\n",
    "    try:\n",
    "        names, imps = _ensure_same_features_for_importance(model, features_df)\n",
    "    except Exception as e:\n",
    "        print(f\"⚠️ No se puede plotear importancia nativa de {model_name}: {e}\")\n",
    "        return None\n",
    "\n",
    "    native_importance_df = (\n",
    "        pd.DataFrame({\"feature\": names, \"importance\": imps})\n",
    "        .sort_values(\"importance\", ascending=False)\n",
    "        .reset_index(drop=True)\n",
    "    )\n",
    "\n",
    "    # 1. Creamos el gráfico y lo asignamos a la variable 'fig'\n",
    "    N_FEATURES_TO_SHOW = 25\n",
    "    fig = px.bar(\n",
    "        native_importance_df.head(N_FEATURES_TO_SHOW),\n",
    "        x=\"importance\",\n",
    "        y=\"feature\",\n",
    "        orientation=\"h\",\n",
    "        title=f\"Top {N_FEATURES_TO_SHOW} - Importancia Nativa ({model_name})\",\n",
    "        labels={\"importance\": \"Importancia (Gain/Split)\", \"feature\": \"Característica\"},\n",
    "    )\n",
    "\n",
    "    # 2. Actualizamos el diseño para mejorar la legibilidad\n",
    "    fig.update_layout(\n",
    "        height=800,  # Aumenta la altura del gráfico\n",
    "        margin=dict(l=400),  # Aumenta el margen izquierdo para los nombres largos\n",
    "        yaxis=dict(autorange=\"reversed\"),  # Mantiene la más importante arriba\n",
    "        template=\"plotly_white\",\n",
    "    )\n",
    "\n",
    "    # 3. Mostramos la figura ya modificada\n",
    "    fig.show()\n",
    "\n",
    "    return native_importance_df\n",
    "\n",
    "\n",
    "def plot_permutation_importance(\n",
    "    model, X_val_df, y_val, features_df, model_name=\"Modelo\"\n",
    "):\n",
    "    \"\"\"\n",
    "    Calcula y visualiza la importancia por permutación.\n",
    "    'X_val_df' y 'features_df' deben tener EXACTAMENTE las columnas usadas en el fit.\n",
    "    \"\"\"\n",
    "    # Alinea X_val al orden de features_df por seguridad\n",
    "    if list(X_val_df.columns) != list(features_df.columns):\n",
    "        X_val_df = X_val_df[features_df.columns]\n",
    "\n",
    "    print(\"⏳ Calculando Importancia por Permutación...\")\n",
    "    result = permutation_importance(\n",
    "        model,\n",
    "        X_val_df,\n",
    "        y_val,\n",
    "        n_repeats=10,\n",
    "        random_state=42,\n",
    "        n_jobs=-1,\n",
    "        scoring=\"neg_root_mean_squared_error\",\n",
    "    )\n",
    "\n",
    "    perm_importance_df = (\n",
    "        pd.DataFrame(\n",
    "            {\n",
    "                \"feature\": features_df.columns,\n",
    "                \"importance_mean\": result.importances_mean,\n",
    "                \"importance_std\": result.importances_std,\n",
    "            }\n",
    "        )\n",
    "        .sort_values(\"importance_mean\", ascending=False)\n",
    "        .reset_index(drop=True)\n",
    "    )\n",
    "\n",
    "    print(\"✅ Cálculo finalizado.\")\n",
    "    px.bar(\n",
    "        perm_importance_df.head(25),\n",
    "        x=\"importance_mean\",\n",
    "        y=\"feature\",\n",
    "        error_x=\"importance_std\",\n",
    "        orientation=\"h\",\n",
    "        title=f\"Top 25 - Permutation Importance ({model_name})\",\n",
    "    ).show()\n",
    "\n",
    "    return perm_importance_df"
   ]
  },
  {
   "cell_type": "code",
   "execution_count": 9,
   "id": "c492ff83",
   "metadata": {},
   "outputs": [],
   "source": [
    "class PreprocessingVisualizer:\n",
    "    def __init__(self, variables):\n",
    "        \"\"\"\n",
    "        Clase para visualizar la distribución de variables antes y después del preprocessing.\n",
    "        :param variables: Lista de nombres de columnas a visualizar\n",
    "        \"\"\"\n",
    "        self.variables = variables\n",
    "\n",
    "    def plot_distributions(self, original_df, processed_df, bins=30, figsize=(15, 5)):\n",
    "        \"\"\"\n",
    "        Genera gráficos comparativos de las distribuciones de las variables seleccionadas.\n",
    "        :param original_df: DataFrame con datos antes del preprocessing\n",
    "        :param processed_df: DataFrame con datos después del preprocessing\n",
    "        :param bins: Número de bins para histogramas\n",
    "        :param figsize: Tamaño de la figura\n",
    "        \"\"\"\n",
    "        n_vars = len(self.variables)\n",
    "        plt.figure(figsize=(figsize[0], figsize[1] * n_vars))\n",
    "\n",
    "        for i, var in enumerate(self.variables):\n",
    "            plt.subplot(n_vars, 2, 2 * i + 1)\n",
    "            sns.histplot(original_df[var].dropna(), bins=bins, kde=True, color=\"blue\")\n",
    "            plt.title(f\"Distribución Original de {var}\")\n",
    "\n",
    "            plt.subplot(n_vars, 2, 2 * i + 2)\n",
    "            sns.histplot(processed_df[var].dropna(), bins=bins, kde=True, color=\"green\")\n",
    "            plt.title(f\"Distribución Después de Preprocessing de {var}\")\n",
    "\n",
    "        plt.tight_layout()\n",
    "        plt.show()"
   ]
  },
  {
   "cell_type": "markdown",
   "id": "c1e1acc9",
   "metadata": {},
   "source": [
    "## **5. PIPELINE**"
   ]
  },
  {
   "cell_type": "markdown",
   "id": "5ccfc7ac",
   "metadata": {},
   "source": [
    "### 5.1 Preprocesamiento Inicial y División de Datos (CRÍTICO)"
   ]
  },
  {
   "cell_type": "code",
   "execution_count": 10,
   "id": "43254a55",
   "metadata": {},
   "outputs": [
    {
     "name": "stdout",
     "output_type": "stream",
     "text": [
      "🚀 Entrenando HierarchicalImputerPreprocessor...\n",
      " -> Parámetros de imputación y capping aprendidos.\n",
      "🚀 Aplicando transformación de HierarchicalImputerPreprocessor...\n",
      " -> Nivel 1: Imputando precios con bfill().ffill() por unique_id...\n",
      " -> Aplicando capping a 'monthly_average_price'...\n",
      " -> Aplicando capping a 'monthly_sales'...\n"
     ]
    },
    {
     "data": {
      "image/png": "[encoded data removed]",
      "text/plain": [
       "<Figure size 1500x1000 with 4 Axes>"
      ]
     },
     "metadata": {},
     "output_type": "display_data"
    }
   ],
   "source": [
    "# Ejemplo de uso del visualizador\n",
    "visualizer = PreprocessingVisualizer(\n",
    "    variables=[\"monthly_sales\", \"monthly_average_price\"]\n",
    ")\n",
    "\n",
    "original_df = raw_df.copy()\n",
    "\n",
    "preprocessor_vis = HierarchicalImputerPreprocessor()\n",
    "preprocessor_vis.fit(original_df)\n",
    "preprocessed_df = preprocessor_vis.transform(original_df)\n",
    "\n",
    "visualizer.plot_distributions(original_df, preprocessed_df)"
   ]
  },
  {
   "cell_type": "code",
   "execution_count": 11,
   "id": "6902c4d1",
   "metadata": {},
   "outputs": [
    {
     "name": "stdout",
     "output_type": "stream",
     "text": [
      "🚀 Entrenando HierarchicalImputerPreprocessor...\n",
      " -> Parámetros de imputación y capping aprendidos.\n",
      "🚀 Aplicando transformación de HierarchicalImputerPreprocessor...\n",
      " -> Nivel 1: Imputando precios con bfill().ffill() por unique_id...\n",
      " -> Aplicando capping a 'monthly_average_price'...\n",
      " -> Aplicando capping a 'monthly_sales'...\n",
      "🚀 Aplicando transformación de HierarchicalImputerPreprocessor...\n",
      " -> Nivel 1: Imputando precios con bfill().ffill() por unique_id...\n",
      " -> Aplicando capping a 'monthly_average_price'...\n",
      " -> Aplicando capping a 'monthly_sales'...\n",
      "🚀 Aplicando transformación de HierarchicalImputerPreprocessor...\n",
      " -> Nivel 1: Imputando precios con bfill().ffill() por unique_id...\n",
      " -> Nivel 2: Imputando nulos restantes con medianas por categoría...\n",
      " -> Aplicando capping a 'monthly_average_price'...\n",
      " -> Aplicando capping a 'monthly_sales'...\n"
     ]
    }
   ],
   "source": [
    "# 1) Split por fecha ANTES del preprocesado\n",
    "dates = np.sort(raw_df[\"date\"].unique())\n",
    "train_dates, val_date, test_date = dates[:-2], [dates[-2]], [dates[-1]]\n",
    "\n",
    "df_train_raw = raw_df[raw_df[\"date\"].isin(train_dates)].copy()\n",
    "df_val_raw = raw_df[raw_df[\"date\"].isin(val_date)].copy()\n",
    "df_test_raw = raw_df[raw_df[\"date\"].isin(test_date)].copy()\n",
    "\n",
    "# 2) Fit SOLO en train\n",
    "pre = HierarchicalImputerPreprocessor()\n",
    "df_train = pre.fit_transform(df_train_raw)\n",
    "df_val = pre.transform(df_val_raw)\n",
    "df_test = pre.transform(df_test_raw)"
   ]
  },
  {
   "cell_type": "code",
   "execution_count": 12,
   "id": "718a34de",
   "metadata": {},
   "outputs": [],
   "source": [
    "# Columna objetivo\n",
    "TARGET_COL = \"monthly_sales\"\n",
    "\n",
    "# Columnas categóricas originales que vienen en los datos\n",
    "# NOTA: No incluimos 'unique_id' si es solo un identificador y no una característica.\n",
    "CATEGORICAL_COLS_ORIGINAL = [\"city_id\", \"shop_id\", \"item_category_id\", \"item_id\"]\n",
    "\n",
    "# Columnas numéricas originales\n",
    "NUMERICAL_COLS_ORIGINAL = [\"monthly_average_price\"]"
   ]
  },
  {
   "cell_type": "code",
   "execution_count": 13,
   "id": "15f90bc3",
   "metadata": {},
   "outputs": [
    {
     "name": "stdout",
     "output_type": "stream",
     "text": [
      "\n",
      "--- Paso 2: Asegurando el tipo de dato correcto para las columnas categóricas ---\n",
      "✅ Tipos de datos corregidos para: ['city_id', 'shop_id', 'item_category_id', 'item_id']\n"
     ]
    }
   ],
   "source": [
    "# ===================================================================\n",
    "#     Corrección de Tipos\n",
    "# ===================================================================\n",
    "\n",
    "# 2. Corregir los tipos de datos de las columnas categóricas\n",
    "#    Este es el paso clave. Lo hacemos ANTES de cualquier división o entrenamiento.\n",
    "print(\n",
    "    \"\\n--- Paso 2: Asegurando el tipo de dato correcto para las columnas categóricas ---\"\n",
    ")\n",
    "\n",
    "# Usamos la lista que definimos centralizadamente\n",
    "for col in CATEGORICAL_COLS_ORIGINAL:\n",
    "    if col in df_train.columns:\n",
    "        df_train[col] = df_train[col].astype(int)\n",
    "    else:\n",
    "        print(\n",
    "            f\"⚠️ Advertencia: La columna categórica '{col}' no se encontró en el DataFrame.\"\n",
    "        )\n",
    "\n",
    "print(f\"✅ Tipos de datos corregidos para: {CATEGORICAL_COLS_ORIGINAL}\")"
   ]
  },
  {
   "cell_type": "markdown",
   "id": "9ba70ad0",
   "metadata": {},
   "source": [
    "### 5.2. Feature Engineering & EDA"
   ]
  },
  {
   "cell_type": "code",
   "execution_count": null,
   "id": "111042c0",
   "metadata": {},
   "outputs": [
    {
     "name": "stdout",
     "output_type": "stream",
     "text": [
      "🔧 Dataframes concatenados. Total de filas: 14484\n",
      "✅ ComprehensiveFeatureEngineer inicializado. Umbral de pico: 25\n",
      "\n",
      "🚀 Ejecutando Comprehensive Feature Engineering...\n",
      "   -> Creando ratios avanzados de forma segura...\n",
      "✅ Ingeniería de características finalizada.\n",
      "\n",
      "✅ Separando dataframes con todas las features (aún con NaNs)...\n",
      "\n",
      "🚀 Aplicando imputación inteligente a cada conjunto por separado...\n",
      "Ejecutando SmartImputer...\n",
      " -> Imputando features de lag...\n",
      " -> Imputando features de rolling window con 0...\n",
      " -> Imputando ratios y tendencias...\n",
      " -> Imputando features de volatilidad...\n",
      " -> Imputando NaNs restantes con 0...\n",
      "Imputación inteligente finalizada.\n",
      "Ejecutando SmartImputer...\n",
      " -> Imputando features de lag...\n",
      " -> Imputando features de rolling window con 0...\n",
      " -> Imputando ratios y tendencias...\n",
      " -> Imputando features de volatilidad...\n",
      " -> Imputando NaNs restantes con 0...\n",
      "Imputación inteligente finalizada.\n",
      "Ejecutando SmartImputer...\n",
      " -> Imputando features de lag...\n",
      " -> Imputando features de rolling window con 0...\n",
      " -> Imputando ratios y tendencias...\n",
      " -> Imputando features de volatilidad...\n",
      " -> Imputando NaNs restantes con 0...\n",
      "Imputación inteligente finalizada.\n"
     ]
    }
   ],
   "source": [
    "\n",
    "# --- PASO 1: Concatenar para crear features que dependen del tiempo ---\n",
    "full_df_concatenated = pd.concat([df_train, df_val, df_test], ignore_index=True)\n",
    "print(f\"🔧 Dataframes concatenados. Total de filas: {len(full_df_concatenated)}\")\n",
    "\n",
    "# --- PASO 2: Crear TODAS las features con la nueva clase consolidada ---\n",
    "\n",
    "feature_creator = CoreFeatureEngineer(peak_threshold=25)\n",
    "full_df_featured = feature_creator.fit_transform(full_df_concatenated)\n",
    "\n",
    "# --- PASO 3: Volver a separar los dataframes ---\n",
    "print(\"\\n✅ Separando dataframes con todas las features (aún con NaNs)...\")\n",
    "train_dates = df_train[\"date\"].unique()\n",
    "val_date = df_val[\"date\"].unique()\n",
    "test_date = df_test[\"date\"].unique()\n",
    "features_train = full_df_featured[full_df_featured[\"date\"].isin(train_dates)].copy()\n",
    "features_val = full_df_featured[full_df_featured[\"date\"].isin(val_date)].copy()\n",
    "features_test = full_df_featured[full_df_featured[\"date\"].isin(test_date)].copy()\n",
    "\n",
    "# --- PASO 4: Imputar cada conjunto por separado ---\n",
    "print(\"\\n🚀 Aplicando imputación inteligente a cada conjunto por separado...\")\n",
    "imputer = SmartImputer(fill_value=0)\n",
    "\n",
    "features_train = imputer.fit_transform(features_train)\n",
    "features_val = imputer.transform(features_val)\n",
    "features_test = imputer.transform(features_test)"
   ]
  },
  {
   "cell_type": "markdown",
   "id": "5d0486b5",
   "metadata": {},
   "source": [
    "### **Grafico de estacionalidad**"
   ]
  },
  {
   "cell_type": "code",
   "execution_count": 15,
   "id": "24458f5f",
   "metadata": {},
   "outputs": [
    {
     "data": {
      "image/png": "[encoded data removed]",
      "text/plain": [
       "<Figure size 1400x800 with 1 Axes>"
      ]
     },
     "metadata": {},
     "output_type": "display_data"
    }
   ],
   "source": [
    "import calendar\n",
    "\n",
    "order = list(calendar.month_abbr)[1:]  # ['Jan', ..., 'Dec']\n",
    "\n",
    "# Excluir el último mes del dataset (mes objetivo de predicción)\n",
    "last_month = raw_df[\"date\"].max()\n",
    "raw_df_plot = raw_df[raw_df[\"date\"] < last_month].copy()\n",
    "\n",
    "# Asegurarse de que 'month' está disponible\n",
    "raw_df_plot[\"date\"] = pd.to_datetime(raw_df_plot[\"date\"])\n",
    "raw_df_plot[\"month\"] = raw_df_plot[\"date\"].dt.month\n",
    "\n",
    "# Mes como categoría ordenada\n",
    "raw_df_plot[\"month_abbr\"] = pd.Categorical(\n",
    "    raw_df_plot[\"date\"].dt.month.map(lambda m: calendar.month_abbr[m]),\n",
    "    categories=order,\n",
    "    ordered=True,\n",
    ")\n",
    "\n",
    "# Media mensual ya en la misma categoría/orden\n",
    "monthly_means = (\n",
    "    raw_df_plot.groupby(\"month_abbr\", observed=False)[\"monthly_sales\"]\n",
    "    .mean()\n",
    "    .reindex(order)\n",
    "    .reset_index()\n",
    ")\n",
    "\n",
    "plt.figure(figsize=(14, 8))\n",
    "sns.set_style(\"whitegrid\")\n",
    "\n",
    "ax = sns.boxplot(\n",
    "    x=\"month_abbr\",\n",
    "    y=\"monthly_sales\",\n",
    "    data=raw_df_plot,\n",
    "    order=order,\n",
    "    showfliers=False,\n",
    "    palette=\"pastel\",\n",
    ")\n",
    "\n",
    "sns.lineplot(\n",
    "    data=monthly_means,\n",
    "    x=\"month_abbr\",\n",
    "    y=\"monthly_sales\",\n",
    "    marker=\"o\",\n",
    "    color=\"red\",\n",
    "    label=\"Media Mensual\",\n",
    "    sort=False,\n",
    ")\n",
    "\n",
    "ax.set_xlabel(\"Mes\")\n",
    "ax.set_ylabel(\"Ventas Mensuales\")\n",
    "plt.title(\n",
    "    \"Distribución y Media de Ventas Mensuales (sin mes de predicción)\",\n",
    "    fontsize=18,\n",
    "    pad=20,\n",
    ")\n",
    "plt.legend()\n",
    "plt.tight_layout()\n",
    "plt.show()"
   ]
  },
  {
   "cell_type": "markdown",
   "id": "bb6b4a5a",
   "metadata": {},
   "source": [
    "El mes test a predecir (Octubre de 2015), históricamente presenta una distribución similar a setiembre verificamos que setiembre es un buen mes de validación. \n",
    "\n",
    "El gráfico confirma la fuerte estacionalidad con picos de ventas en los meses de fin de año (diciembre/enero), lo que valida la creación de features cíclicas (seno/coseno) y las interacciones con el mes."
   ]
  },
  {
   "cell_type": "markdown",
   "id": "48ebbf9a",
   "metadata": {},
   "source": [
    "### **Relación precio-ventas**"
   ]
  },
  {
   "cell_type": "code",
   "execution_count": 16,
   "id": "b59771eb",
   "metadata": {},
   "outputs": [
    {
     "data": {
      "image/png": "[encoded data removed]",
      "text/plain": [
       "<Figure size 1200x700 with 1 Axes>"
      ]
     },
     "metadata": {},
     "output_type": "display_data"
    }
   ],
   "source": [
    "# Crear los segmentos de precio\n",
    "bins = [0, 0.95, 1.05, 1.5, np.inf]\n",
    "labels = [\n",
    "    \"Descuento (<0.95)\",\n",
    "    \"Normal (0.95-1.05)\",\n",
    "    \"Premium (1.05-1.5)\",\n",
    "    \"Nuevo/Lujo (>1.5)\",\n",
    "]\n",
    "df_segmented = features_train.copy()\n",
    "df_segmented[\"price_segment\"] = pd.cut(\n",
    "    df_segmented[\"price_vs_historical_avg_ratio\"], bins=bins, labels=labels\n",
    ")\n",
    "\n",
    "# Graficar\n",
    "plt.figure(figsize=(12, 7))\n",
    "sns.kdeplot(\n",
    "    data=df_segmented.dropna(subset=[\"price_segment\"]),\n",
    "    x=\"monthly_sales\",\n",
    "    hue=\"price_segment\",  # Una curva por cada segmento\n",
    "    fill=True,\n",
    "    common_norm=False,  # Normaliza cada curva por separado\n",
    "    alpha=0.3,\n",
    ")\n",
    "plt.title(\"Distribución de Ventas por Segmento de Precio\", fontsize=16)\n",
    "plt.xlabel(\"Ventas Mensuales\")\n",
    "plt.ylabel(\"Densidad\")\n",
    "plt.show()"
   ]
  },
  {
   "cell_type": "markdown",
   "id": "408d5c8b",
   "metadata": {},
   "source": [
    "Observamos que la mayor frecuencia de ventas (densidad en el grafico) se produce cuando el producto es relativamente más caro, esto va ligado a la estacionalidad de las ventas."
   ]
  },
  {
   "cell_type": "code",
   "execution_count": 17,
   "id": "59e44a68",
   "metadata": {},
   "outputs": [
    {
     "data": {
      "image/png": "[encoded data removed]",
      "text/plain": [
       "<Figure size 640x480 with 1 Axes>"
      ]
     },
     "metadata": {},
     "output_type": "display_data"
    }
   ],
   "source": [
    "feature_to_plot = \"price_vs_historical_avg_ratio\"\n",
    "target = \"monthly_sales\"\n",
    "\n",
    "sample_df = features_train.sample(\n",
    "    n=2000, random_state=42\n",
    ")  # Usar una muestra para agilidad\n",
    "sns.regplot(\n",
    "    data=sample_df,\n",
    "    x=feature_to_plot,\n",
    "    y=target,\n",
    "    scatter_kws={\"alpha\": 0.2},\n",
    "    line_kws={\"color\": \"red\"},\n",
    "    lowess=True,\n",
    ")\n",
    "plt.title(f\"Relación entre {feature_to_plot} y {target}\")\n",
    "plt.show()"
   ]
  },
  {
   "cell_type": "markdown",
   "id": "555fbc34",
   "metadata": {},
   "source": [
    "- Relación no lineal entre el precio y las ventas.\n",
    "- El mínimo de ventas esta cerca del precio promedio.\n",
    "- Ligero repunte en ventas cuando el precio es menor al promedio."
   ]
  },
  {
   "cell_type": "code",
   "execution_count": 18,
   "id": "04e7764c",
   "metadata": {},
   "outputs": [
    {
     "data": {
      "image/png": "[encoded data removed]",
      "text/plain": [
       "<Figure size 1000x600 with 1 Axes>"
      ]
     },
     "metadata": {},
     "output_type": "display_data"
    },
    {
     "name": "stdout",
     "output_type": "stream",
     "text": [
      "Porcentaje de series con más de un 40% de ceros: 0.00%\n"
     ]
    }
   ],
   "source": [
    "# Calcula la proporción de ventas cero para cada serie temporal\n",
    "df_full_history = pd.concat([df_train, df_val], ignore_index=True)\n",
    "\n",
    "zero_sales_ratio = df_full_history.groupby(\"unique_id\")[\"monthly_sales\"].apply(\n",
    "    lambda s: (s == 0).sum() / len(s)\n",
    ")\n",
    "\n",
    "# Visualiza la distribución de esta proporción\n",
    "plt.figure(figsize=(10, 6))\n",
    "sns.histplot(zero_sales_ratio, bins=20, kde=True)\n",
    "plt.title(\"Distribución de la Proporción de Ventas Cero por unique_id\")\n",
    "plt.xlabel(\"Proporción de Meses con Cero Ventas\")\n",
    "plt.ylabel(\"Número de Series (unique_id)\")\n",
    "plt.axvline(0.4, color=\"red\", linestyle=\"--\", label=\"Umbral del 40%\")\n",
    "plt.legend()\n",
    "plt.show()\n",
    "\n",
    "print(\n",
    "    f\"Porcentaje de series con más de un 40% de ceros: {(zero_sales_ratio > 0.4).mean() * 100:.2f}%\"\n",
    ")"
   ]
  },
  {
   "cell_type": "markdown",
   "id": "7e0fa40d",
   "metadata": {},
   "source": [
    "Los meses con cero ventas no son predominantes, esto es importante para escoger correctamente nuestro función objetivo del modelo."
   ]
  },
  {
   "cell_type": "code",
   "execution_count": 19,
   "id": "eaba5c3a",
   "metadata": {},
   "outputs": [
    {
     "data": {
      "image/png": "[encoded data removed]",
      "text/plain": [
       "<Figure size 1000x600 with 1 Axes>"
      ]
     },
     "metadata": {},
     "output_type": "display_data"
    }
   ],
   "source": [
    "feature_to_plot = \"is_holiday_month\"\n",
    "target = \"monthly_sales\"\n",
    "\n",
    "plt.figure(figsize=(10, 6))\n",
    "sns.boxplot(data=features_train, x=feature_to_plot, y=target)\n",
    "plt.title(f\"Distribución de {target} por {feature_to_plot}\")\n",
    "plt.show()"
   ]
  },
  {
   "cell_type": "markdown",
   "id": "87f2627b",
   "metadata": {},
   "source": [
    "Hay una clara estacionalidad de ventas en los meses de enero y diciembre las ventas son claramente superiores, tanto la mediana como el tercer cuartil.\n"
   ]
  },
  {
   "cell_type": "markdown",
   "id": "330cd048",
   "metadata": {},
   "source": [
    "### **5.3 Data Preparation**"
   ]
  },
  {
   "cell_type": "markdown",
   "id": "89a77d0b",
   "metadata": {},
   "source": [
    "\n",
    "\n",
    "**Estrategia de Validación:** Para simular un escenario de producción real donde predecimos el futuro, se utiliza una estrategia de validación temporal simple y robusta:\n",
    "-   **Train Set:** Todos los meses disponibles excepto los dos últimos.\n",
    "-   **Validation Set:** El penúltimo mes del historial.\n",
    "-   **Test Set:** El último mes del historial (nuestro objetivo final de predicción).\n",
    "\n",
    "**¿Por qué se ha decidido este tipo de validación del modelo?**\n",
    "- Por la naturaleza de nuestros datos de series temporales, es crucial que la validación simule un entorno de producción real, donde predecimos el futuro utilizando únicamente información del pasado. Por ello, se descartaron técnicas como la validación cruzada estándar (K-Fold), que mezclaría datos futuros en los pliegues de entrenamiento, provocando una fuga de datos y una evaluación de rendimiento demasiado optimista.\n",
    "\n",
    "La estrategia elegida, **validar con el mes N-1 y testear con el mes N**, es la más robusta para este problema porque:\n",
    "\n",
    "1. **Mantiene la Causalidad Temporal**: Asegura que el modelo nunca vea datos del futuro durante su entrenamiento o validación.\n",
    "\n",
    "2. **Simula el Despliegue:** Refleja exactamente cómo se usaría el modelo en producción: entrenar con toda la historia disponible para predecir el siguiente mes.\n",
    "\n",
    "3. **Relevancia de los Datos Recientes**: Al validar con el mes más cercano al de test, evaluamos el rendimiento del modelo sobre las condiciones más recientes del mercado, lo cual es fundamental en un entorno de retail dinámico.\n",
    "\n",
    "Aunque se consideraron métodos como Prophet o ARIMAs, la gran cantidad de series temporales (miles de combinaciones tienda-producto) y la riqueza de las características externas (precio, categoría, etc.) hacen que un enfoque basado en Gradient Boosting sea más adecuado y escalable.\n"
   ]
  },
  {
   "cell_type": "code",
   "execution_count": 20,
   "id": "0a895f00",
   "metadata": {},
   "outputs": [
    {
     "name": "stdout",
     "output_type": "stream",
     "text": [
      "✅ features_* ordenados y validados (unique_id, date).\n"
     ]
    }
   ],
   "source": [
    "# === Orden y saneo previos (crítico para lags/rolling) ===\n",
    "for name, df_name in [\n",
    "    (\"train\", \"features_train\"),\n",
    "    (\"val\", \"features_val\"),\n",
    "    (\"test\", \"features_test\"),\n",
    "]:\n",
    "    df = globals()[df_name]\n",
    "\n",
    "    # Tipos correctos\n",
    "    df[\"date\"] = pd.to_datetime(df[\"date\"])\n",
    "    df[\"unique_id\"] = df[\"unique_id\"].astype(str)\n",
    "\n",
    "    # Sin duplicados clave\n",
    "    dups = df.duplicated([\"unique_id\", \"date\"]).sum()\n",
    "    assert dups == 0, f\"Duplicados en ({df_name}): {dups}\"\n",
    "\n",
    "    # Orden causal\n",
    "    df = df.sort_values([\"unique_id\", \"date\"]).reset_index(drop=True)\n",
    "\n",
    "    # Monotonía por serie\n",
    "    mono = (\n",
    "        df.groupby(\"unique_id\")[\"date\"].apply(lambda s: s.is_monotonic_increasing).all()\n",
    "    )\n",
    "    assert mono, f\"{df_name} no es monótono por unique_id\"\n",
    "\n",
    "    globals()[df_name] = df  # guardar de vuelta\n",
    "\n",
    "print(\"✅ features_* ordenados y validados (unique_id, date).\")"
   ]
  },
  {
   "cell_type": "code",
   "execution_count": null,
   "id": "08737fa5",
   "metadata": {},
   "outputs": [
    {
     "name": "stdout",
     "output_type": "stream",
     "text": [
      "✅ Conjuntos X/y base creados.\n",
      "   -> Dimensiones de X_train: (13632, 44)\n",
      "\n",
      "Categóricas para CatBoost (raw): ['shop_id', 'item_id', 'item_category_id', 'month', 'year', 'shop_category_interaction', 'city_id']\n"
     ]
    }
   ],
   "source": [
    "\n",
    "TARGET = \"monthly_sales\"\n",
    "COLS_TO_DROP = [TARGET, \"date\", \"unique_id\"]\n",
    "\n",
    "# 1) X/y base (raw)\n",
    "X_train = features_train.drop(columns=COLS_TO_DROP)\n",
    "y_train = features_train[TARGET]\n",
    "X_val = features_val.drop(columns=COLS_TO_DROP)\n",
    "y_val = features_val[TARGET]\n",
    "X_test = features_test.drop(columns=COLS_TO_DROP)\n",
    "\n",
    "# Alinear columnas raw por seguridad\n",
    "X_val = X_val[X_train.columns]\n",
    "X_test = X_test[X_train.columns]\n",
    "\n",
    "# Targets en log \n",
    "y_train_log = np.log1p(y_train)\n",
    "y_val_log = np.log1p(y_val)\n",
    "\n",
    "print(\"✅ Conjuntos X/y base creados.\")\n",
    "print(f\"   -> Dimensiones de X_train: {X_train.shape}\")\n",
    "\n",
    "\n",
    "# ----------------------------------------------------------------------\n",
    "# 3) Definición de categóricas (solo para modelos que las usan en RAW)\n",
    "# ----------------------------------------------------------------------\n",
    "all_possible_categoricals = [\n",
    "    \"shop_id\",\n",
    "    \"item_id\",\n",
    "    \"item_category_id\",\n",
    "    \"month\",\n",
    "    \"year\",\n",
    "    \"shop_category_interaction\",\n",
    "    \"city_id\",\n",
    "]\n",
    "categorical_cols_original = [\n",
    "    c for c in all_possible_categoricals if c in X_train.columns\n",
    "]\n",
    "print(f\"\\nCategóricas para CatBoost (raw): {categorical_cols_original}\")"
   ]
  },
  {
   "cell_type": "code",
   "execution_count": null,
   "id": "aa3f501b",
   "metadata": {},
   "outputs": [
    {
     "name": "stdout",
     "output_type": "stream",
     "text": [
      "\n",
      "✅ Target Encoding TIME-AWARE aplicado sin fuga.\n",
      "   -> Dimensiones de X_train_encoded_reg: (13632, 44)\n"
     ]
    }
   ],
   "source": [
    "# ----------------------------------------------------------------------\n",
    "# 2) Target Encoding TIME-AWARE (sin fuga, por bloques temporales t-1)\n",
    "#    - Usa 'date_block_num' creado por CoreFeatureEngineer._add_time_features\n",
    "#    - y_train en escala ORIGINAL (no usar y_train_log aquí)\n",
    "# ----------------------------------------------------------------------\n",
    "\n",
    "# 2.1) Columnas categóricas a codificar (las mismas que en tu bloque anterior)\n",
    "cols_for_encoding = [\n",
    "    \"shop_category_interaction\",\n",
    "    \"item_category_id\",\n",
    "    \"shop_id\",\n",
    "    \"item_id\",\n",
    "    \"city_id\",\n",
    "]\n",
    "\n",
    "# 2.2) Sanity checks\n",
    "assert (\n",
    "    \"date_block_num\" in X_train.columns\n",
    "), \"Falta 'date_block_num' en X_train. Revisa _add_time_features.\"\n",
    "for c in cols_for_encoding:\n",
    "    assert c in X_train.columns, f\"Falta columna categórica '{c}' en X_train.\"\n",
    "\n",
    "# 2.3) Instancia del codificador time-aware.\n",
    "# Nota: usamos alpha=200 para suavizado.\n",
    "te_time = TargetEncoderTimeAware(\n",
    "    cols=cols_for_encoding,\n",
    "    date_col=\"date_block_num\",\n",
    "    alpha=200.0,  # suavizado para categorías raras \n",
    "    noise=0.01,  # regularización ligera SOLO en train\n",
    "    min_samples=1,\n",
    "    drop_original=True,  # quita las columnas categóricas crudas y deja *_enc\n",
    "    handle_unknown=\"global_mean\",\n",
    ")\n",
    "\n",
    "# 2.4) Aplicación del encoding\n",
    "# IMPORTANTÍSIMO: pasar el DataFrame COMPLETO (no sólo las cols categóricas),\n",
    "#                 porque el transformador mantiene el resto de features tal cual.\n",
    "X_train_encoded_reg = te_time.fit_transform(X_train.copy(), y_train)\n",
    "X_val_encoded_reg = te_time.transform(X_val.copy())\n",
    "X_test_encoded_reg = te_time.transform(X_test.copy())\n",
    "\n",
    "# 2.5) Alinear columnas por seguridad (mismo orden para val/test que train)\n",
    "X_val_encoded_reg = X_val_encoded_reg.reindex(\n",
    "    columns=X_train_encoded_reg.columns, fill_value=np.nan\n",
    ")\n",
    "X_test_encoded_reg = X_test_encoded_reg.reindex(\n",
    "    columns=X_train_encoded_reg.columns, fill_value=np.nan\n",
    ")\n",
    "\n",
    "# 2.6) Sanity checks finales\n",
    "print(\"\\n✅ Target Encoding TIME-AWARE aplicado sin fuga.\")\n",
    "print(\"   -> Dimensiones de X_train_encoded_reg:\", X_train_encoded_reg.shape)\n",
    "assert list(X_val_encoded_reg.columns) == list(\n",
    "    X_train_encoded_reg.columns\n",
    "), \"Columnas de VAL no alineadas con TRAIN\"\n",
    "assert list(X_test_encoded_reg.columns) == list(\n",
    "    X_train_encoded_reg.columns\n",
    "), \"Columnas de TEST no alineadas con TRAIN\""
   ]
  },
  {
   "cell_type": "markdown",
   "id": "c07110b1",
   "metadata": {},
   "source": [
    "## 5.4 Model training"
   ]
  },
  {
   "cell_type": "markdown",
   "id": "161a5248",
   "metadata": {},
   "source": [
    "No todos los modelos aprenden de la misma manera. Una estrategia clave para construir un ensamble robusto es entrenar modelos con diferentes funciones objetivo (objective). Cada función le enseña al modelo a optimizar el error desde una perspectiva matemática distinta, lo que resulta en predicciones diversas que se complementan entre sí.\n",
    "\n",
    "Dada la naturaleza de nuestros datos de ventas (números enteros, con presencia de ceros y una distribución sesgada), se eligieron las siguientes funciones objetivo:\n",
    "\n",
    "- **regression_l1** (MAE - Error Absoluto Medio): Este objetivo es menos sensible a los valores atípicos que el RMSE estándar. Aunque ya hemos realizado un capping de outliers, las ventas en meses de alta demanda (como diciembre) pueden seguir siendo significativamente altas. Un modelo L1 tiende a producir predicciones más estables y cercanas a la mediana, lo cual es útil para el ensamble.\n",
    "\n",
    "- **poisson**: La regresión de Poisson está diseñada específicamente para modelar datos de conteo (como el número de unidades vendidas). Asume que la varianza es igual a la media y es una elección natural para este tipo de datos, especialmente porque maneja bien los valores cero, que son comunes en productos con ventas intermitentes.\n",
    "\n",
    "- **tweedie**: Es una función objetivo muy potente y flexible, ideal para nuestro caso. La distribución Tweedie es una generalización que puede modelar distribuciones con una mezcla de ceros exactos y valores positivos continuos y sesgados (como las ventas). El parámetro tweedie_variance_power=1.5 la sitúa entre una distribución de Poisson (valor=1) y una Gamma (valor=2), capturando perfectamente la naturaleza de \"cero-inflado\" de los datos de ventas.\n",
    "\n",
    "- **reg:squarederror** con Transformación Logarítmica: Para XGBoost y CatBoost, en lugar de cambiar el objetivo, transformamos la variable objetivo aplicándole el logaritmo (np.log1p). Esto ayuda a normalizar la distribución de las ventas, que está muy sesgada a la derecha. El modelo, al minimizar el error cuadrático sobre el logaritmo, penaliza más los errores relativos (porcentuales) que los absolutos. Esto evita que unas pocas predicciones con ventas muy altas dominen la función de pérdida y resulta en un modelo más equilibrado."
   ]
  },
  {
   "cell_type": "code",
   "execution_count": 23,
   "id": "693a801f",
   "metadata": {},
   "outputs": [],
   "source": [
    "# ==============================================================================\n",
    "# CELDA 33: CONFIGURACIÓN DE MODELOS (VERSIÓN AFINADA)\n",
    "# ==============================================================================\n",
    "def get_model_configs():\n",
    "    \"\"\"\n",
    "    Retorna configuraciones afinadas para cada modelo.\n",
    "    - Estrategia: Dar más capacidad a los modelos con subajuste (Tweedie, L1, CatBoost).\n",
    "    -           Hacer ajustes finos en los modelos bien calibrados (Poisson, XGBoost).\n",
    "    \"\"\"\n",
    "\n",
    "    return {\n",
    "        \"LightGBM_L1\": {\n",
    "            \"model\": lgb.LGBMRegressor,\n",
    "            \"params\": {\n",
    "                \"objective\": \"regression_l1\",\n",
    "                \"metric\": \"rmse\",\n",
    "                \"n_estimators\": 6000,\n",
    "                \"learning_rate\": 0.03,\n",
    "                \"num_leaves\": 40,\n",
    "                \"max_depth\": 9,\n",
    "                \"min_child_samples\": 30,\n",
    "                \"subsample\": 0.85,\n",
    "                \"colsample_bytree\": 0.80,\n",
    "                \"reg_alpha\": 0.1,\n",
    "                \"reg_lambda\": 0.5,\n",
    "                \"random_state\": 42,\n",
    "                \"n_jobs\": -1,\n",
    "                \"verbose\": -1,\n",
    "            },\n",
    "            \"target_scale\": \"log\",\n",
    "        },\n",
    "        \"LightGBM_Tweedie\": {\n",
    "            \"model\": lgb.LGBMRegressor,\n",
    "            \"params\": {\n",
    "                \"objective\": \"tweedie\",\n",
    "                \"metric\": \"rmse\",\n",
    "                \"tweedie_variance_power\": 1.56,  # mantenemos el p ganador\n",
    "                \"n_estimators\": 20000,\n",
    "                \"learning_rate\": 0.015,\n",
    "                \"num_leaves\": 127,  # ↓ desde 191\n",
    "                \"max_depth\": -1,\n",
    "                \"min_child_samples\": 100,  # ↑ desde 40\n",
    "                \"feature_fraction\": 0.75,  # ↓ desde 0.85\n",
    "                \"bagging_fraction\": 0.75,  # ↓ desde 0.85\n",
    "                \"bagging_freq\": 5,\n",
    "                \"reg_alpha\": 0.1,\n",
    "                \"reg_lambda\": 2.0,  # ↑ regularización\n",
    "                \"max_bin\": 255,\n",
    "                \"min_sum_hessian_in_leaf\": 0.01,\n",
    "                \"random_state\": 42,\n",
    "                \"n_jobs\": -1,\n",
    "                \"verbose\": -1,\n",
    "            },\n",
    "            \"target_scale\": \"original\",\n",
    "        },\n",
    "        \"LightGBM_Poisson\": {\n",
    "            \"model\": lgb.LGBMRegressor,\n",
    "            \"params\": {\n",
    "                \"objective\": \"poisson\",\n",
    "                \"metric\": \"rmse\",\n",
    "                \"n_estimators\": 6000,\n",
    "                \"learning_rate\": 0.03,\n",
    "                \"num_leaves\": 25,\n",
    "                \"max_depth\": 7,\n",
    "                \"min_child_samples\": 100,\n",
    "                \"feature_fraction\": 0.70,\n",
    "                \"bagging_fraction\": 0.75,\n",
    "                \"bagging_freq\": 1,\n",
    "                \"reg_alpha\": 0.5,\n",
    "                \"reg_lambda\": 2.0,\n",
    "                \"random_state\": 42,\n",
    "                \"n_jobs\": -1,\n",
    "                \"verbose\": -1,\n",
    "            },\n",
    "            \"target_scale\": \"original\",\n",
    "        },\n",
    "        \"XGBoost\": {\n",
    "            \"model\": xgb.XGBRegressor,\n",
    "            \"params\": {\n",
    "                \"objective\": \"reg:squarederror\",\n",
    "                \"eval_metric\": \"rmse\",\n",
    "                \"n_estimators\": 4000,\n",
    "                \"learning_rate\": 0.025,\n",
    "                \"max_depth\": 8,\n",
    "                \"subsample\": 0.8,\n",
    "                \"colsample_bytree\": 0.75,\n",
    "                \"min_child_weight\": 5,\n",
    "                \"gamma\": 0.5,\n",
    "                \"reg_alpha\": 0.1,\n",
    "                \"reg_lambda\": 2.5,\n",
    "                \"n_jobs\": -1,\n",
    "                \"seed\": 175,\n",
    "            },\n",
    "            \"target_scale\": \"log\",\n",
    "        },\n",
    "        \"CatBoost\": {\n",
    "            \"model\": CatBoostRegressor,\n",
    "            \"params\": {\n",
    "                \"iterations\": 8000,\n",
    "                \"learning_rate\": 0.04,\n",
    "                \"depth\": 10,\n",
    "                \"l2_leaf_reg\": 1.5,\n",
    "                \"subsample\": 0.90,\n",
    "                \"bootstrap_type\": \"Bernoulli\",\n",
    "                \"random_strength\": 0.3,\n",
    "                \"rsm\": 0.85,\n",
    "                \"loss_function\": \"RMSE\",\n",
    "                \"eval_metric\": \"RMSE\",\n",
    "                \"early_stopping_rounds\": 300,\n",
    "                \"verbose\": False,\n",
    "                \"random_seed\": 42,\n",
    "                \"task_type\": \"CPU\",\n",
    "            },\n",
    "            \"target_scale\": \"log\",\n",
    "        },\n",
    "        \"RandomForest\": {\n",
    "            \"model\": RandomForestRegressor,\n",
    "            \"params\": {\n",
    "                \"n_estimators\": 500,\n",
    "                \"max_depth\": 12,\n",
    "                \"min_samples_split\": 15,\n",
    "                \"min_samples_leaf\": 8,\n",
    "                \"max_features\": \"sqrt\",\n",
    "                \"n_jobs\": -1,\n",
    "                \"random_state\": 42,\n",
    "            },\n",
    "            \"target_scale\": \"log\",\n",
    "        },\n",
    "    }"
   ]
  },
  {
   "cell_type": "code",
   "execution_count": 24,
   "id": "11a52d9b",
   "metadata": {},
   "outputs": [
    {
     "name": "stdout",
     "output_type": "stream",
     "text": [
      "🚀 INICIANDO ENTRENAMIENTO DE MODELOS BASE (FULL encoded para LGBM/XGB)\n",
      "======================================================================\n",
      "\n",
      "[1/6] 🏋️ ENTRENANDO LightGBM_L1\n",
      "✅ Modelo creado: LGBMRegressor\n",
      "   -> Target: LOGARÍTMICA\n",
      "🔄 Entrenando LightGBM_L1...\n",
      "✅ LightGBM_L1 entrenado exitosamente\n",
      "📊 Evaluando LightGBM_L1...\n",
      "✅ LightGBM_L1 → RMSE Train: 2.8796 | RMSE Val: 2.7645 | Gap: 0.960x\n",
      "--------------------------------------------------\n",
      "\n",
      "[2/6] 🏋️ ENTRENANDO LightGBM_Tweedie\n",
      "✅ Modelo creado: LGBMRegressor\n",
      "   -> Target: ORIGINAL\n",
      "🔄 Entrenando LightGBM_Tweedie...\n",
      "✅ LightGBM_Tweedie entrenado exitosamente\n",
      "📊 Evaluando LightGBM_Tweedie...\n",
      "✅ LightGBM_Tweedie → RMSE Train: 2.6831 | RMSE Val: 2.7445 | Gap: 1.023x\n",
      "--------------------------------------------------\n",
      "\n",
      "[3/6] 🏋️ ENTRENANDO LightGBM_Poisson\n",
      "✅ Modelo creado: LGBMRegressor\n",
      "   -> Target: ORIGINAL\n",
      "🔄 Entrenando LightGBM_Poisson...\n",
      "✅ LightGBM_Poisson entrenado exitosamente\n",
      "📊 Evaluando LightGBM_Poisson...\n",
      "✅ LightGBM_Poisson → RMSE Train: 2.6414 | RMSE Val: 2.7604 | Gap: 1.045x\n",
      "--------------------------------------------------\n",
      "\n",
      "[4/6] 🏋️ ENTRENANDO XGBoost\n",
      "✅ Modelo creado: XGBRegressor\n",
      "   -> Target: LOGARÍTMICA\n",
      "🔄 Entrenando XGBoost...\n",
      "✅ XGBoost entrenado exitosamente\n",
      "📊 Evaluando XGBoost...\n",
      "✅ XGBoost → RMSE Train: 2.6525 | RMSE Val: 2.7537 | Gap: 1.038x\n",
      "--------------------------------------------------\n",
      "\n",
      "[5/6] 🏋️ ENTRENANDO CatBoost\n",
      "✅ Modelo creado: CatBoostRegressor\n",
      "   -> Target: LOGARÍTMICA\n",
      "🔄 Entrenando CatBoost...\n",
      "✅ CatBoost entrenado exitosamente\n",
      "📊 Evaluando CatBoost...\n",
      "✅ CatBoost → RMSE Train: 2.8703 | RMSE Val: 2.7067 | Gap: 0.943x\n",
      "--------------------------------------------------\n",
      "\n",
      "[6/6] 🏋️ ENTRENANDO RandomForest\n",
      "✅ Modelo creado: RandomForestRegressor\n",
      "   -> Target: LOGARÍTMICA\n",
      "🔄 Entrenando RandomForest...\n",
      "✅ RandomForest entrenado exitosamente\n",
      "📊 Evaluando RandomForest...\n",
      "✅ RandomForest → RMSE Train: 3.0463 | RMSE Val: 2.7474 | Gap: 0.902x\n",
      "--------------------------------------------------\n",
      "\n",
      "======================================================================\n",
      "🏁 ENTRENAMIENTO COMPLETADO\n",
      "\n",
      "🏆 MEJOR MODELO BASE: CatBoost\n",
      "📈 RMSE Val: 2.7067 | RMSE Train: 2.8703\n",
      "\n",
      "📊 RESUMEN COMPLETO:\n",
      "------------------------------------------------------------\n",
      "CatBoost        | RMSE Train: 2.8703 | RMSE Val: 2.7067 | Encoded: False | Best it: 8000\n",
      "LightGBM_Tweedie | RMSE Train: 2.6831 | RMSE Val: 2.7445 | Encoded: True | Best it: 449\n",
      "RandomForest    | RMSE Train: 3.0463 | RMSE Val: 2.7474 | Encoded: False | Best it: None\n",
      "XGBoost         | RMSE Train: 2.6525 | RMSE Val: 2.7537 | Encoded: True | Best it: 231\n",
      "LightGBM_Poisson | RMSE Train: 2.6414 | RMSE Val: 2.7604 | Encoded: True | Best it: 1162\n",
      "LightGBM_L1     | RMSE Train: 2.8796 | RMSE Val: 2.7645 | Encoded: True | Best it: 580\n"
     ]
    }
   ],
   "source": [
    "# ================================\n",
    "# ENTRENAMIENTO MODELOS BASE (FULL)\n",
    "# ================================\n",
    "\n",
    "\n",
    "def _select_data_for_model(name, X_raw_train, X_raw_val, X_enc_train, X_enc_val):\n",
    "    \"\"\"Devuelve (Xtr, Xval, uses_encoded) según el modelo.\"\"\"\n",
    "    if name in [\"CatBoost\", \"RandomForest\"]:\n",
    "        return X_raw_train, X_raw_val, False\n",
    "    else:\n",
    "        return X_enc_train, X_enc_val, True\n",
    "\n",
    "\n",
    "def _inverse_target_if_needed(arr, target_scale):\n",
    "    \"\"\"Devuelve y en escala ORIGINAL según la config del modelo.\"\"\"\n",
    "    return np.expm1(arr) if target_scale == \"log\" else arr\n",
    "\n",
    "\n",
    "def _best_pred_lgb(model, X):\n",
    "    \"\"\"Predicción LightGBM usando best_iteration si existe.\"\"\"\n",
    "    num_iter = (\n",
    "        getattr(model, \"best_iteration_\", None)\n",
    "        or getattr(model, \"best_iteration\", None)\n",
    "        or getattr(model, \"n_estimators\", None)\n",
    "    )\n",
    "    return model.predict(X, num_iteration=num_iter)\n",
    "\n",
    "\n",
    "def _best_pred_xgb(model, X):\n",
    "    \"\"\"Predicción XGBoost usando mejor límite de árboles si existe.\"\"\"\n",
    "\n",
    "    best_iter = getattr(model, \"best_iteration\", None)\n",
    "    if best_iter is not None:\n",
    "\n",
    "        try:\n",
    "            return model.predict(X, iteration_range=(0, best_iter + 1))\n",
    "        except TypeError:\n",
    "            pass\n",
    "\n",
    "    ntree_limit = getattr(model, \"best_ntree_limit\", None) or getattr(\n",
    "        getattr(model, \"get_booster\", lambda: None)(), \"best_ntree_limit\", None\n",
    "    )\n",
    "    if ntree_limit:\n",
    "        return model.predict(X, ntree_limit=ntree_limit)\n",
    "    return model.predict(X)\n",
    "\n",
    "\n",
    "def _clip_positive(arr, low=0.0, high=30.0):\n",
    "    return np.clip(arr, low, high)\n",
    "\n",
    "\n",
    "# --- preparación de columnas para encoded ---\n",
    "# Alinea columnas para evitar KeyError si hubo drift entre train/val\n",
    "X_val_encoded_reg = X_val_encoded_reg.reindex(\n",
    "    columns=X_train_encoded_reg.columns, fill_value=0.0\n",
    ")\n",
    "\n",
    "early_stopping_patience = 300  # un poco más generoso para CatBoost/LGBM con 6k-8k trees\n",
    "model_configs = get_model_configs()\n",
    "\n",
    "results = {}\n",
    "trained_models = {}\n",
    "trained_feature_cols = {}\n",
    "trained_meta = {}\n",
    "\n",
    "print(\"🚀 INICIANDO ENTRENAMIENTO DE MODELOS BASE (FULL encoded para LGBM/XGB)\")\n",
    "print(\"=\" * 70)\n",
    "\n",
    "for i, (name, config) in enumerate(model_configs.items(), 1):\n",
    "    print(f\"\\n[{i}/{len(model_configs)}] 🏋️ ENTRENANDO {name}\")\n",
    "\n",
    "    model_class = config[\"model\"]\n",
    "    params = config[\"params\"].copy()\n",
    "    target_scale = config[\"target_scale\"]\n",
    "\n",
    "    # --- crear modelo ---\n",
    "    model = model_class(**params)\n",
    "    print(f\"✅ Modelo creado: {type(model).__name__}\")\n",
    "\n",
    "    # --- target ---\n",
    "    if target_scale == \"log\":\n",
    "        print(\"   -> Target: LOGARÍTMICA\")\n",
    "        y_train_fit, y_val_fit = y_train_log, y_val_log\n",
    "    else:\n",
    "        print(\"   -> Target: ORIGINAL\")\n",
    "        y_train_fit, y_val_fit = y_train, y_val\n",
    "\n",
    "    # --- seleccionar dataset (RAW vs ENCODED) ---\n",
    "    X_tr, X_vl, used_encoded = _select_data_for_model(\n",
    "        name, X_train, X_val, X_train_encoded_reg, X_val_encoded_reg\n",
    "    )\n",
    "    trained_feature_cols[name] = list(X_tr.columns)\n",
    "\n",
    "    # --- entrenamiento con early stopping por modelo ---\n",
    "    print(f\"🔄 Entrenando {name}...\")\n",
    "    if \"LightGBM\" in name:\n",
    "        model.fit(\n",
    "            X_tr,\n",
    "            y_train_fit,\n",
    "            eval_set=[(X_vl, y_val_fit)],\n",
    "            callbacks=[\n",
    "                lgb.early_stopping(early_stopping_patience, verbose=False),\n",
    "                lgb.log_evaluation(0),\n",
    "            ],\n",
    "        )\n",
    "\n",
    "    elif name == \"XGBoost\":\n",
    "        # XGBEarlyStopping\n",
    "        model.fit(\n",
    "            X_tr,\n",
    "            y_train_fit,\n",
    "            eval_set=[(X_vl, y_val_fit)],\n",
    "            verbose=False,\n",
    "            callbacks=[\n",
    "                XGBEarlyStopping(rounds=early_stopping_patience, save_best=True)\n",
    "            ],\n",
    "        )\n",
    "\n",
    "    elif name == \"CatBoost\":\n",
    "        # CatBoost en datos RAW, usa best model automático con eval_set\n",
    "        model.fit(\n",
    "            X_tr,\n",
    "            y_train_fit,\n",
    "            eval_set=(X_vl, y_val_fit),\n",
    "            cat_features=categorical_cols_original,\n",
    "            use_best_model=True,\n",
    "            verbose=False,\n",
    "        )\n",
    "\n",
    "    elif name == \"RandomForest\":\n",
    "        model.fit(X_tr, y_train_fit)\n",
    "\n",
    "    print(f\"✅ {name} entrenado exitosamente\")\n",
    "\n",
    "    # --- predicción usando la mejor iteración ---\n",
    "    print(f\"📊 Evaluando {name}...\")\n",
    "\n",
    "    if \"LightGBM\" in name:\n",
    "        preds_val = _best_pred_lgb(model, X_vl)\n",
    "        preds_trn = _best_pred_lgb(model, X_tr)\n",
    "        best_it = getattr(model, \"best_iteration_\", None) or getattr(\n",
    "            model, \"best_iteration\", None\n",
    "        )\n",
    "    elif name == \"XGBoost\":\n",
    "        preds_val = _best_pred_xgb(model, X_vl)\n",
    "        preds_trn = _best_pred_xgb(model, X_tr)\n",
    "        best_it = getattr(model, \"best_iteration\", None)\n",
    "    elif name == \"CatBoost\":\n",
    "        preds_val = model.predict(X_vl)\n",
    "        preds_trn = model.predict(X_tr)\n",
    "        best_it = model.get_params().get(\n",
    "            \"iterations\", None\n",
    "        )  # CatBoost ya guardó el best interno\n",
    "    else:  # RandomForest\n",
    "        preds_val = model.predict(X_vl)\n",
    "        preds_trn = model.predict(X_tr)\n",
    "        best_it = None\n",
    "\n",
    "    # --- escala original + clipping coherente ---\n",
    "    preds_val_orig = _inverse_target_if_needed(preds_val, target_scale)\n",
    "    preds_trn_orig = _inverse_target_if_needed(preds_trn, target_scale)\n",
    "\n",
    "    preds_val_orig = _clip_positive(preds_val_orig, 0, 30)\n",
    "    preds_trn_orig = _clip_positive(preds_trn_orig, 0, 30)\n",
    "\n",
    "    val_preds_original = val_preds_original if \"val_preds_original\" in globals() else {}\n",
    "    val_preds_original[name] = preds_val_orig\n",
    "\n",
    "    train_preds_original = (\n",
    "        train_preds_original if \"train_preds_original\" in globals() else {}\n",
    "    )\n",
    "    train_preds_original[name] = preds_trn_orig\n",
    "\n",
    "    # --- métricas ---\n",
    "    rmse_val = np.sqrt(mean_squared_error(y_val, preds_val_orig))\n",
    "    rmse_trn = np.sqrt(mean_squared_error(y_train, preds_trn_orig))\n",
    "\n",
    "    print(\n",
    "        f\"✅ {name} → RMSE Train: {rmse_trn:.4f} | RMSE Val: {rmse_val:.4f} | Gap: {rmse_val/rmse_trn:.3f}x\"\n",
    "    )\n",
    "\n",
    "    # --- guardar resultados ---\n",
    "    results[name] = {\"model\": model, \"rmse_val\": rmse_val, \"rmse_train\": rmse_trn}\n",
    "    trained_models[name] = model\n",
    "    trained_meta[name] = {\n",
    "        \"used_encoded\": used_encoded,\n",
    "        \"best_iteration\": best_it,\n",
    "        \"n_features\": X_tr.shape[1],\n",
    "        \"feature_cols\": trained_feature_cols[name],\n",
    "        \"target_scale\": target_scale,\n",
    "    }\n",
    "\n",
    "    print(\"-\" * 50)\n",
    "\n",
    "print(\"\\n\" + \"=\" * 70)\n",
    "print(\"🏁 ENTRENAMIENTO COMPLETADO\")\n",
    "\n",
    "# --- mejor modelo por RMSE validación ---\n",
    "best_model_name, best_model_info = min(results.items(), key=lambda x: x[1][\"rmse_val\"])\n",
    "print(f\"\\n🏆 MEJOR MODELO BASE: {best_model_name}\")\n",
    "print(\n",
    "    f\"📈 RMSE Val: {best_model_info['rmse_val']:.4f} | RMSE Train: {best_model_info['rmse_train']:.4f}\"\n",
    ")\n",
    "\n",
    "print(f\"\\n📊 RESUMEN COMPLETO:\")\n",
    "print(\"-\" * 60)\n",
    "for name, info in sorted(results.items(), key=lambda x: x[1][\"rmse_val\"]):\n",
    "    print(\n",
    "        f\"{name:15} | RMSE Train: {info['rmse_train']:.4f} | RMSE Val: {info['rmse_val']:.4f} | Encoded: {trained_meta[name]['used_encoded']} | Best it: {trained_meta[name]['best_iteration']}\"\n",
    "    )"
   ]
  },
  {
   "cell_type": "markdown",
   "id": "dc549550",
   "metadata": {},
   "source": [
    "#### Resultados de los Modelos Base\n",
    "\n",
    "Se entrenaron 6 modelos potentes sobre el conjunto completo de características. Los resultados muestran un buen control del sobreajuste en todos los casos. **Catboost y LGBM Tweedie emergen como los modelos individuales más fuertes**, con XGBoost muy cerca, demostrando la eficacia del pipeline de preprocesamiento e ingeniería de características."
   ]
  },
  {
   "cell_type": "markdown",
   "id": "5daa12ec",
   "metadata": {},
   "source": [
    "## 5.5. Análisis de Importancia de Características\n",
    "\n",
    "Para entender qué impulsa las predicciones, analizamos la importancia de las características de nuestro mejor modelo individual, `CatBoost`. Se utiliza la **importancia por permutación** , que es una técnica robusta que mide cuánto empeora el rendimiento del modelo si una característica es \"barajada\" al azar, dándonos una medida real de su valor predictivo. Tambien se utiliza la **importancia nativa del modelo**."
   ]
  },
  {
   "cell_type": "code",
   "execution_count": 25,
   "id": "d28c52a0",
   "metadata": {},
   "outputs": [
    {
     "name": "stdout",
     "output_type": "stream",
     "text": [
      "🩺 Verificando y corrigiendo dtypes para CatBoost...\n",
      "   -> Dtypes corregidos.\n",
      "\\n⏳ Calculando Importancia por Permutación para CatBoost...\n",
      "✅ Cálculo finalizado.\n"
     ]
    },
    {
     "data": {
      "application/vnd.plotly.v1+json": {
       "config": {
        "plotlyServerURL": "https://plot.ly"
       },
       "data": [
        {
         "alignmentgroup": "True",
         "hovertemplate": "Importancia Media=%{x}<br>Característica=%{y}<extra></extra>",
         "legendgroup": "",
         "marker": {
          "color": "#636efa",
          "pattern": {
           "shape": ""
          }
         },
         "name": "",
         "offsetgroup": "",
         "orientation": "h",
         "showlegend": false,
         "textposition": "auto",
         "type": "bar",
         "x": [
          0.26169921614904845,
          0.18666347736926775,
          0.15602352371139042,
          0.08056605213206494,
          0.05913957686758655,
          0.05617277378174057,
          0.0505831056424018,
          0.04222806274680604,
          0.03332842121566566,
          0.03263494970255323,
          0.012125785898724928,
          0.009781463425518222,
          0.00896436052394991,
          0.00676749655242972,
          0.006481326052167624,
          0.005940859219888406,
          0.00587249847630904,
          0.005525292402404869,
          0.005381236555246449,
          0.005279240213618319,
          0.005223610115877175,
          0.005042338865258777,
          0.003211813899071192,
          0.0029245680782292284,
          0.002636345667432938
         ],
         "xaxis": "x",
         "y": [
          "monthly_sales_rolling_mean_3",
          "monthly_sales_lag_1",
          "monthly_sales_rolling_mean_6",
          "item_category_id",
          "item_id",
          "monthly_sales_rolling_max_12m",
          "months_since_last_peak",
          "sales_rolling_max_12m",
          "shop_category_interaction",
          "monthly_sales_rolling_max_6m",
          "monthly_average_price",
          "monthly_average_price_rolling_mean_3",
          "item_avg_price",
          "monthly_average_price_rolling_max_12m",
          "monthly_average_price_lag_1",
          "price_to_category_ratio",
          "monthly_sales_lag_6",
          "price_vs_historical_avg_ratio",
          "monthly_average_price_lag_3",
          "monthly_average_price_rolling_mean_6",
          "item_market_share",
          "city_id",
          "monthly_average_price_rolling_max_6m",
          "monthly_sales_lag_3",
          "monthly_sales_rolling_std_3"
         ],
         "yaxis": "y"
        }
       ],
       "layout": {
        "barmode": "relative",
        "height": 800,
        "legend": {
         "tracegroupgap": 0
        },
        "margin": {
         "l": 400
        },
        "template": {
         "data": {
          "bar": [
           {
            "error_x": {
             "color": "#2a3f5f"
            },
            "error_y": {
             "color": "#2a3f5f"
            },
            "marker": {
             "line": {
              "color": "white",
              "width": 0.5
             },
             "pattern": {
              "fillmode": "overlay",
              "size": 10,
              "solidity": 0.2
             }
            },
            "type": "bar"
           }
          ],
          "barpolar": [
           {
            "marker": {
             "line": {
              "color": "white",
              "width": 0.5
             },
             "pattern": {
              "fillmode": "overlay",
              "size": 10,
              "solidity": 0.2
             }
            },
            "type": "barpolar"
           }
          ],
          "carpet": [
           {
            "aaxis": {
             "endlinecolor": "#2a3f5f",
             "gridcolor": "#C8D4E3",
             "linecolor": "#C8D4E3",
             "minorgridcolor": "#C8D4E3",
             "startlinecolor": "#2a3f5f"
            },
            "baxis": {
             "endlinecolor": "#2a3f5f",
             "gridcolor": "#C8D4E3",
             "linecolor": "#C8D4E3",
             "minorgridcolor": "#C8D4E3",
             "startlinecolor": "#2a3f5f"
            },
            "type": "carpet"
           }
          ],
          "choropleth": [
           {
            "colorbar": {
             "outlinewidth": 0,
             "ticks": ""
            },
            "type": "choropleth"
           }
          ],
          "contour": [
           {
            "colorbar": {
             "outlinewidth": 0,
             "ticks": ""
            },
            "colorscale": [
             [
              0,
              "#0d0887"
             ],
             [
              0.1111111111111111,
              "#46039f"
             ],
             [
              0.2222222222222222,
              "#7201a8"
             ],
             [
              0.3333333333333333,
              "#9c179e"
             ],
             [
              0.4444444444444444,
              "#bd3786"
             ],
             [
              0.5555555555555556,
              "#d8576b"
             ],
             [
              0.6666666666666666,
              "#ed7953"
             ],
             [
              0.7777777777777778,
              "#fb9f3a"
             ],
             [
              0.8888888888888888,
              "#fdca26"
             ],
             [
              1,
              "#f0f921"
             ]
            ],
            "type": "contour"
           }
          ],
          "contourcarpet": [
           {
            "colorbar": {
             "outlinewidth": 0,
             "ticks": ""
            },
            "type": "contourcarpet"
           }
          ],
          "heatmap": [
           {
            "colorbar": {
             "outlinewidth": 0,
             "ticks": ""
            },
            "colorscale": [
             [
              0,
              "#0d0887"
             ],
             [
              0.1111111111111111,
              "#46039f"
             ],
             [
              0.2222222222222222,
              "#7201a8"
             ],
             [
              0.3333333333333333,
              "#9c179e"
             ],
             [
              0.4444444444444444,
              "#bd3786"
             ],
             [
              0.5555555555555556,
              "#d8576b"
             ],
             [
              0.6666666666666666,
              "#ed7953"
             ],
             [
              0.7777777777777778,
              "#fb9f3a"
             ],
             [
              0.8888888888888888,
              "#fdca26"
             ],
             [
              1,
              "#f0f921"
             ]
            ],
            "type": "heatmap"
           }
          ],
          "heatmapgl": [
           {
            "colorbar": {
             "outlinewidth": 0,
             "ticks": ""
            },
            "colorscale": [
             [
              0,
              "#0d0887"
             ],
             [
              0.1111111111111111,
              "#46039f"
             ],
             [
              0.2222222222222222,
              "#7201a8"
             ],
             [
              0.3333333333333333,
              "#9c179e"
             ],
             [
              0.4444444444444444,
              "#bd3786"
             ],
             [
              0.5555555555555556,
              "#d8576b"
             ],
             [
              0.6666666666666666,
              "#ed7953"
             ],
             [
              0.7777777777777778,
              "#fb9f3a"
             ],
             [
              0.8888888888888888,
              "#fdca26"
             ],
             [
              1,
              "#f0f921"
             ]
            ],
            "type": "heatmapgl"
           }
          ],
          "histogram": [
           {
            "marker": {
             "pattern": {
              "fillmode": "overlay",
              "size": 10,
              "solidity": 0.2
             }
            },
            "type": "histogram"
           }
          ],
          "histogram2d": [
           {
            "colorbar": {
             "outlinewidth": 0,
             "ticks": ""
            },
            "colorscale": [
             [
              0,
              "#0d0887"
             ],
             [
              0.1111111111111111,
              "#46039f"
             ],
             [
              0.2222222222222222,
              "#7201a8"
             ],
             [
              0.3333333333333333,
              "#9c179e"
             ],
             [
              0.4444444444444444,
              "#bd3786"
             ],
             [
              0.5555555555555556,
              "#d8576b"
             ],
             [
              0.6666666666666666,
              "#ed7953"
             ],
             [
              0.7777777777777778,
              "#fb9f3a"
             ],
             [
              0.8888888888888888,
              "#fdca26"
             ],
             [
              1,
              "#f0f921"
             ]
            ],
            "type": "histogram2d"
           }
          ],
          "histogram2dcontour": [
           {
            "colorbar": {
             "outlinewidth": 0,
             "ticks": ""
            },
            "colorscale": [
             [
              0,
              "#0d0887"
             ],
             [
              0.1111111111111111,
              "#46039f"
             ],
             [
              0.2222222222222222,
              "#7201a8"
             ],
             [
              0.3333333333333333,
              "#9c179e"
             ],
             [
              0.4444444444444444,
              "#bd3786"
             ],
             [
              0.5555555555555556,
              "#d8576b"
             ],
             [
              0.6666666666666666,
              "#ed7953"
             ],
             [
              0.7777777777777778,
              "#fb9f3a"
             ],
             [
              0.8888888888888888,
              "#fdca26"
             ],
             [
              1,
              "#f0f921"
             ]
            ],
            "type": "histogram2dcontour"
           }
          ],
          "mesh3d": [
           {
            "colorbar": {
             "outlinewidth": 0,
             "ticks": ""
            },
            "type": "mesh3d"
           }
          ],
          "parcoords": [
           {
            "line": {
             "colorbar": {
              "outlinewidth": 0,
              "ticks": ""
             }
            },
            "type": "parcoords"
           }
          ],
          "pie": [
           {
            "automargin": true,
            "type": "pie"
           }
          ],
          "scatter": [
           {
            "fillpattern": {
             "fillmode": "overlay",
             "size": 10,
             "solidity": 0.2
            },
            "type": "scatter"
           }
          ],
          "scatter3d": [
           {
            "line": {
             "colorbar": {
              "outlinewidth": 0,
              "ticks": ""
             }
            },
            "marker": {
             "colorbar": {
              "outlinewidth": 0,
              "ticks": ""
             }
            },
            "type": "scatter3d"
           }
          ],
          "scattercarpet": [
           {
            "marker": {
             "colorbar": {
              "outlinewidth": 0,
              "ticks": ""
             }
            },
            "type": "scattercarpet"
           }
          ],
          "scattergeo": [
           {
            "marker": {
             "colorbar": {
              "outlinewidth": 0,
              "ticks": ""
             }
            },
            "type": "scattergeo"
           }
          ],
          "scattergl": [
           {
            "marker": {
             "colorbar": {
              "outlinewidth": 0,
              "ticks": ""
             }
            },
            "type": "scattergl"
           }
          ],
          "scattermapbox": [
           {
            "marker": {
             "colorbar": {
              "outlinewidth": 0,
              "ticks": ""
             }
            },
            "type": "scattermapbox"
           }
          ],
          "scatterpolar": [
           {
            "marker": {
             "colorbar": {
              "outlinewidth": 0,
              "ticks": ""
             }
            },
            "type": "scatterpolar"
           }
          ],
          "scatterpolargl": [
           {
            "marker": {
             "colorbar": {
              "outlinewidth": 0,
              "ticks": ""
             }
            },
            "type": "scatterpolargl"
           }
          ],
          "scatterternary": [
           {
            "marker": {
             "colorbar": {
              "outlinewidth": 0,
              "ticks": ""
             }
            },
            "type": "scatterternary"
           }
          ],
          "surface": [
           {
            "colorbar": {
             "outlinewidth": 0,
             "ticks": ""
            },
            "colorscale": [
             [
              0,
              "#0d0887"
             ],
             [
              0.1111111111111111,
              "#46039f"
             ],
             [
              0.2222222222222222,
              "#7201a8"
             ],
             [
              0.3333333333333333,
              "#9c179e"
             ],
             [
              0.4444444444444444,
              "#bd3786"
             ],
             [
              0.5555555555555556,
              "#d8576b"
             ],
             [
              0.6666666666666666,
              "#ed7953"
             ],
             [
              0.7777777777777778,
              "#fb9f3a"
             ],
             [
              0.8888888888888888,
              "#fdca26"
             ],
             [
              1,
              "#f0f921"
             ]
            ],
            "type": "surface"
           }
          ],
          "table": [
           {
            "cells": {
             "fill": {
              "color": "#EBF0F8"
             },
             "line": {
              "color": "white"
             }
            },
            "header": {
             "fill": {
              "color": "#C8D4E3"
             },
             "line": {
              "color": "white"
             }
            },
            "type": "table"
           }
          ]
         },
         "layout": {
          "annotationdefaults": {
           "arrowcolor": "#2a3f5f",
           "arrowhead": 0,
           "arrowwidth": 1
          },
          "autotypenumbers": "strict",
          "coloraxis": {
           "colorbar": {
            "outlinewidth": 0,
            "ticks": ""
           }
          },
          "colorscale": {
           "diverging": [
            [
             0,
             "#8e0152"
            ],
            [
             0.1,
             "#c51b7d"
            ],
            [
             0.2,
             "#de77ae"
            ],
            [
             0.3,
             "#f1b6da"
            ],
            [
             0.4,
             "#fde0ef"
            ],
            [
             0.5,
             "#f7f7f7"
            ],
            [
             0.6,
             "#e6f5d0"
            ],
            [
             0.7,
             "#b8e186"
            ],
            [
             0.8,
             "#7fbc41"
            ],
            [
             0.9,
             "#4d9221"
            ],
            [
             1,
             "#276419"
            ]
           ],
           "sequential": [
            [
             0,
             "#0d0887"
            ],
            [
             0.1111111111111111,
             "#46039f"
            ],
            [
             0.2222222222222222,
             "#7201a8"
            ],
            [
             0.3333333333333333,
             "#9c179e"
            ],
            [
             0.4444444444444444,
             "#bd3786"
            ],
            [
             0.5555555555555556,
             "#d8576b"
            ],
            [
             0.6666666666666666,
             "#ed7953"
            ],
            [
             0.7777777777777778,
             "#fb9f3a"
            ],
            [
             0.8888888888888888,
             "#fdca26"
            ],
            [
             1,
             "#f0f921"
            ]
           ],
           "sequentialminus": [
            [
             0,
             "#0d0887"
            ],
            [
             0.1111111111111111,
             "#46039f"
            ],
            [
             0.2222222222222222,
             "#7201a8"
            ],
            [
             0.3333333333333333,
             "#9c179e"
            ],
            [
             0.4444444444444444,
             "#bd3786"
            ],
            [
             0.5555555555555556,
             "#d8576b"
            ],
            [
             0.6666666666666666,
             "#ed7953"
            ],
            [
             0.7777777777777778,
             "#fb9f3a"
            ],
            [
             0.8888888888888888,
             "#fdca26"
            ],
            [
             1,
             "#f0f921"
            ]
           ]
          },
          "colorway": [
           "#636efa",
           "#EF553B",
           "#00cc96",
           "#ab63fa",
           "#FFA15A",
           "#19d3f3",
           "#FF6692",
           "#B6E880",
           "#FF97FF",
           "#FECB52"
          ],
          "font": {
           "color": "#2a3f5f"
          },
          "geo": {
           "bgcolor": "white",
           "lakecolor": "white",
           "landcolor": "white",
           "showlakes": true,
           "showland": true,
           "subunitcolor": "#C8D4E3"
          },
          "hoverlabel": {
           "align": "left"
          },
          "hovermode": "closest",
          "mapbox": {
           "style": "light"
          },
          "paper_bgcolor": "white",
          "plot_bgcolor": "white",
          "polar": {
           "angularaxis": {
            "gridcolor": "#EBF0F8",
            "linecolor": "#EBF0F8",
            "ticks": ""
           },
           "bgcolor": "white",
           "radialaxis": {
            "gridcolor": "#EBF0F8",
            "linecolor": "#EBF0F8",
            "ticks": ""
           }
          },
          "scene": {
           "xaxis": {
            "backgroundcolor": "white",
            "gridcolor": "#DFE8F3",
            "gridwidth": 2,
            "linecolor": "#EBF0F8",
            "showbackground": true,
            "ticks": "",
            "zerolinecolor": "#EBF0F8"
           },
           "yaxis": {
            "backgroundcolor": "white",
            "gridcolor": "#DFE8F3",
            "gridwidth": 2,
            "linecolor": "#EBF0F8",
            "showbackground": true,
            "ticks": "",
            "zerolinecolor": "#EBF0F8"
           },
           "zaxis": {
            "backgroundcolor": "white",
            "gridcolor": "#DFE8F3",
            "gridwidth": 2,
            "linecolor": "#EBF0F8",
            "showbackground": true,
            "ticks": "",
            "zerolinecolor": "#EBF0F8"
           }
          },
          "shapedefaults": {
           "line": {
            "color": "#2a3f5f"
           }
          },
          "ternary": {
           "aaxis": {
            "gridcolor": "#DFE8F3",
            "linecolor": "#A2B1C6",
            "ticks": ""
           },
           "baxis": {
            "gridcolor": "#DFE8F3",
            "linecolor": "#A2B1C6",
            "ticks": ""
           },
           "bgcolor": "white",
           "caxis": {
            "gridcolor": "#DFE8F3",
            "linecolor": "#A2B1C6",
            "ticks": ""
           }
          },
          "title": {
           "x": 0.05
          },
          "xaxis": {
           "automargin": true,
           "gridcolor": "#EBF0F8",
           "linecolor": "#EBF0F8",
           "ticks": "",
           "title": {
            "standoff": 15
           },
           "zerolinecolor": "#EBF0F8",
           "zerolinewidth": 2
          },
          "yaxis": {
           "automargin": true,
           "gridcolor": "#EBF0F8",
           "linecolor": "#EBF0F8",
           "ticks": "",
           "title": {
            "standoff": 15
           },
           "zerolinecolor": "#EBF0F8",
           "zerolinewidth": 2
          }
         }
        },
        "title": {
         "font": {
          "size": 18
         },
         "text": "Top 25 - Permutation Importance (CatBoost)"
        },
        "xaxis": {
         "anchor": "y",
         "domain": [
          0,
          1
         ],
         "title": {
          "font": {
           "size": 14
          },
          "text": "Importancia Media"
         }
        },
        "yaxis": {
         "anchor": "x",
         "autorange": "reversed",
         "domain": [
          0,
          1
         ],
         "tickfont": {
          "size": 12
         },
         "title": {
          "font": {
           "size": 14
          },
          "text": "Característica"
         }
        }
       }
      }
     },
     "metadata": {},
     "output_type": "display_data"
    }
   ],
   "source": [
    "# --- 1. Cálculo de la Importancia (tu código, sin cambios) ---\n",
    "best_model_name = \"CatBoost\"\n",
    "best_model = trained_models[best_model_name]\n",
    "\n",
    "\n",
    "X_val_for_importance = X_val.copy()\n",
    "\n",
    "\n",
    "print(\"🩺 Verificando y corrigiendo dtypes para CatBoost...\")\n",
    "for col in categorical_cols_original:\n",
    "    if col in X_val_for_importance.columns:\n",
    "        X_val_for_importance[col] = X_val_for_importance[col].astype(int)\n",
    "print(\"   -> Dtypes corregidos.\")\n",
    "\n",
    "print(f\"\\\\n⏳ Calculando Importancia por Permutación para {best_model_name}...\")\n",
    "result = permutation_importance(\n",
    "    best_model,\n",
    "    X_val_for_importance,\n",
    "    y_val,\n",
    "    n_repeats=10,\n",
    "    random_state=42,\n",
    "    n_jobs=-1,\n",
    "    scoring=\"neg_root_mean_squared_error\",\n",
    ")\n",
    "\n",
    "perm_importance_df = (\n",
    "    pd.DataFrame(\n",
    "        {\n",
    "            \"feature\": X_val_for_importance.columns,\n",
    "            \"importance_mean\": result.importances_mean,\n",
    "        }\n",
    "    )\n",
    "    .sort_values(\"importance_mean\", ascending=False)\n",
    "    .reset_index(drop=True)\n",
    ")\n",
    "\n",
    "print(\"✅ Cálculo finalizado.\")\n",
    "\n",
    "# --- 2. Visualización Mejorada ---\n",
    "N_FEATURES_TO_SHOW = 25  # Puedes ajustar cuántas features mostrar\n",
    "\n",
    "fig = px.bar(\n",
    "    perm_importance_df.head(N_FEATURES_TO_SHOW),\n",
    "    x=\"importance_mean\",\n",
    "    y=\"feature\",\n",
    "    orientation=\"h\",\n",
    "    title=f\"Top {N_FEATURES_TO_SHOW} - Permutation Importance ({best_model_name})\",\n",
    "    labels={\"importance_mean\": \"Importancia Media\", \"feature\": \"Característica\"},\n",
    ")\n",
    "\n",
    "fig.update_layout(\n",
    "    height=800,\n",
    "    margin=dict(l=400),\n",
    "    yaxis=dict(title_font=dict(size=14), tickfont=dict(size=12)),\n",
    "    xaxis=dict(title_font=dict(size=14)),\n",
    "    title_font=dict(size=18),\n",
    "    template=\"plotly_white\",\n",
    ")\n",
    "\n",
    "fig.update_yaxes(autorange=\"reversed\")\n",
    "fig.show()"
   ]
  },
  {
   "cell_type": "code",
   "execution_count": 26,
   "id": "b32d8918",
   "metadata": {},
   "outputs": [
    {
     "data": {
      "application/vnd.plotly.v1+json": {
       "config": {
        "plotlyServerURL": "https://plot.ly"
       },
       "data": [
        {
         "alignmentgroup": "True",
         "hovertemplate": "Importancia (Gain/Split)=%{x}<br>Característica=%{y}<extra></extra>",
         "legendgroup": "",
         "marker": {
          "color": "#636efa",
          "pattern": {
           "shape": ""
          }
         },
         "name": "",
         "offsetgroup": "",
         "orientation": "h",
         "showlegend": false,
         "textposition": "auto",
         "type": "bar",
         "x": [
          9.725730626074425,
          8.461348482116023,
          7.139092001671522,
          6.791870716781584,
          5.874078554751221,
          5.265149223095849,
          4.740916887250738,
          4.080597572541819,
          3.549640478831335,
          3.269701993859533,
          3.138836797692748,
          2.7492269716744704,
          2.5285641403811994,
          2.311967316051863,
          2.251754905828854,
          2.235934679339912,
          2.03475524019036,
          1.78069426448292,
          1.6974173979978104,
          1.6818611724991983,
          1.5367785162742102,
          1.4359656925416857,
          1.397335491724285,
          1.2630607292824632,
          1.25987995139845
         ],
         "xaxis": "x",
         "y": [
          "monthly_sales_rolling_mean_3",
          "item_id",
          "monthly_sales_lag_1",
          "item_category_id",
          "month",
          "monthly_sales_rolling_mean_6",
          "shop_category_interaction",
          "year",
          "month_sin",
          "shop_id",
          "month_shop_interaction",
          "monthly_average_price",
          "city_id",
          "price_to_category_ratio",
          "monthly_sales_rolling_max_12m",
          "months_since_last_peak",
          "month_cos",
          "month_category_interaction",
          "sales_rolling_max_12m",
          "price_vs_historical_avg_ratio",
          "item_age",
          "sales_consistency_6m",
          "is_holiday_month",
          "item_market_share",
          "date_block_num"
         ],
         "yaxis": "y"
        }
       ],
       "layout": {
        "barmode": "relative",
        "height": 800,
        "legend": {
         "tracegroupgap": 0
        },
        "margin": {
         "l": 400
        },
        "template": {
         "data": {
          "bar": [
           {
            "error_x": {
             "color": "#2a3f5f"
            },
            "error_y": {
             "color": "#2a3f5f"
            },
            "marker": {
             "line": {
              "color": "white",
              "width": 0.5
             },
             "pattern": {
              "fillmode": "overlay",
              "size": 10,
              "solidity": 0.2
             }
            },
            "type": "bar"
           }
          ],
          "barpolar": [
           {
            "marker": {
             "line": {
              "color": "white",
              "width": 0.5
             },
             "pattern": {
              "fillmode": "overlay",
              "size": 10,
              "solidity": 0.2
             }
            },
            "type": "barpolar"
           }
          ],
          "carpet": [
           {
            "aaxis": {
             "endlinecolor": "#2a3f5f",
             "gridcolor": "#C8D4E3",
             "linecolor": "#C8D4E3",
             "minorgridcolor": "#C8D4E3",
             "startlinecolor": "#2a3f5f"
            },
            "baxis": {
             "endlinecolor": "#2a3f5f",
             "gridcolor": "#C8D4E3",
             "linecolor": "#C8D4E3",
             "minorgridcolor": "#C8D4E3",
             "startlinecolor": "#2a3f5f"
            },
            "type": "carpet"
           }
          ],
          "choropleth": [
           {
            "colorbar": {
             "outlinewidth": 0,
             "ticks": ""
            },
            "type": "choropleth"
           }
          ],
          "contour": [
           {
            "colorbar": {
             "outlinewidth": 0,
             "ticks": ""
            },
            "colorscale": [
             [
              0,
              "#0d0887"
             ],
             [
              0.1111111111111111,
              "#46039f"
             ],
             [
              0.2222222222222222,
              "#7201a8"
             ],
             [
              0.3333333333333333,
              "#9c179e"
             ],
             [
              0.4444444444444444,
              "#bd3786"
             ],
             [
              0.5555555555555556,
              "#d8576b"
             ],
             [
              0.6666666666666666,
              "#ed7953"
             ],
             [
              0.7777777777777778,
              "#fb9f3a"
             ],
             [
              0.8888888888888888,
              "#fdca26"
             ],
             [
              1,
              "#f0f921"
             ]
            ],
            "type": "contour"
           }
          ],
          "contourcarpet": [
           {
            "colorbar": {
             "outlinewidth": 0,
             "ticks": ""
            },
            "type": "contourcarpet"
           }
          ],
          "heatmap": [
           {
            "colorbar": {
             "outlinewidth": 0,
             "ticks": ""
            },
            "colorscale": [
             [
              0,
              "#0d0887"
             ],
             [
              0.1111111111111111,
              "#46039f"
             ],
             [
              0.2222222222222222,
              "#7201a8"
             ],
             [
              0.3333333333333333,
              "#9c179e"
             ],
             [
              0.4444444444444444,
              "#bd3786"
             ],
             [
              0.5555555555555556,
              "#d8576b"
             ],
             [
              0.6666666666666666,
              "#ed7953"
             ],
             [
              0.7777777777777778,
              "#fb9f3a"
             ],
             [
              0.8888888888888888,
              "#fdca26"
             ],
             [
              1,
              "#f0f921"
             ]
            ],
            "type": "heatmap"
           }
          ],
          "heatmapgl": [
           {
            "colorbar": {
             "outlinewidth": 0,
             "ticks": ""
            },
            "colorscale": [
             [
              0,
              "#0d0887"
             ],
             [
              0.1111111111111111,
              "#46039f"
             ],
             [
              0.2222222222222222,
              "#7201a8"
             ],
             [
              0.3333333333333333,
              "#9c179e"
             ],
             [
              0.4444444444444444,
              "#bd3786"
             ],
             [
              0.5555555555555556,
              "#d8576b"
             ],
             [
              0.6666666666666666,
              "#ed7953"
             ],
             [
              0.7777777777777778,
              "#fb9f3a"
             ],
             [
              0.8888888888888888,
              "#fdca26"
             ],
             [
              1,
              "#f0f921"
             ]
            ],
            "type": "heatmapgl"
           }
          ],
          "histogram": [
           {
            "marker": {
             "pattern": {
              "fillmode": "overlay",
              "size": 10,
              "solidity": 0.2
             }
            },
            "type": "histogram"
           }
          ],
          "histogram2d": [
           {
            "colorbar": {
             "outlinewidth": 0,
             "ticks": ""
            },
            "colorscale": [
             [
              0,
              "#0d0887"
             ],
             [
              0.1111111111111111,
              "#46039f"
             ],
             [
              0.2222222222222222,
              "#7201a8"
             ],
             [
              0.3333333333333333,
              "#9c179e"
             ],
             [
              0.4444444444444444,
              "#bd3786"
             ],
             [
              0.5555555555555556,
              "#d8576b"
             ],
             [
              0.6666666666666666,
              "#ed7953"
             ],
             [
              0.7777777777777778,
              "#fb9f3a"
             ],
             [
              0.8888888888888888,
              "#fdca26"
             ],
             [
              1,
              "#f0f921"
             ]
            ],
            "type": "histogram2d"
           }
          ],
          "histogram2dcontour": [
           {
            "colorbar": {
             "outlinewidth": 0,
             "ticks": ""
            },
            "colorscale": [
             [
              0,
              "#0d0887"
             ],
             [
              0.1111111111111111,
              "#46039f"
             ],
             [
              0.2222222222222222,
              "#7201a8"
             ],
             [
              0.3333333333333333,
              "#9c179e"
             ],
             [
              0.4444444444444444,
              "#bd3786"
             ],
             [
              0.5555555555555556,
              "#d8576b"
             ],
             [
              0.6666666666666666,
              "#ed7953"
             ],
             [
              0.7777777777777778,
              "#fb9f3a"
             ],
             [
              0.8888888888888888,
              "#fdca26"
             ],
             [
              1,
              "#f0f921"
             ]
            ],
            "type": "histogram2dcontour"
           }
          ],
          "mesh3d": [
           {
            "colorbar": {
             "outlinewidth": 0,
             "ticks": ""
            },
            "type": "mesh3d"
           }
          ],
          "parcoords": [
           {
            "line": {
             "colorbar": {
              "outlinewidth": 0,
              "ticks": ""
             }
            },
            "type": "parcoords"
           }
          ],
          "pie": [
           {
            "automargin": true,
            "type": "pie"
           }
          ],
          "scatter": [
           {
            "fillpattern": {
             "fillmode": "overlay",
             "size": 10,
             "solidity": 0.2
            },
            "type": "scatter"
           }
          ],
          "scatter3d": [
           {
            "line": {
             "colorbar": {
              "outlinewidth": 0,
              "ticks": ""
             }
            },
            "marker": {
             "colorbar": {
              "outlinewidth": 0,
              "ticks": ""
             }
            },
            "type": "scatter3d"
           }
          ],
          "scattercarpet": [
           {
            "marker": {
             "colorbar": {
              "outlinewidth": 0,
              "ticks": ""
             }
            },
            "type": "scattercarpet"
           }
          ],
          "scattergeo": [
           {
            "marker": {
             "colorbar": {
              "outlinewidth": 0,
              "ticks": ""
             }
            },
            "type": "scattergeo"
           }
          ],
          "scattergl": [
           {
            "marker": {
             "colorbar": {
              "outlinewidth": 0,
              "ticks": ""
             }
            },
            "type": "scattergl"
           }
          ],
          "scattermapbox": [
           {
            "marker": {
             "colorbar": {
              "outlinewidth": 0,
              "ticks": ""
             }
            },
            "type": "scattermapbox"
           }
          ],
          "scatterpolar": [
           {
            "marker": {
             "colorbar": {
              "outlinewidth": 0,
              "ticks": ""
             }
            },
            "type": "scatterpolar"
           }
          ],
          "scatterpolargl": [
           {
            "marker": {
             "colorbar": {
              "outlinewidth": 0,
              "ticks": ""
             }
            },
            "type": "scatterpolargl"
           }
          ],
          "scatterternary": [
           {
            "marker": {
             "colorbar": {
              "outlinewidth": 0,
              "ticks": ""
             }
            },
            "type": "scatterternary"
           }
          ],
          "surface": [
           {
            "colorbar": {
             "outlinewidth": 0,
             "ticks": ""
            },
            "colorscale": [
             [
              0,
              "#0d0887"
             ],
             [
              0.1111111111111111,
              "#46039f"
             ],
             [
              0.2222222222222222,
              "#7201a8"
             ],
             [
              0.3333333333333333,
              "#9c179e"
             ],
             [
              0.4444444444444444,
              "#bd3786"
             ],
             [
              0.5555555555555556,
              "#d8576b"
             ],
             [
              0.6666666666666666,
              "#ed7953"
             ],
             [
              0.7777777777777778,
              "#fb9f3a"
             ],
             [
              0.8888888888888888,
              "#fdca26"
             ],
             [
              1,
              "#f0f921"
             ]
            ],
            "type": "surface"
           }
          ],
          "table": [
           {
            "cells": {
             "fill": {
              "color": "#EBF0F8"
             },
             "line": {
              "color": "white"
             }
            },
            "header": {
             "fill": {
              "color": "#C8D4E3"
             },
             "line": {
              "color": "white"
             }
            },
            "type": "table"
           }
          ]
         },
         "layout": {
          "annotationdefaults": {
           "arrowcolor": "#2a3f5f",
           "arrowhead": 0,
           "arrowwidth": 1
          },
          "autotypenumbers": "strict",
          "coloraxis": {
           "colorbar": {
            "outlinewidth": 0,
            "ticks": ""
           }
          },
          "colorscale": {
           "diverging": [
            [
             0,
             "#8e0152"
            ],
            [
             0.1,
             "#c51b7d"
            ],
            [
             0.2,
             "#de77ae"
            ],
            [
             0.3,
             "#f1b6da"
            ],
            [
             0.4,
             "#fde0ef"
            ],
            [
             0.5,
             "#f7f7f7"
            ],
            [
             0.6,
             "#e6f5d0"
            ],
            [
             0.7,
             "#b8e186"
            ],
            [
             0.8,
             "#7fbc41"
            ],
            [
             0.9,
             "#4d9221"
            ],
            [
             1,
             "#276419"
            ]
           ],
           "sequential": [
            [
             0,
             "#0d0887"
            ],
            [
             0.1111111111111111,
             "#46039f"
            ],
            [
             0.2222222222222222,
             "#7201a8"
            ],
            [
             0.3333333333333333,
             "#9c179e"
            ],
            [
             0.4444444444444444,
             "#bd3786"
            ],
            [
             0.5555555555555556,
             "#d8576b"
            ],
            [
             0.6666666666666666,
             "#ed7953"
            ],
            [
             0.7777777777777778,
             "#fb9f3a"
            ],
            [
             0.8888888888888888,
             "#fdca26"
            ],
            [
             1,
             "#f0f921"
            ]
           ],
           "sequentialminus": [
            [
             0,
             "#0d0887"
            ],
            [
             0.1111111111111111,
             "#46039f"
            ],
            [
             0.2222222222222222,
             "#7201a8"
            ],
            [
             0.3333333333333333,
             "#9c179e"
            ],
            [
             0.4444444444444444,
             "#bd3786"
            ],
            [
             0.5555555555555556,
             "#d8576b"
            ],
            [
             0.6666666666666666,
             "#ed7953"
            ],
            [
             0.7777777777777778,
             "#fb9f3a"
            ],
            [
             0.8888888888888888,
             "#fdca26"
            ],
            [
             1,
             "#f0f921"
            ]
           ]
          },
          "colorway": [
           "#636efa",
           "#EF553B",
           "#00cc96",
           "#ab63fa",
           "#FFA15A",
           "#19d3f3",
           "#FF6692",
           "#B6E880",
           "#FF97FF",
           "#FECB52"
          ],
          "font": {
           "color": "#2a3f5f"
          },
          "geo": {
           "bgcolor": "white",
           "lakecolor": "white",
           "landcolor": "white",
           "showlakes": true,
           "showland": true,
           "subunitcolor": "#C8D4E3"
          },
          "hoverlabel": {
           "align": "left"
          },
          "hovermode": "closest",
          "mapbox": {
           "style": "light"
          },
          "paper_bgcolor": "white",
          "plot_bgcolor": "white",
          "polar": {
           "angularaxis": {
            "gridcolor": "#EBF0F8",
            "linecolor": "#EBF0F8",
            "ticks": ""
           },
           "bgcolor": "white",
           "radialaxis": {
            "gridcolor": "#EBF0F8",
            "linecolor": "#EBF0F8",
            "ticks": ""
           }
          },
          "scene": {
           "xaxis": {
            "backgroundcolor": "white",
            "gridcolor": "#DFE8F3",
            "gridwidth": 2,
            "linecolor": "#EBF0F8",
            "showbackground": true,
            "ticks": "",
            "zerolinecolor": "#EBF0F8"
           },
           "yaxis": {
            "backgroundcolor": "white",
            "gridcolor": "#DFE8F3",
            "gridwidth": 2,
            "linecolor": "#EBF0F8",
            "showbackground": true,
            "ticks": "",
            "zerolinecolor": "#EBF0F8"
           },
           "zaxis": {
            "backgroundcolor": "white",
            "gridcolor": "#DFE8F3",
            "gridwidth": 2,
            "linecolor": "#EBF0F8",
            "showbackground": true,
            "ticks": "",
            "zerolinecolor": "#EBF0F8"
           }
          },
          "shapedefaults": {
           "line": {
            "color": "#2a3f5f"
           }
          },
          "ternary": {
           "aaxis": {
            "gridcolor": "#DFE8F3",
            "linecolor": "#A2B1C6",
            "ticks": ""
           },
           "baxis": {
            "gridcolor": "#DFE8F3",
            "linecolor": "#A2B1C6",
            "ticks": ""
           },
           "bgcolor": "white",
           "caxis": {
            "gridcolor": "#DFE8F3",
            "linecolor": "#A2B1C6",
            "ticks": ""
           }
          },
          "title": {
           "x": 0.05
          },
          "xaxis": {
           "automargin": true,
           "gridcolor": "#EBF0F8",
           "linecolor": "#EBF0F8",
           "ticks": "",
           "title": {
            "standoff": 15
           },
           "zerolinecolor": "#EBF0F8",
           "zerolinewidth": 2
          },
          "yaxis": {
           "automargin": true,
           "gridcolor": "#EBF0F8",
           "linecolor": "#EBF0F8",
           "ticks": "",
           "title": {
            "standoff": 15
           },
           "zerolinecolor": "#EBF0F8",
           "zerolinewidth": 2
          }
         }
        },
        "title": {
         "text": "Top 25 - Importancia Nativa (CatBoost)"
        },
        "xaxis": {
         "anchor": "y",
         "domain": [
          0,
          1
         ],
         "title": {
          "text": "Importancia (Gain/Split)"
         }
        },
        "yaxis": {
         "anchor": "x",
         "autorange": "reversed",
         "domain": [
          0,
          1
         ],
         "title": {
          "text": "Característica"
         }
        }
       }
      }
     },
     "metadata": {},
     "output_type": "display_data"
    }
   ],
   "source": [
    "df_importance_cat = plot_native_importance(\n",
    "    best_model, X_val_for_importance, model_name=\"CatBoost\"\n",
    ")"
   ]
  },
  {
   "cell_type": "markdown",
   "id": "8e9a9461",
   "metadata": {},
   "source": [
    "**Features top en ambos rankings:**\n",
    "- monthly_sales_rolling_mean_3, monthly_sales_rolling_mean_6: . Esto demuestra que la tendencia de ventas más reciente (promedio de los últimos 3 y 6 meses) es, con diferencia, el predictor más potente.\n",
    "- monthly_sales_lag_1:  Las ventas del mes inmediatamente anterior son cruciales para predecir las del mes actual.\n",
    "- item_id y item_category_id: Ambas se mantienen en el Top 6 en los dos rankings. Esto confirma que la identidad del producto y su categoría son fundamentales.\n",
    "\n",
    "**Features que Pierden Importancia por Permutación**\n",
    "- shop_id: Su información predictiva ya está contenida de una forma mucho más potente en la feature shop_category_interaction.\n",
    "- year: a variable year es una forma simple de capturar la tendencia a largo plazo.  Sin embargo, las features de lag y rolling window (como monthly_sales_rolling_mean_6) ya capturan esta progresión temporal de una forma mucho más sofisticada.\n",
    "- price_to_category_ratio: Cae en el top de permutación debido al solapamiento de información. Es decir, la información que aporta sobre los precios ya está presente en otras features relacionadas (monthly_average_price, item_avg_price, price_vs_historical_avg_ratio).\n",
    "\n"
   ]
  },
  {
   "cell_type": "code",
   "execution_count": 27,
   "id": "f8a88fac",
   "metadata": {},
   "outputs": [
    {
     "name": "stdout",
     "output_type": "stream",
     "text": [
      "🩺 Verificando y corrigiendo dtypes para LGBM...\n",
      "   -> Dtypes corregidos.\n",
      "\\n⏳ Calculando Importancia por Permutación para LightGBM_Tweedie...\n",
      "✅ Cálculo finalizado.\n"
     ]
    },
    {
     "data": {
      "application/vnd.plotly.v1+json": {
       "config": {
        "plotlyServerURL": "https://plot.ly"
       },
       "data": [
        {
         "alignmentgroup": "True",
         "hovertemplate": "Importancia Media=%{x}<br>Característica=%{y}<extra></extra>",
         "legendgroup": "",
         "marker": {
          "color": "#636efa",
          "pattern": {
           "shape": ""
          }
         },
         "name": "",
         "offsetgroup": "",
         "orientation": "h",
         "showlegend": false,
         "textposition": "auto",
         "type": "bar",
         "x": [
          2.923394451925592,
          0.8790040235572316,
          0.4609061239959923,
          0.13055534731148452,
          0.11391895326046116,
          0.1098335473494656,
          0.03921513973267969,
          0.03400180503275929,
          0.02126452235255476,
          0.01711001867037316,
          0.016792283505739115,
          0.016248435490462444,
          0.014455758638317473,
          0.013204109101950934,
          0.010649011446070621,
          0.009277196326571069,
          0.009266436865363303,
          0.009023365810186678,
          0.008458716603754546,
          0.00821039604853988,
          0.008202665479335814,
          0.007744710501782404,
          0.007027276416372752,
          0.00673866581507081,
          0.0056371833224462264
         ],
         "xaxis": "x",
         "y": [
          "monthly_sales_rolling_mean_3",
          "monthly_sales_lag_1",
          "monthly_sales_rolling_mean_6",
          "months_since_last_peak",
          "sales_rolling_max_12m",
          "monthly_sales_rolling_max_6m",
          "shop_category_interaction_enc",
          "yoy_sales_ratio",
          "monthly_average_price_lag_1",
          "item_market_share",
          "monthly_sales_rolling_max_12m",
          "item_avg_price",
          "monthly_average_price_lag_3",
          "sales_trend_3m",
          "price_to_category_ratio",
          "monthly_average_price_rolling_std_3",
          "sales_consistency_6m",
          "monthly_average_price_rolling_mean_3",
          "monthly_average_price_rolling_mean_6",
          "monthly_average_price_rolling_std_6",
          "monthly_sales_lag_6",
          "monthly_sales_rolling_std_6",
          "monthly_average_price",
          "monthly_sales_rolling_std_3",
          "item_category_id_enc"
         ],
         "yaxis": "y"
        }
       ],
       "layout": {
        "barmode": "relative",
        "height": 800,
        "legend": {
         "tracegroupgap": 0
        },
        "margin": {
         "l": 400
        },
        "template": {
         "data": {
          "bar": [
           {
            "error_x": {
             "color": "#2a3f5f"
            },
            "error_y": {
             "color": "#2a3f5f"
            },
            "marker": {
             "line": {
              "color": "white",
              "width": 0.5
             },
             "pattern": {
              "fillmode": "overlay",
              "size": 10,
              "solidity": 0.2
             }
            },
            "type": "bar"
           }
          ],
          "barpolar": [
           {
            "marker": {
             "line": {
              "color": "white",
              "width": 0.5
             },
             "pattern": {
              "fillmode": "overlay",
              "size": 10,
              "solidity": 0.2
             }
            },
            "type": "barpolar"
           }
          ],
          "carpet": [
           {
            "aaxis": {
             "endlinecolor": "#2a3f5f",
             "gridcolor": "#C8D4E3",
             "linecolor": "#C8D4E3",
             "minorgridcolor": "#C8D4E3",
             "startlinecolor": "#2a3f5f"
            },
            "baxis": {
             "endlinecolor": "#2a3f5f",
             "gridcolor": "#C8D4E3",
             "linecolor": "#C8D4E3",
             "minorgridcolor": "#C8D4E3",
             "startlinecolor": "#2a3f5f"
            },
            "type": "carpet"
           }
          ],
          "choropleth": [
           {
            "colorbar": {
             "outlinewidth": 0,
             "ticks": ""
            },
            "type": "choropleth"
           }
          ],
          "contour": [
           {
            "colorbar": {
             "outlinewidth": 0,
             "ticks": ""
            },
            "colorscale": [
             [
              0,
              "#0d0887"
             ],
             [
              0.1111111111111111,
              "#46039f"
             ],
             [
              0.2222222222222222,
              "#7201a8"
             ],
             [
              0.3333333333333333,
              "#9c179e"
             ],
             [
              0.4444444444444444,
              "#bd3786"
             ],
             [
              0.5555555555555556,
              "#d8576b"
             ],
             [
              0.6666666666666666,
              "#ed7953"
             ],
             [
              0.7777777777777778,
              "#fb9f3a"
             ],
             [
              0.8888888888888888,
              "#fdca26"
             ],
             [
              1,
              "#f0f921"
             ]
            ],
            "type": "contour"
           }
          ],
          "contourcarpet": [
           {
            "colorbar": {
             "outlinewidth": 0,
             "ticks": ""
            },
            "type": "contourcarpet"
           }
          ],
          "heatmap": [
           {
            "colorbar": {
             "outlinewidth": 0,
             "ticks": ""
            },
            "colorscale": [
             [
              0,
              "#0d0887"
             ],
             [
              0.1111111111111111,
              "#46039f"
             ],
             [
              0.2222222222222222,
              "#7201a8"
             ],
             [
              0.3333333333333333,
              "#9c179e"
             ],
             [
              0.4444444444444444,
              "#bd3786"
             ],
             [
              0.5555555555555556,
              "#d8576b"
             ],
             [
              0.6666666666666666,
              "#ed7953"
             ],
             [
              0.7777777777777778,
              "#fb9f3a"
             ],
             [
              0.8888888888888888,
              "#fdca26"
             ],
             [
              1,
              "#f0f921"
             ]
            ],
            "type": "heatmap"
           }
          ],
          "heatmapgl": [
           {
            "colorbar": {
             "outlinewidth": 0,
             "ticks": ""
            },
            "colorscale": [
             [
              0,
              "#0d0887"
             ],
             [
              0.1111111111111111,
              "#46039f"
             ],
             [
              0.2222222222222222,
              "#7201a8"
             ],
             [
              0.3333333333333333,
              "#9c179e"
             ],
             [
              0.4444444444444444,
              "#bd3786"
             ],
             [
              0.5555555555555556,
              "#d8576b"
             ],
             [
              0.6666666666666666,
              "#ed7953"
             ],
             [
              0.7777777777777778,
              "#fb9f3a"
             ],
             [
              0.8888888888888888,
              "#fdca26"
             ],
             [
              1,
              "#f0f921"
             ]
            ],
            "type": "heatmapgl"
           }
          ],
          "histogram": [
           {
            "marker": {
             "pattern": {
              "fillmode": "overlay",
              "size": 10,
              "solidity": 0.2
             }
            },
            "type": "histogram"
           }
          ],
          "histogram2d": [
           {
            "colorbar": {
             "outlinewidth": 0,
             "ticks": ""
            },
            "colorscale": [
             [
              0,
              "#0d0887"
             ],
             [
              0.1111111111111111,
              "#46039f"
             ],
             [
              0.2222222222222222,
              "#7201a8"
             ],
             [
              0.3333333333333333,
              "#9c179e"
             ],
             [
              0.4444444444444444,
              "#bd3786"
             ],
             [
              0.5555555555555556,
              "#d8576b"
             ],
             [
              0.6666666666666666,
              "#ed7953"
             ],
             [
              0.7777777777777778,
              "#fb9f3a"
             ],
             [
              0.8888888888888888,
              "#fdca26"
             ],
             [
              1,
              "#f0f921"
             ]
            ],
            "type": "histogram2d"
           }
          ],
          "histogram2dcontour": [
           {
            "colorbar": {
             "outlinewidth": 0,
             "ticks": ""
            },
            "colorscale": [
             [
              0,
              "#0d0887"
             ],
             [
              0.1111111111111111,
              "#46039f"
             ],
             [
              0.2222222222222222,
              "#7201a8"
             ],
             [
              0.3333333333333333,
              "#9c179e"
             ],
             [
              0.4444444444444444,
              "#bd3786"
             ],
             [
              0.5555555555555556,
              "#d8576b"
             ],
             [
              0.6666666666666666,
              "#ed7953"
             ],
             [
              0.7777777777777778,
              "#fb9f3a"
             ],
             [
              0.8888888888888888,
              "#fdca26"
             ],
             [
              1,
              "#f0f921"
             ]
            ],
            "type": "histogram2dcontour"
           }
          ],
          "mesh3d": [
           {
            "colorbar": {
             "outlinewidth": 0,
             "ticks": ""
            },
            "type": "mesh3d"
           }
          ],
          "parcoords": [
           {
            "line": {
             "colorbar": {
              "outlinewidth": 0,
              "ticks": ""
             }
            },
            "type": "parcoords"
           }
          ],
          "pie": [
           {
            "automargin": true,
            "type": "pie"
           }
          ],
          "scatter": [
           {
            "fillpattern": {
             "fillmode": "overlay",
             "size": 10,
             "solidity": 0.2
            },
            "type": "scatter"
           }
          ],
          "scatter3d": [
           {
            "line": {
             "colorbar": {
              "outlinewidth": 0,
              "ticks": ""
             }
            },
            "marker": {
             "colorbar": {
              "outlinewidth": 0,
              "ticks": ""
             }
            },
            "type": "scatter3d"
           }
          ],
          "scattercarpet": [
           {
            "marker": {
             "colorbar": {
              "outlinewidth": 0,
              "ticks": ""
             }
            },
            "type": "scattercarpet"
           }
          ],
          "scattergeo": [
           {
            "marker": {
             "colorbar": {
              "outlinewidth": 0,
              "ticks": ""
             }
            },
            "type": "scattergeo"
           }
          ],
          "scattergl": [
           {
            "marker": {
             "colorbar": {
              "outlinewidth": 0,
              "ticks": ""
             }
            },
            "type": "scattergl"
           }
          ],
          "scattermapbox": [
           {
            "marker": {
             "colorbar": {
              "outlinewidth": 0,
              "ticks": ""
             }
            },
            "type": "scattermapbox"
           }
          ],
          "scatterpolar": [
           {
            "marker": {
             "colorbar": {
              "outlinewidth": 0,
              "ticks": ""
             }
            },
            "type": "scatterpolar"
           }
          ],
          "scatterpolargl": [
           {
            "marker": {
             "colorbar": {
              "outlinewidth": 0,
              "ticks": ""
             }
            },
            "type": "scatterpolargl"
           }
          ],
          "scatterternary": [
           {
            "marker": {
             "colorbar": {
              "outlinewidth": 0,
              "ticks": ""
             }
            },
            "type": "scatterternary"
           }
          ],
          "surface": [
           {
            "colorbar": {
             "outlinewidth": 0,
             "ticks": ""
            },
            "colorscale": [
             [
              0,
              "#0d0887"
             ],
             [
              0.1111111111111111,
              "#46039f"
             ],
             [
              0.2222222222222222,
              "#7201a8"
             ],
             [
              0.3333333333333333,
              "#9c179e"
             ],
             [
              0.4444444444444444,
              "#bd3786"
             ],
             [
              0.5555555555555556,
              "#d8576b"
             ],
             [
              0.6666666666666666,
              "#ed7953"
             ],
             [
              0.7777777777777778,
              "#fb9f3a"
             ],
             [
              0.8888888888888888,
              "#fdca26"
             ],
             [
              1,
              "#f0f921"
             ]
            ],
            "type": "surface"
           }
          ],
          "table": [
           {
            "cells": {
             "fill": {
              "color": "#EBF0F8"
             },
             "line": {
              "color": "white"
             }
            },
            "header": {
             "fill": {
              "color": "#C8D4E3"
             },
             "line": {
              "color": "white"
             }
            },
            "type": "table"
           }
          ]
         },
         "layout": {
          "annotationdefaults": {
           "arrowcolor": "#2a3f5f",
           "arrowhead": 0,
           "arrowwidth": 1
          },
          "autotypenumbers": "strict",
          "coloraxis": {
           "colorbar": {
            "outlinewidth": 0,
            "ticks": ""
           }
          },
          "colorscale": {
           "diverging": [
            [
             0,
             "#8e0152"
            ],
            [
             0.1,
             "#c51b7d"
            ],
            [
             0.2,
             "#de77ae"
            ],
            [
             0.3,
             "#f1b6da"
            ],
            [
             0.4,
             "#fde0ef"
            ],
            [
             0.5,
             "#f7f7f7"
            ],
            [
             0.6,
             "#e6f5d0"
            ],
            [
             0.7,
             "#b8e186"
            ],
            [
             0.8,
             "#7fbc41"
            ],
            [
             0.9,
             "#4d9221"
            ],
            [
             1,
             "#276419"
            ]
           ],
           "sequential": [
            [
             0,
             "#0d0887"
            ],
            [
             0.1111111111111111,
             "#46039f"
            ],
            [
             0.2222222222222222,
             "#7201a8"
            ],
            [
             0.3333333333333333,
             "#9c179e"
            ],
            [
             0.4444444444444444,
             "#bd3786"
            ],
            [
             0.5555555555555556,
             "#d8576b"
            ],
            [
             0.6666666666666666,
             "#ed7953"
            ],
            [
             0.7777777777777778,
             "#fb9f3a"
            ],
            [
             0.8888888888888888,
             "#fdca26"
            ],
            [
             1,
             "#f0f921"
            ]
           ],
           "sequentialminus": [
            [
             0,
             "#0d0887"
            ],
            [
             0.1111111111111111,
             "#46039f"
            ],
            [
             0.2222222222222222,
             "#7201a8"
            ],
            [
             0.3333333333333333,
             "#9c179e"
            ],
            [
             0.4444444444444444,
             "#bd3786"
            ],
            [
             0.5555555555555556,
             "#d8576b"
            ],
            [
             0.6666666666666666,
             "#ed7953"
            ],
            [
             0.7777777777777778,
             "#fb9f3a"
            ],
            [
             0.8888888888888888,
             "#fdca26"
            ],
            [
             1,
             "#f0f921"
            ]
           ]
          },
          "colorway": [
           "#636efa",
           "#EF553B",
           "#00cc96",
           "#ab63fa",
           "#FFA15A",
           "#19d3f3",
           "#FF6692",
           "#B6E880",
           "#FF97FF",
           "#FECB52"
          ],
          "font": {
           "color": "#2a3f5f"
          },
          "geo": {
           "bgcolor": "white",
           "lakecolor": "white",
           "landcolor": "white",
           "showlakes": true,
           "showland": true,
           "subunitcolor": "#C8D4E3"
          },
          "hoverlabel": {
           "align": "left"
          },
          "hovermode": "closest",
          "mapbox": {
           "style": "light"
          },
          "paper_bgcolor": "white",
          "plot_bgcolor": "white",
          "polar": {
           "angularaxis": {
            "gridcolor": "#EBF0F8",
            "linecolor": "#EBF0F8",
            "ticks": ""
           },
           "bgcolor": "white",
           "radialaxis": {
            "gridcolor": "#EBF0F8",
            "linecolor": "#EBF0F8",
            "ticks": ""
           }
          },
          "scene": {
           "xaxis": {
            "backgroundcolor": "white",
            "gridcolor": "#DFE8F3",
            "gridwidth": 2,
            "linecolor": "#EBF0F8",
            "showbackground": true,
            "ticks": "",
            "zerolinecolor": "#EBF0F8"
           },
           "yaxis": {
            "backgroundcolor": "white",
            "gridcolor": "#DFE8F3",
            "gridwidth": 2,
            "linecolor": "#EBF0F8",
            "showbackground": true,
            "ticks": "",
            "zerolinecolor": "#EBF0F8"
           },
           "zaxis": {
            "backgroundcolor": "white",
            "gridcolor": "#DFE8F3",
            "gridwidth": 2,
            "linecolor": "#EBF0F8",
            "showbackground": true,
            "ticks": "",
            "zerolinecolor": "#EBF0F8"
           }
          },
          "shapedefaults": {
           "line": {
            "color": "#2a3f5f"
           }
          },
          "ternary": {
           "aaxis": {
            "gridcolor": "#DFE8F3",
            "linecolor": "#A2B1C6",
            "ticks": ""
           },
           "baxis": {
            "gridcolor": "#DFE8F3",
            "linecolor": "#A2B1C6",
            "ticks": ""
           },
           "bgcolor": "white",
           "caxis": {
            "gridcolor": "#DFE8F3",
            "linecolor": "#A2B1C6",
            "ticks": ""
           }
          },
          "title": {
           "x": 0.05
          },
          "xaxis": {
           "automargin": true,
           "gridcolor": "#EBF0F8",
           "linecolor": "#EBF0F8",
           "ticks": "",
           "title": {
            "standoff": 15
           },
           "zerolinecolor": "#EBF0F8",
           "zerolinewidth": 2
          },
          "yaxis": {
           "automargin": true,
           "gridcolor": "#EBF0F8",
           "linecolor": "#EBF0F8",
           "ticks": "",
           "title": {
            "standoff": 15
           },
           "zerolinecolor": "#EBF0F8",
           "zerolinewidth": 2
          }
         }
        },
        "title": {
         "font": {
          "size": 18
         },
         "text": "Top 25 - Permutation Importance (LightGBM_Tweedie)"
        },
        "xaxis": {
         "anchor": "y",
         "domain": [
          0,
          1
         ],
         "title": {
          "font": {
           "size": 14
          },
          "text": "Importancia Media"
         }
        },
        "yaxis": {
         "anchor": "x",
         "autorange": "reversed",
         "domain": [
          0,
          1
         ],
         "tickfont": {
          "size": 12
         },
         "title": {
          "font": {
           "size": 14
          },
          "text": "Característica"
         }
        }
       }
      }
     },
     "metadata": {},
     "output_type": "display_data"
    }
   ],
   "source": [
    "# --- 1. Cálculo de la Importancia (tu código, sin cambios) ---\n",
    "best_model_name = \"LightGBM_Tweedie\"\n",
    "best_model = trained_models[best_model_name]\n",
    "\n",
    "X_val_for_importance = X_val_encoded_reg.copy()  # Usamos una copia para seguridad\n",
    "\n",
    "# Corregir dtypes para LGBM antes de la evaluación\n",
    "print(\"🩺 Verificando y corrigiendo dtypes para LGBM...\")\n",
    "for col in categorical_cols_original:\n",
    "    if col in X_val_for_importance.columns:\n",
    "        X_val_for_importance[col] = X_val_for_importance[col].astype(int)\n",
    "print(\"   -> Dtypes corregidos.\")\n",
    "\n",
    "print(f\"\\\\n⏳ Calculando Importancia por Permutación para {best_model_name}...\")\n",
    "result = permutation_importance(\n",
    "    best_model,\n",
    "    X_val_for_importance,\n",
    "    y_val,\n",
    "    n_repeats=10,\n",
    "    random_state=42,\n",
    "    n_jobs=-1,\n",
    "    scoring=\"neg_root_mean_squared_error\",\n",
    ")\n",
    "\n",
    "perm_importance_df = (\n",
    "    pd.DataFrame(\n",
    "        {\n",
    "            \"feature\": X_val_for_importance.columns,\n",
    "            \"importance_mean\": result.importances_mean,\n",
    "        }\n",
    "    )\n",
    "    .sort_values(\"importance_mean\", ascending=False)\n",
    "    .reset_index(drop=True)\n",
    ")\n",
    "\n",
    "print(\"✅ Cálculo finalizado.\")\n",
    "\n",
    "# --- 2. Visualización Mejorada ---\n",
    "N_FEATURES_TO_SHOW = 25  # Puedes ajustar cuántas features mostrar\n",
    "\n",
    "fig = px.bar(\n",
    "    perm_importance_df.head(N_FEATURES_TO_SHOW),\n",
    "    x=\"importance_mean\",\n",
    "    y=\"feature\",\n",
    "    orientation=\"h\",\n",
    "    title=f\"Top {N_FEATURES_TO_SHOW} - Permutation Importance ({best_model_name})\",\n",
    "    labels={\"importance_mean\": \"Importancia Media\", \"feature\": \"Característica\"},\n",
    ")\n",
    "\n",
    "fig.update_layout(\n",
    "    height=800,\n",
    "    margin=dict(l=400),\n",
    "    yaxis=dict(title_font=dict(size=14), tickfont=dict(size=12)),\n",
    "    xaxis=dict(title_font=dict(size=14)),\n",
    "    title_font=dict(size=18),\n",
    "    template=\"plotly_white\",\n",
    ")\n",
    "\n",
    "fig.update_yaxes(autorange=\"reversed\")\n",
    "fig.show()"
   ]
  },
  {
   "cell_type": "code",
   "execution_count": 28,
   "id": "f2e548f5",
   "metadata": {},
   "outputs": [
    {
     "data": {
      "application/vnd.plotly.v1+json": {
       "config": {
        "plotlyServerURL": "https://plot.ly"
       },
       "data": [
        {
         "alignmentgroup": "True",
         "hovertemplate": "Importancia (Gain/Split)=%{x}<br>Característica=%{y}<extra></extra>",
         "legendgroup": "",
         "marker": {
          "color": "#636efa",
          "pattern": {
           "shape": ""
          }
         },
         "name": "",
         "offsetgroup": "",
         "orientation": "h",
         "showlegend": false,
         "textposition": "auto",
         "type": "bar",
         "x": [
          1748,
          1648,
          1548,
          1530,
          1530,
          1501,
          1495,
          1459,
          1385,
          1354,
          1279,
          1145,
          1137,
          1094,
          936,
          845,
          821,
          819,
          801,
          714,
          683,
          677,
          666,
          646,
          533
         ],
         "xaxis": "x",
         "y": [
          "item_id_enc",
          "price_to_category_ratio",
          "item_category_id_enc",
          "month_shop_interaction",
          "month_category_interaction",
          "shop_category_interaction_enc",
          "sales_consistency_6m",
          "item_market_share",
          "city_id_enc",
          "shop_id_enc",
          "price_vs_historical_avg_ratio",
          "monthly_sales_rolling_mean_6",
          "monthly_sales_rolling_mean_3",
          "monthly_average_price",
          "monthly_sales_rolling_std_6",
          "monthly_sales_rolling_std_3",
          "date_block_num",
          "monthly_sales_lag_1",
          "monthly_average_price_rolling_std_6",
          "sales_trend_3m",
          "month",
          "item_avg_price",
          "sales_rolling_max_12m",
          "yoy_sales_ratio",
          "monthly_average_price_lag_1"
         ],
         "yaxis": "y"
        }
       ],
       "layout": {
        "barmode": "relative",
        "height": 800,
        "legend": {
         "tracegroupgap": 0
        },
        "margin": {
         "l": 400
        },
        "template": {
         "data": {
          "bar": [
           {
            "error_x": {
             "color": "#2a3f5f"
            },
            "error_y": {
             "color": "#2a3f5f"
            },
            "marker": {
             "line": {
              "color": "white",
              "width": 0.5
             },
             "pattern": {
              "fillmode": "overlay",
              "size": 10,
              "solidity": 0.2
             }
            },
            "type": "bar"
           }
          ],
          "barpolar": [
           {
            "marker": {
             "line": {
              "color": "white",
              "width": 0.5
             },
             "pattern": {
              "fillmode": "overlay",
              "size": 10,
              "solidity": 0.2
             }
            },
            "type": "barpolar"
           }
          ],
          "carpet": [
           {
            "aaxis": {
             "endlinecolor": "#2a3f5f",
             "gridcolor": "#C8D4E3",
             "linecolor": "#C8D4E3",
             "minorgridcolor": "#C8D4E3",
             "startlinecolor": "#2a3f5f"
            },
            "baxis": {
             "endlinecolor": "#2a3f5f",
             "gridcolor": "#C8D4E3",
             "linecolor": "#C8D4E3",
             "minorgridcolor": "#C8D4E3",
             "startlinecolor": "#2a3f5f"
            },
            "type": "carpet"
           }
          ],
          "choropleth": [
           {
            "colorbar": {
             "outlinewidth": 0,
             "ticks": ""
            },
            "type": "choropleth"
           }
          ],
          "contour": [
           {
            "colorbar": {
             "outlinewidth": 0,
             "ticks": ""
            },
            "colorscale": [
             [
              0,
              "#0d0887"
             ],
             [
              0.1111111111111111,
              "#46039f"
             ],
             [
              0.2222222222222222,
              "#7201a8"
             ],
             [
              0.3333333333333333,
              "#9c179e"
             ],
             [
              0.4444444444444444,
              "#bd3786"
             ],
             [
              0.5555555555555556,
              "#d8576b"
             ],
             [
              0.6666666666666666,
              "#ed7953"
             ],
             [
              0.7777777777777778,
              "#fb9f3a"
             ],
             [
              0.8888888888888888,
              "#fdca26"
             ],
             [
              1,
              "#f0f921"
             ]
            ],
            "type": "contour"
           }
          ],
          "contourcarpet": [
           {
            "colorbar": {
             "outlinewidth": 0,
             "ticks": ""
            },
            "type": "contourcarpet"
           }
          ],
          "heatmap": [
           {
            "colorbar": {
             "outlinewidth": 0,
             "ticks": ""
            },
            "colorscale": [
             [
              0,
              "#0d0887"
             ],
             [
              0.1111111111111111,
              "#46039f"
             ],
             [
              0.2222222222222222,
              "#7201a8"
             ],
             [
              0.3333333333333333,
              "#9c179e"
             ],
             [
              0.4444444444444444,
              "#bd3786"
             ],
             [
              0.5555555555555556,
              "#d8576b"
             ],
             [
              0.6666666666666666,
              "#ed7953"
             ],
             [
              0.7777777777777778,
              "#fb9f3a"
             ],
             [
              0.8888888888888888,
              "#fdca26"
             ],
             [
              1,
              "#f0f921"
             ]
            ],
            "type": "heatmap"
           }
          ],
          "heatmapgl": [
           {
            "colorbar": {
             "outlinewidth": 0,
             "ticks": ""
            },
            "colorscale": [
             [
              0,
              "#0d0887"
             ],
             [
              0.1111111111111111,
              "#46039f"
             ],
             [
              0.2222222222222222,
              "#7201a8"
             ],
             [
              0.3333333333333333,
              "#9c179e"
             ],
             [
              0.4444444444444444,
              "#bd3786"
             ],
             [
              0.5555555555555556,
              "#d8576b"
             ],
             [
              0.6666666666666666,
              "#ed7953"
             ],
             [
              0.7777777777777778,
              "#fb9f3a"
             ],
             [
              0.8888888888888888,
              "#fdca26"
             ],
             [
              1,
              "#f0f921"
             ]
            ],
            "type": "heatmapgl"
           }
          ],
          "histogram": [
           {
            "marker": {
             "pattern": {
              "fillmode": "overlay",
              "size": 10,
              "solidity": 0.2
             }
            },
            "type": "histogram"
           }
          ],
          "histogram2d": [
           {
            "colorbar": {
             "outlinewidth": 0,
             "ticks": ""
            },
            "colorscale": [
             [
              0,
              "#0d0887"
             ],
             [
              0.1111111111111111,
              "#46039f"
             ],
             [
              0.2222222222222222,
              "#7201a8"
             ],
             [
              0.3333333333333333,
              "#9c179e"
             ],
             [
              0.4444444444444444,
              "#bd3786"
             ],
             [
              0.5555555555555556,
              "#d8576b"
             ],
             [
              0.6666666666666666,
              "#ed7953"
             ],
             [
              0.7777777777777778,
              "#fb9f3a"
             ],
             [
              0.8888888888888888,
              "#fdca26"
             ],
             [
              1,
              "#f0f921"
             ]
            ],
            "type": "histogram2d"
           }
          ],
          "histogram2dcontour": [
           {
            "colorbar": {
             "outlinewidth": 0,
             "ticks": ""
            },
            "colorscale": [
             [
              0,
              "#0d0887"
             ],
             [
              0.1111111111111111,
              "#46039f"
             ],
             [
              0.2222222222222222,
              "#7201a8"
             ],
             [
              0.3333333333333333,
              "#9c179e"
             ],
             [
              0.4444444444444444,
              "#bd3786"
             ],
             [
              0.5555555555555556,
              "#d8576b"
             ],
             [
              0.6666666666666666,
              "#ed7953"
             ],
             [
              0.7777777777777778,
              "#fb9f3a"
             ],
             [
              0.8888888888888888,
              "#fdca26"
             ],
             [
              1,
              "#f0f921"
             ]
            ],
            "type": "histogram2dcontour"
           }
          ],
          "mesh3d": [
           {
            "colorbar": {
             "outlinewidth": 0,
             "ticks": ""
            },
            "type": "mesh3d"
           }
          ],
          "parcoords": [
           {
            "line": {
             "colorbar": {
              "outlinewidth": 0,
              "ticks": ""
             }
            },
            "type": "parcoords"
           }
          ],
          "pie": [
           {
            "automargin": true,
            "type": "pie"
           }
          ],
          "scatter": [
           {
            "fillpattern": {
             "fillmode": "overlay",
             "size": 10,
             "solidity": 0.2
            },
            "type": "scatter"
           }
          ],
          "scatter3d": [
           {
            "line": {
             "colorbar": {
              "outlinewidth": 0,
              "ticks": ""
             }
            },
            "marker": {
             "colorbar": {
              "outlinewidth": 0,
              "ticks": ""
             }
            },
            "type": "scatter3d"
           }
          ],
          "scattercarpet": [
           {
            "marker": {
             "colorbar": {
              "outlinewidth": 0,
              "ticks": ""
             }
            },
            "type": "scattercarpet"
           }
          ],
          "scattergeo": [
           {
            "marker": {
             "colorbar": {
              "outlinewidth": 0,
              "ticks": ""
             }
            },
            "type": "scattergeo"
           }
          ],
          "scattergl": [
           {
            "marker": {
             "colorbar": {
              "outlinewidth": 0,
              "ticks": ""
             }
            },
            "type": "scattergl"
           }
          ],
          "scattermapbox": [
           {
            "marker": {
             "colorbar": {
              "outlinewidth": 0,
              "ticks": ""
             }
            },
            "type": "scattermapbox"
           }
          ],
          "scatterpolar": [
           {
            "marker": {
             "colorbar": {
              "outlinewidth": 0,
              "ticks": ""
             }
            },
            "type": "scatterpolar"
           }
          ],
          "scatterpolargl": [
           {
            "marker": {
             "colorbar": {
              "outlinewidth": 0,
              "ticks": ""
             }
            },
            "type": "scatterpolargl"
           }
          ],
          "scatterternary": [
           {
            "marker": {
             "colorbar": {
              "outlinewidth": 0,
              "ticks": ""
             }
            },
            "type": "scatterternary"
           }
          ],
          "surface": [
           {
            "colorbar": {
             "outlinewidth": 0,
             "ticks": ""
            },
            "colorscale": [
             [
              0,
              "#0d0887"
             ],
             [
              0.1111111111111111,
              "#46039f"
             ],
             [
              0.2222222222222222,
              "#7201a8"
             ],
             [
              0.3333333333333333,
              "#9c179e"
             ],
             [
              0.4444444444444444,
              "#bd3786"
             ],
             [
              0.5555555555555556,
              "#d8576b"
             ],
             [
              0.6666666666666666,
              "#ed7953"
             ],
             [
              0.7777777777777778,
              "#fb9f3a"
             ],
             [
              0.8888888888888888,
              "#fdca26"
             ],
             [
              1,
              "#f0f921"
             ]
            ],
            "type": "surface"
           }
          ],
          "table": [
           {
            "cells": {
             "fill": {
              "color": "#EBF0F8"
             },
             "line": {
              "color": "white"
             }
            },
            "header": {
             "fill": {
              "color": "#C8D4E3"
             },
             "line": {
              "color": "white"
             }
            },
            "type": "table"
           }
          ]
         },
         "layout": {
          "annotationdefaults": {
           "arrowcolor": "#2a3f5f",
           "arrowhead": 0,
           "arrowwidth": 1
          },
          "autotypenumbers": "strict",
          "coloraxis": {
           "colorbar": {
            "outlinewidth": 0,
            "ticks": ""
           }
          },
          "colorscale": {
           "diverging": [
            [
             0,
             "#8e0152"
            ],
            [
             0.1,
             "#c51b7d"
            ],
            [
             0.2,
             "#de77ae"
            ],
            [
             0.3,
             "#f1b6da"
            ],
            [
             0.4,
             "#fde0ef"
            ],
            [
             0.5,
             "#f7f7f7"
            ],
            [
             0.6,
             "#e6f5d0"
            ],
            [
             0.7,
             "#b8e186"
            ],
            [
             0.8,
             "#7fbc41"
            ],
            [
             0.9,
             "#4d9221"
            ],
            [
             1,
             "#276419"
            ]
           ],
           "sequential": [
            [
             0,
             "#0d0887"
            ],
            [
             0.1111111111111111,
             "#46039f"
            ],
            [
             0.2222222222222222,
             "#7201a8"
            ],
            [
             0.3333333333333333,
             "#9c179e"
            ],
            [
             0.4444444444444444,
             "#bd3786"
            ],
            [
             0.5555555555555556,
             "#d8576b"
            ],
            [
             0.6666666666666666,
             "#ed7953"
            ],
            [
             0.7777777777777778,
             "#fb9f3a"
            ],
            [
             0.8888888888888888,
             "#fdca26"
            ],
            [
             1,
             "#f0f921"
            ]
           ],
           "sequentialminus": [
            [
             0,
             "#0d0887"
            ],
            [
             0.1111111111111111,
             "#46039f"
            ],
            [
             0.2222222222222222,
             "#7201a8"
            ],
            [
             0.3333333333333333,
             "#9c179e"
            ],
            [
             0.4444444444444444,
             "#bd3786"
            ],
            [
             0.5555555555555556,
             "#d8576b"
            ],
            [
             0.6666666666666666,
             "#ed7953"
            ],
            [
             0.7777777777777778,
             "#fb9f3a"
            ],
            [
             0.8888888888888888,
             "#fdca26"
            ],
            [
             1,
             "#f0f921"
            ]
           ]
          },
          "colorway": [
           "#636efa",
           "#EF553B",
           "#00cc96",
           "#ab63fa",
           "#FFA15A",
           "#19d3f3",
           "#FF6692",
           "#B6E880",
           "#FF97FF",
           "#FECB52"
          ],
          "font": {
           "color": "#2a3f5f"
          },
          "geo": {
           "bgcolor": "white",
           "lakecolor": "white",
           "landcolor": "white",
           "showlakes": true,
           "showland": true,
           "subunitcolor": "#C8D4E3"
          },
          "hoverlabel": {
           "align": "left"
          },
          "hovermode": "closest",
          "mapbox": {
           "style": "light"
          },
          "paper_bgcolor": "white",
          "plot_bgcolor": "white",
          "polar": {
           "angularaxis": {
            "gridcolor": "#EBF0F8",
            "linecolor": "#EBF0F8",
            "ticks": ""
           },
           "bgcolor": "white",
           "radialaxis": {
            "gridcolor": "#EBF0F8",
            "linecolor": "#EBF0F8",
            "ticks": ""
           }
          },
          "scene": {
           "xaxis": {
            "backgroundcolor": "white",
            "gridcolor": "#DFE8F3",
            "gridwidth": 2,
            "linecolor": "#EBF0F8",
            "showbackground": true,
            "ticks": "",
            "zerolinecolor": "#EBF0F8"
           },
           "yaxis": {
            "backgroundcolor": "white",
            "gridcolor": "#DFE8F3",
            "gridwidth": 2,
            "linecolor": "#EBF0F8",
            "showbackground": true,
            "ticks": "",
            "zerolinecolor": "#EBF0F8"
           },
           "zaxis": {
            "backgroundcolor": "white",
            "gridcolor": "#DFE8F3",
            "gridwidth": 2,
            "linecolor": "#EBF0F8",
            "showbackground": true,
            "ticks": "",
            "zerolinecolor": "#EBF0F8"
           }
          },
          "shapedefaults": {
           "line": {
            "color": "#2a3f5f"
           }
          },
          "ternary": {
           "aaxis": {
            "gridcolor": "#DFE8F3",
            "linecolor": "#A2B1C6",
            "ticks": ""
           },
           "baxis": {
            "gridcolor": "#DFE8F3",
            "linecolor": "#A2B1C6",
            "ticks": ""
           },
           "bgcolor": "white",
           "caxis": {
            "gridcolor": "#DFE8F3",
            "linecolor": "#A2B1C6",
            "ticks": ""
           }
          },
          "title": {
           "x": 0.05
          },
          "xaxis": {
           "automargin": true,
           "gridcolor": "#EBF0F8",
           "linecolor": "#EBF0F8",
           "ticks": "",
           "title": {
            "standoff": 15
           },
           "zerolinecolor": "#EBF0F8",
           "zerolinewidth": 2
          },
          "yaxis": {
           "automargin": true,
           "gridcolor": "#EBF0F8",
           "linecolor": "#EBF0F8",
           "ticks": "",
           "title": {
            "standoff": 15
           },
           "zerolinecolor": "#EBF0F8",
           "zerolinewidth": 2
          }
         }
        },
        "title": {
         "text": "Top 25 - Importancia Nativa (lgbm_tweedie)"
        },
        "xaxis": {
         "anchor": "y",
         "domain": [
          0,
          1
         ],
         "title": {
          "text": "Importancia (Gain/Split)"
         }
        },
        "yaxis": {
         "anchor": "x",
         "autorange": "reversed",
         "domain": [
          0,
          1
         ],
         "title": {
          "text": "Característica"
         }
        }
       }
      }
     },
     "metadata": {},
     "output_type": "display_data"
    }
   ],
   "source": [
    "df_importance_xgb = plot_native_importance(\n",
    "    best_model, X_val_for_importance, model_name=\"lgbm_tweedie\"\n",
    ")"
   ]
  },
  {
   "cell_type": "markdown",
   "id": "fe8d2882",
   "metadata": {},
   "source": [
    "\n",
    "**Claves del Análisis de Importancia**\n",
    "\n",
    "**1. Importancia Nativa: “atajos” potentes**\n",
    "El modelo otorga gran peso a las variables codificadas con *Target Encoding* (item\\_id\\_enc, item\\_category\\_id\\_enc, etc.) y a las interacciones. Es lógico: condensan el historial de ventas en un único número y facilitan el aprendizaje.\n",
    "\n",
    "**2. Importancia por Permutación: la realidad predictiva**\n",
    "Cuando se mide el impacto real en las predicciones, el panorama cambia. Las variables decisivas son las que reflejan la dinámica reciente de ventas:\n",
    "\n",
    "* **monthly\\_sales\\_rolling\\_mean\\_3**: media de los últimos 3 meses, la más crítica.\n",
    "* **monthly\\_sales\\_lag\\_1**: ventas del mes anterior.\n",
    "* **monthly\\_sales\\_rolling\\_mean\\_6**: tendencia de corto-medio plazo.\n",
    "\n",
    "Las codificaciones siguen siendo útiles, pero su información está ya capturada por los lags y medias móviles. Al barajar la media de 3 meses, la precisión se desploma; al barajar *item\\_id\\_enc*, casi no cambia.\n",
    "\n",
    "**Conclusión**\n",
    "\n",
    "El motor real del modelo es el comportamiento reciente de ventas. Las *features* que lo describen —lags y *rolling means*— concentran el verdadero poder predictivo.\n"
   ]
  },
  {
   "cell_type": "markdown",
   "id": "fa2806b2",
   "metadata": {},
   "source": [
    "## 5.6 Análisis de errores"
   ]
  },
  {
   "cell_type": "markdown",
   "id": "5d624fe2",
   "metadata": {},
   "source": [
    "En esta sección se va a realizar un pequño análisis de errores en la predicción del conjunto de validación.\n",
    "\n",
    "Se considera el mejor modelo de entre los modelos que estan utilizando el target encoder (LGBM Tweedie)."
   ]
  },
  {
   "cell_type": "code",
   "execution_count": 29,
   "id": "d6fff24b",
   "metadata": {},
   "outputs": [],
   "source": [
    "best_model_object = results[\"LightGBM_Tweedie\"][\"model\"]\n",
    "best_model_vals_preds = best_model_object.predict(X_val_encoded_reg)\n",
    "# xgb_vals_preds = np.expm1(xgb_vals_preds)  # Revertir log si es necesario\n",
    "best_model_vals_preds_clipped = np.clip(best_model_vals_preds, 0, 30)"
   ]
  },
  {
   "cell_type": "code",
   "execution_count": 30,
   "id": "2f81f33a",
   "metadata": {},
   "outputs": [
    {
     "name": "stdout",
     "output_type": "stream",
     "text": [
      "Usando longitud mínima: 426\n"
     ]
    },
    {
     "data": {
      "image/png": "[encoded data removed]",
      "text/plain": [
       "<Figure size 1000x600 with 1 Axes>"
      ]
     },
     "metadata": {},
     "output_type": "display_data"
    }
   ],
   "source": [
    "unique_id = features_val[\"unique_id\"].copy()\n",
    "unique_id = unique_id.astype(str)\n",
    "y_true = np.array(y_val).flatten()\n",
    "y_pred = np.array(best_model_vals_preds_clipped).flatten()\n",
    "\n",
    "min_length = min(len(unique_id), len(y_true), len(y_pred))\n",
    "print(f\"Usando longitud mínima: {min_length}\")\n",
    "\n",
    "unique_id = unique_id[:min_length]\n",
    "y_true = y_true[:min_length]\n",
    "y_pred = y_pred[:min_length]\n",
    "\n",
    "# Calcula el RMSE por unique_id en el conjunto de validación\n",
    "df_rmse = pd.DataFrame({\"unique_id\": unique_id, \"y_true\": y_true, \"y_pred\": y_pred})\n",
    "\n",
    "# Agrupa por unique_id y calcula el RMSE\n",
    "rmse_by_id = (\n",
    "    df_rmse.groupby(\"unique_id\")\n",
    "    .apply(\n",
    "        lambda df: ((df[\"y_true\"] - df[\"y_pred\"]) ** 2).mean() ** 0.5,\n",
    "        include_groups=False,\n",
    "    )\n",
    "    .sort_values(ascending=False)\n",
    ")\n",
    "\n",
    "# Selecciona los 25 unique_id con mayor RMSE\n",
    "top_25_rmse = rmse_by_id.head(25)\n",
    "\n",
    "# Plot\n",
    "plt.figure(figsize=(10, 6))\n",
    "top_25_rmse.plot(kind=\"bar\")\n",
    "plt.ylabel(\"RMSE\")\n",
    "plt.xlabel(\"unique_id\")\n",
    "plt.title(\"Top 25 RMSE por unique_id (Validación)\")\n",
    "plt.xticks(rotation=45)  # Rotar etiquetas\n",
    "plt.tight_layout()\n",
    "plt.show()"
   ]
  },
  {
   "cell_type": "code",
   "execution_count": 31,
   "id": "6083230b-d7a2-4d2a-84cf-17e4d906bd36",
   "metadata": {},
   "outputs": [
    {
     "data": {
      "text/html": [
       "<div>\n",
       "<style scoped>\n",
       "    .dataframe tbody tr th:only-of-type {\n",
       "        vertical-align: middle;\n",
       "    }\n",
       "\n",
       "    .dataframe tbody tr th {\n",
       "        vertical-align: top;\n",
       "    }\n",
       "\n",
       "    .dataframe thead th {\n",
       "        text-align: right;\n",
       "    }\n",
       "</style>\n",
       "<table border=\"1\" class=\"dataframe\">\n",
       "  <thead>\n",
       "    <tr style=\"text-align: right;\">\n",
       "      <th></th>\n",
       "      <th>unique_id</th>\n",
       "      <th>y_true</th>\n",
       "      <th>y_pred</th>\n",
       "      <th>RMSE</th>\n",
       "    </tr>\n",
       "  </thead>\n",
       "  <tbody>\n",
       "    <tr>\n",
       "      <th>411</th>\n",
       "      <td>6_5822</td>\n",
       "      <td>20.5</td>\n",
       "      <td>6.889823</td>\n",
       "      <td>13.610177</td>\n",
       "    </tr>\n",
       "    <tr>\n",
       "      <th>279</th>\n",
       "      <td>42_6497</td>\n",
       "      <td>18.0</td>\n",
       "      <td>6.764999</td>\n",
       "      <td>11.235001</td>\n",
       "    </tr>\n",
       "    <tr>\n",
       "      <th>87</th>\n",
       "      <td>24_5822</td>\n",
       "      <td>18.0</td>\n",
       "      <td>6.865724</td>\n",
       "      <td>11.134276</td>\n",
       "    </tr>\n",
       "    <tr>\n",
       "      <th>253</th>\n",
       "      <td>38_17717</td>\n",
       "      <td>14.0</td>\n",
       "      <td>24.717523</td>\n",
       "      <td>10.717523</td>\n",
       "    </tr>\n",
       "    <tr>\n",
       "      <th>189</th>\n",
       "      <td>31_15256</td>\n",
       "      <td>12.0</td>\n",
       "      <td>2.527889</td>\n",
       "      <td>9.472111</td>\n",
       "    </tr>\n",
       "    <tr>\n",
       "      <th>0</th>\n",
       "      <td>12_11365</td>\n",
       "      <td>21.0</td>\n",
       "      <td>11.558305</td>\n",
       "      <td>9.441695</td>\n",
       "    </tr>\n",
       "    <tr>\n",
       "      <th>393</th>\n",
       "      <td>59_20949</td>\n",
       "      <td>18.0</td>\n",
       "      <td>27.425791</td>\n",
       "      <td>9.425791</td>\n",
       "    </tr>\n",
       "    <tr>\n",
       "      <th>214</th>\n",
       "      <td>31_2753</td>\n",
       "      <td>14.0</td>\n",
       "      <td>4.880384</td>\n",
       "      <td>9.119616</td>\n",
       "    </tr>\n",
       "    <tr>\n",
       "      <th>278</th>\n",
       "      <td>42_5823</td>\n",
       "      <td>18.0</td>\n",
       "      <td>9.123472</td>\n",
       "      <td>8.876528</td>\n",
       "    </tr>\n",
       "    <tr>\n",
       "      <th>1</th>\n",
       "      <td>12_11369</td>\n",
       "      <td>30.0</td>\n",
       "      <td>21.309380</td>\n",
       "      <td>8.690620</td>\n",
       "    </tr>\n",
       "    <tr>\n",
       "      <th>119</th>\n",
       "      <td>25_5822</td>\n",
       "      <td>20.5</td>\n",
       "      <td>11.890301</td>\n",
       "      <td>8.609699</td>\n",
       "    </tr>\n",
       "    <tr>\n",
       "      <th>277</th>\n",
       "      <td>42_5822</td>\n",
       "      <td>20.5</td>\n",
       "      <td>11.957715</td>\n",
       "      <td>8.542285</td>\n",
       "    </tr>\n",
       "    <tr>\n",
       "      <th>372</th>\n",
       "      <td>57_5822</td>\n",
       "      <td>15.0</td>\n",
       "      <td>7.105514</td>\n",
       "      <td>7.894486</td>\n",
       "    </tr>\n",
       "    <tr>\n",
       "      <th>80</th>\n",
       "      <td>24_2308</td>\n",
       "      <td>1.0</td>\n",
       "      <td>8.776683</td>\n",
       "      <td>7.776683</td>\n",
       "    </tr>\n",
       "    <tr>\n",
       "      <th>64</th>\n",
       "      <td>22_13370</td>\n",
       "      <td>12.0</td>\n",
       "      <td>4.535710</td>\n",
       "      <td>7.464290</td>\n",
       "    </tr>\n",
       "    <tr>\n",
       "      <th>397</th>\n",
       "      <td>59_2308</td>\n",
       "      <td>4.0</td>\n",
       "      <td>10.300555</td>\n",
       "      <td>6.300555</td>\n",
       "    </tr>\n",
       "    <tr>\n",
       "      <th>417</th>\n",
       "      <td>7_2308</td>\n",
       "      <td>1.0</td>\n",
       "      <td>7.239599</td>\n",
       "      <td>6.239599</td>\n",
       "    </tr>\n",
       "    <tr>\n",
       "      <th>210</th>\n",
       "      <td>31_2308</td>\n",
       "      <td>4.0</td>\n",
       "      <td>10.233065</td>\n",
       "      <td>6.233065</td>\n",
       "    </tr>\n",
       "    <tr>\n",
       "      <th>155</th>\n",
       "      <td>28_5823</td>\n",
       "      <td>4.0</td>\n",
       "      <td>10.020718</td>\n",
       "      <td>6.020718</td>\n",
       "    </tr>\n",
       "    <tr>\n",
       "      <th>18</th>\n",
       "      <td>15_5822</td>\n",
       "      <td>5.0</td>\n",
       "      <td>11.014413</td>\n",
       "      <td>6.014413</td>\n",
       "    </tr>\n",
       "    <tr>\n",
       "      <th>288</th>\n",
       "      <td>45_20949</td>\n",
       "      <td>15.0</td>\n",
       "      <td>9.036652</td>\n",
       "      <td>5.963348</td>\n",
       "    </tr>\n",
       "    <tr>\n",
       "      <th>132</th>\n",
       "      <td>26_5822</td>\n",
       "      <td>4.0</td>\n",
       "      <td>9.939058</td>\n",
       "      <td>5.939058</td>\n",
       "    </tr>\n",
       "    <tr>\n",
       "      <th>313</th>\n",
       "      <td>4_2252</td>\n",
       "      <td>8.0</td>\n",
       "      <td>2.241702</td>\n",
       "      <td>5.758298</td>\n",
       "    </tr>\n",
       "    <tr>\n",
       "      <th>415</th>\n",
       "      <td>7_17717</td>\n",
       "      <td>16.0</td>\n",
       "      <td>21.741476</td>\n",
       "      <td>5.741476</td>\n",
       "    </tr>\n",
       "    <tr>\n",
       "      <th>227</th>\n",
       "      <td>31_5821</td>\n",
       "      <td>20.0</td>\n",
       "      <td>14.307395</td>\n",
       "      <td>5.692605</td>\n",
       "    </tr>\n",
       "  </tbody>\n",
       "</table>\n",
       "</div>"
      ],
      "text/plain": [
       "    unique_id  y_true     y_pred       RMSE\n",
       "411    6_5822    20.5   6.889823  13.610177\n",
       "279   42_6497    18.0   6.764999  11.235001\n",
       "87    24_5822    18.0   6.865724  11.134276\n",
       "253  38_17717    14.0  24.717523  10.717523\n",
       "189  31_15256    12.0   2.527889   9.472111\n",
       "0    12_11365    21.0  11.558305   9.441695\n",
       "393  59_20949    18.0  27.425791   9.425791\n",
       "214   31_2753    14.0   4.880384   9.119616\n",
       "278   42_5823    18.0   9.123472   8.876528\n",
       "1    12_11369    30.0  21.309380   8.690620\n",
       "119   25_5822    20.5  11.890301   8.609699\n",
       "277   42_5822    20.5  11.957715   8.542285\n",
       "372   57_5822    15.0   7.105514   7.894486\n",
       "80    24_2308     1.0   8.776683   7.776683\n",
       "64   22_13370    12.0   4.535710   7.464290\n",
       "397   59_2308     4.0  10.300555   6.300555\n",
       "417    7_2308     1.0   7.239599   6.239599\n",
       "210   31_2308     4.0  10.233065   6.233065\n",
       "155   28_5823     4.0  10.020718   6.020718\n",
       "18    15_5822     5.0  11.014413   6.014413\n",
       "288  45_20949    15.0   9.036652   5.963348\n",
       "132   26_5822     4.0   9.939058   5.939058\n",
       "313    4_2252     8.0   2.241702   5.758298\n",
       "415   7_17717    16.0  21.741476   5.741476\n",
       "227   31_5821    20.0  14.307395   5.692605"
      ]
     },
     "execution_count": 31,
     "metadata": {},
     "output_type": "execute_result"
    }
   ],
   "source": [
    "df_rmse[\"RMSE\"] = df_rmse[\"unique_id\"].map(rmse_by_id)\n",
    "df_rmse_sorted = df_rmse[df_rmse[\"RMSE\"].notna()].sort_values(\n",
    "    by=\"RMSE\", ascending=False\n",
    ")\n",
    "top_25 = df_rmse_sorted.head(25)\n",
    "top_25"
   ]
  },
  {
   "cell_type": "markdown",
   "id": "974abae8",
   "metadata": {},
   "source": [
    "Se observa que las predicciones con mayor RMSE se encuentran en el rango  13-21 de monthly_sales, eso es debido a que es un rango de ventas con poca representación en el histórico de ventas como se puede observar en la distribución de ventas en la celda 10.\n",
    "Para solventar el error, mi idea era intentar reducir el RMSE haciendo data augmentation para este rango de ventas, pero no es una buena práctica y resulta en más ruido en el modelo."
   ]
  },
  {
   "cell_type": "code",
   "execution_count": 32,
   "id": "12e9ebc9",
   "metadata": {},
   "outputs": [
    {
     "data": {
      "image/png": "[encoded data removed]",
      "text/plain": [
       "<Figure size 1500x600 with 1 Axes>"
      ]
     },
     "metadata": {},
     "output_type": "display_data"
    },
    {
     "data": {
      "image/png": "[encoded data removed]",
      "text/plain": [
       "<Figure size 1500x600 with 1 Axes>"
      ]
     },
     "metadata": {},
     "output_type": "display_data"
    }
   ],
   "source": [
    "ids_con_mayor_error = top_25_rmse.index[:2]\n",
    "\n",
    "for uid in ids_con_mayor_error:\n",
    "    # Filtrar datos históricos y de validación para este unique_id\n",
    "    hist_data = features_train[features_train[\"unique_id\"] == uid]\n",
    "    val_data = features_val[features_val[\"unique_id\"] == uid]\n",
    "\n",
    "    # Combinar para tener el historial completo\n",
    "    full_series = pd.concat([hist_data, val_data])\n",
    "\n",
    "    # Obtener la predicción para este id\n",
    "    pred_val = df_rmse_sorted[df_rmse_sorted[\"unique_id\"] == uid][\"y_pred\"].iloc[0]\n",
    "\n",
    "    plt.figure(figsize=(15, 6))\n",
    "    plt.plot(\n",
    "        full_series[\"date\"],\n",
    "        full_series[\"monthly_sales\"],\n",
    "        label=\"Ventas Reales\",\n",
    "        marker=\"o\",\n",
    "    )\n",
    "\n",
    "    # Añadir la predicción de validación al gráfico\n",
    "    plt.scatter(\n",
    "        val_data[\"date\"],\n",
    "        pred_val,\n",
    "        color=\"red\",\n",
    "        s=100,\n",
    "        zorder=5,\n",
    "        label=f\"Predicción (RMSE: {rmse_by_id.loc[uid]:.2f})\",\n",
    "    )\n",
    "\n",
    "    plt.title(f\"Análisis de Error para unique_id: {uid}\")\n",
    "    plt.xlabel(\"Fecha\")\n",
    "    plt.ylabel(\"Ventas Mensuales\")\n",
    "    plt.legend()\n",
    "    plt.show()"
   ]
  },
  {
   "cell_type": "markdown",
   "id": "dec7395d",
   "metadata": {},
   "source": [
    "- Como vemos en el gráfico, el unique_id 6_5822 tiene un pico de ventas histórico muy errático, y presenta una alta volatilidad. Posiblemente por ser un producto de nicho o sujeto a promociones esporádicas que el modelo no captura con las features actuales.\n",
    "  \n",
    "-  Por otro lado el unique_id 42_6497 tiene unos picos de ventas muy pronunciados, que teniendo en cuenta el comportamiento del Tweedie, donde sus estimaciones tienden a la media justifica aún más el uso de un blending de modelos para la predicción final. "
   ]
  },
  {
   "cell_type": "markdown",
   "id": "3f390964",
   "metadata": {},
   "source": [
    "## 6. Creación del Ensemble Final: Blending y Calibración\n",
    "\n",
    "Aunque los modelos individuales son fuertes, es posible obtener una mejora adicional combinando sus predicciones. La técnica del **Blending** (un tipo de Stacking) utiliza las predicciones de los modelos base como características para entrenar un meta-modelo final, que aprende a ponderar las fortalezas de cada uno.\n",
    "\n",
    "Se seleccionaron los 3 mejores y más diversos modelos (`LightGBM_Tweedie`, `XGBoost` y `CatBoost`) para el ensamble. Se utilizó un **Regresor Ridge** como meta-modelo, que encuentra de forma eficiente los pesos óptimos y aplica una calibración lineal para corregir cualquier sesgo sistemático en las predicciones del blend."
   ]
  },
  {
   "cell_type": "code",
   "execution_count": null,
   "id": "6732bc38",
   "metadata": {},
   "outputs": [
    {
     "name": "stdout",
     "output_type": "stream",
     "text": [
      "🚀 Construyendo el blend final con CatBoost, XGBoost y LightGBM_Tweedie...\n",
      "   -> Predicciones de CatBoost obtenidas.\n",
      "   -> Predicciones de XGBoost obtenidas.\n",
      "   -> Predicciones de LightGBM_Tweedie obtenidas.\n",
      "\n",
      "⚖️  Pesos del blend final y calibración:\n",
      "   -> Intercepto (calibración 'a'): -0.1530\n",
      "   -> Peso para CatBoost: 0.7946\n",
      "   -> Peso para XGBoost: 0.0751\n",
      "   -> Peso para LightGBM_Tweedie: 0.1745\n",
      "\n",
      "🏆 RMSE Final del Blend Calibrado en Validación: 2.6816\n",
      "   -> Mejora sobre el mejor modelo individual (CatBoost con 2.7067)\n"
     ]
    }
   ],
   "source": [
    "\n",
    "# --- Helpers de alineación (sin cambios, son robustos) ---\n",
    "def align_to_cat_model(df, expected_cols, categorical_cols):\n",
    "    df_aligned = df.copy().reindex(columns=expected_cols, fill_value=0)\n",
    "    for c in categorical_cols:\n",
    "        if c in df_aligned.columns:\n",
    "            df_aligned[c] = df_aligned[c].astype(int)\n",
    "    cat_idx = [i for i, col in enumerate(df_aligned.columns) if col in categorical_cols]\n",
    "    return df_aligned, cat_idx\n",
    "\n",
    "\n",
    "def align_by_name(df, expected_cols):\n",
    "    return df.copy().reindex(columns=expected_cols, fill_value=0)\n",
    "\n",
    "\n",
    "# ---------------------------\n",
    "# 1) Predicciones de CatBoost (Datos RAW Completos)\n",
    "# ---------------------------\n",
    "cat_model = trained_models[\"CatBoost\"]\n",
    "expected_cb_cols = getattr(cat_model, \"feature_names_\", list(X_train.columns))\n",
    "categorical_cols_cat = [c for c in categorical_cols_original if c in expected_cb_cols]\n",
    "X_val_cb_aligned, cat_idx_val = align_to_cat_model(\n",
    "    X_val, expected_cb_cols, categorical_cols_cat\n",
    ")\n",
    "val_pool = Pool(data=X_val_cb_aligned, cat_features=cat_idx_val)\n",
    "preds_val_cat_log = cat_model.predict(val_pool)\n",
    "preds_val_cat = np.expm1(preds_val_cat_log)\n",
    "print(\"   -> Predicciones de CatBoost obtenidas.\")\n",
    "\n",
    "# ---------------------------\n",
    "# 2) Predicciones de XGBoost (Datos ENCODED Completos)\n",
    "# ---------------------------\n",
    "xgb_model = trained_models[\"XGBoost\"]\n",
    "expected_xgb_cols = getattr(\n",
    "    xgb_model, \"feature_names_in_\", list(X_train_encoded_reg.columns)\n",
    ")\n",
    "X_val_xgb_aligned = align_by_name(X_val_encoded_reg, expected_xgb_cols)\n",
    "preds_val_xgb_log = xgb_model.predict(X_val_xgb_aligned)\n",
    "preds_val_xgb = np.expm1(preds_val_xgb_log)\n",
    "print(\"   -> Predicciones de XGBoost obtenidas.\")\n",
    "\n",
    "# ---------------------------\n",
    "# 3) Predicciones de LightGBM_Tweedie (Datos ENCODED Completos) \n",
    "# ---------------------------\n",
    "tweedie_model = trained_models[\"LightGBM_Tweedie\"]\n",
    "expected_tweedie_cols = getattr(\n",
    "    tweedie_model, \"feature_name_\", list(X_train_encoded_reg.columns)\n",
    ")\n",
    "X_val_tweedie_aligned = align_by_name(X_val_encoded_reg, expected_tweedie_cols)\n",
    "# --- ¡OJO! Tweedie predice en escala original, no necesita np.expm1() ---\n",
    "preds_val_tweedie = tweedie_model.predict(X_val_tweedie_aligned)\n",
    "print(\"   -> Predicciones de LightGBM_Tweedie obtenidas.\")\n",
    "\n",
    "# ---------------------------\n",
    "# 4) Construcción del Blend con Ridge\n",
    "# ---------------------------\n",
    "blend_candidates = [\"CatBoost\", \"XGBoost\", \"LightGBM_Tweedie\"]  \n",
    "stacked_val = np.column_stack(\n",
    "    [preds_val_cat, preds_val_xgb, preds_val_tweedie]\n",
    ")  \n",
    "\n",
    "meta_model = Ridge(positive=True, fit_intercept=True).fit(stacked_val, y_val)\n",
    "\n",
    "blend_weights = meta_model.coef_\n",
    "blend_intercept = meta_model.intercept_\n",
    "print(\"\\n⚖️  Pesos del blend final y calibración:\")\n",
    "print(f\"   -> Intercepto (calibración 'a'): {blend_intercept:.4f}\")\n",
    "for name, w in zip(blend_candidates, blend_weights):\n",
    "    print(f\"   -> Peso para {name}: {w:.4f}\")\n",
    "\n",
    "# Evaluación final\n",
    "blend_val = meta_model.predict(stacked_val)\n",
    "blend_val_clipped = np.clip(blend_val, 0, 30)\n",
    "final_blend_rmse = np.sqrt(mean_squared_error(y_val, blend_val_clipped))\n",
    "\n",
    "print(f\"\\n🏆 RMSE Final del Blend Calibrado en Validación: {final_blend_rmse:.4f}\")\n",
    "\n",
    "# Comparativa con el mejor modelo individual\n",
    "best_single_model_name, best_single_model_info = min(\n",
    "    results.items(), key=lambda x: x[1][\"rmse_val\"]\n",
    ")\n",
    "best_single_model_rmse = best_single_model_info[\"rmse_val\"]\n",
    "print(\n",
    "    f\"   -> Mejora sobre el mejor modelo individual ({best_single_model_name} con {best_single_model_rmse:.4f})\"\n",
    ")"
   ]
  },
  {
   "cell_type": "code",
   "execution_count": null,
   "id": "155118e5",
   "metadata": {},
   "outputs": [
    {
     "name": "stdout",
     "output_type": "stream",
     "text": [
      "🚀 Iniciando la generación del archivo de submission con el Blend B...\n",
      "\\n⚙️ Preparando y alineando los datos de test para cada modelo...\n",
      "   -> Datos de test para CatBoost preparados.\n",
      "   -> Datos de test para LightGBM_Tweedie preparados.\n",
      "   -> Datos de test para XGBoost preparados.\n",
      "\\n🚀 Generando predicciones finales sobre el conjunto de test...\n",
      "   -> Predicciones de todos los modelos base obtenidas.\n",
      "\\n✅ Predicciones finales del blend generadas y acotadas.\n",
      "\\n💾 Submission guardado en: submission_final.csv\n",
      "\\n--- Vista previa de la submission ---\n"
     ]
    },
    {
     "data": {
      "text/html": [
       "<div>\n",
       "<style scoped>\n",
       "    .dataframe tbody tr th:only-of-type {\n",
       "        vertical-align: middle;\n",
       "    }\n",
       "\n",
       "    .dataframe tbody tr th {\n",
       "        vertical-align: top;\n",
       "    }\n",
       "\n",
       "    .dataframe thead th {\n",
       "        text-align: right;\n",
       "    }\n",
       "</style>\n",
       "<table border=\"1\" class=\"dataframe\">\n",
       "  <thead>\n",
       "    <tr style=\"text-align: right;\">\n",
       "      <th></th>\n",
       "      <th>unique_id</th>\n",
       "      <th>monthly_sales</th>\n",
       "    </tr>\n",
       "  </thead>\n",
       "  <tbody>\n",
       "    <tr>\n",
       "      <th>0</th>\n",
       "      <td>12_11365</td>\n",
       "      <td>16.565994</td>\n",
       "    </tr>\n",
       "    <tr>\n",
       "      <th>1</th>\n",
       "      <td>12_11369</td>\n",
       "      <td>28.977080</td>\n",
       "    </tr>\n",
       "    <tr>\n",
       "      <th>2</th>\n",
       "      <td>12_11370</td>\n",
       "      <td>29.484600</td>\n",
       "    </tr>\n",
       "    <tr>\n",
       "      <th>3</th>\n",
       "      <td>12_11373</td>\n",
       "      <td>30.000000</td>\n",
       "    </tr>\n",
       "    <tr>\n",
       "      <th>4</th>\n",
       "      <td>12_12231</td>\n",
       "      <td>1.911662</td>\n",
       "    </tr>\n",
       "  </tbody>\n",
       "</table>\n",
       "</div>"
      ],
      "text/plain": [
       "  unique_id  monthly_sales\n",
       "0  12_11365      16.565994\n",
       "1  12_11369      28.977080\n",
       "2  12_11370      29.484600\n",
       "3  12_11373      30.000000\n",
       "4  12_12231       1.911662"
      ]
     },
     "metadata": {},
     "output_type": "display_data"
    },
    {
     "name": "stdout",
     "output_type": "stream",
     "text": [
      "\\n--- Estadísticas de las predicciones ---\n"
     ]
    },
    {
     "data": {
      "text/plain": [
       "count    426.000000\n",
       "mean       5.938613\n",
       "std        6.838803\n",
       "min        1.361827\n",
       "25%        2.602443\n",
       "50%        3.560018\n",
       "75%        5.375468\n",
       "max       30.000000\n",
       "Name: monthly_sales, dtype: float64"
      ]
     },
     "metadata": {},
     "output_type": "display_data"
    }
   ],
   "source": [
    "\n",
    "\n",
    "print(\"🚀 Iniciando la generación del archivo de submission con el Blend B...\")\n",
    "\n",
    "# --- 1. Cargar los modelos entrenados ---\n",
    "cat_model = trained_models[\"CatBoost\"]\n",
    "tweedie_model = trained_models[\"LightGBM_Tweedie\"]\n",
    "xgb_model = trained_models[\"XGBoost\"]\n",
    "\n",
    "\n",
    "# --- 2. Preparación de Datos de TEST para cada Modelo ---\n",
    "print(\"\\\\n⚙️ Preparando y alineando los datos de test para cada modelo...\")\n",
    "\n",
    "#      2.1 Para CatBoost (usando el set de datos RAW completo)\n",
    "# Obtenemos el orden de features que el modelo espera de su entrenamiento\n",
    "expected_cb_cols = getattr(cat_model, \"feature_names_\", list(X_train.columns))\n",
    "categorical_cols_cat = [c for c in categorical_cols_original if c in expected_cb_cols]\n",
    "\n",
    "# Alineamos el X_test completo y creamos el Pool\n",
    "X_test_cb_aligned, cat_idx_test = align_to_cat_model(\n",
    "    X_test, expected_cb_cols, categorical_cols_cat\n",
    ")\n",
    "test_pool = Pool(data=X_test_cb_aligned, cat_features=cat_idx_test)\n",
    "print(\"   -> Datos de test para CatBoost preparados.\")\n",
    "\n",
    "#      2.2 Para LightGBM_Tweedie (usando el set ENCODED completo)\n",
    "expected_tweedie_cols = getattr(\n",
    "    tweedie_model, \"feature_name_\", list(X_train_encoded_reg.columns)\n",
    ")\n",
    "X_test_tweedie_aligned = align_by_name(X_test_encoded_reg, expected_tweedie_cols)\n",
    "print(\"   -> Datos de test para LightGBM_Tweedie preparados.\")\n",
    "\n",
    "#      2.3 Para XGBoost (usando el set ENCODED completo)\n",
    "expected_xgb_cols = getattr(\n",
    "    xgb_model, \"feature_names_in_\", list(X_train_encoded_reg.columns)\n",
    ")\n",
    "X_test_xgb_aligned = align_by_name(X_test_encoded_reg, expected_xgb_cols)\n",
    "print(\"   -> Datos de test para XGBoost preparados.\")\n",
    "\n",
    "# --- 3. Generar Predicciones sobre los Datos de Test Preparados ---\n",
    "print(\"\\\\n🚀 Generando predicciones finales sobre el conjunto de test...\")\n",
    "\n",
    "# Predicción CatBoost\n",
    "preds_test_cat_log = cat_model.predict(test_pool)\n",
    "preds_test_cat = np.expm1(preds_test_cat_log)\n",
    "\n",
    "# Predicción LightGBM_Tweedie (escala original)\n",
    "preds_test_tweedie = tweedie_model.predict(X_test_tweedie_aligned)\n",
    "\n",
    "# Predicción XGBoost\n",
    "preds_test_xgb_log = xgb_model.predict(X_test_xgb_aligned)\n",
    "preds_test_xgb = np.expm1(preds_test_xgb_log)\n",
    "print(\"   -> Predicciones de todos los modelos base obtenidas.\")\n",
    "\n",
    "# --- 4. Apilar, Aplicar Meta-Modelo y Guardar ---\n",
    "stacked_preds_test = np.column_stack(\n",
    "    [preds_test_tweedie, preds_test_xgb, preds_test_cat]\n",
    ")\n",
    "\n",
    "# Aplicar el meta-modelo ya entrenado para obtener la predicción final del blend\n",
    "final_blend_predictions = meta_model.predict(stacked_preds_test)\n",
    "\n",
    "# Aplicar clipping final de seguridad [0, 30]\n",
    "final_predictions_clipped = np.clip(final_blend_predictions, 0, 30)\n",
    "print(\"\\\\n✅ Predicciones finales del blend generadas y acotadas.\")\n",
    "\n",
    "# Crear el DataFrame de submission\n",
    "submission_df = pd.DataFrame(\n",
    "    {\n",
    "        \"unique_id\": df_test[\"unique_id\"].values,\n",
    "        \"monthly_sales\": final_predictions_clipped,\n",
    "    }\n",
    ")\n",
    "\n",
    "# Guardar el archivo CSV\n",
    "submission_file = \"submission_final.csv\"\n",
    "submission_df.to_csv(submission_file, index=False)\n",
    "print(f\"\\\\n💾 Submission guardado en: {submission_file}\")\n",
    "\n",
    "# Verificación final\n",
    "print(\"\\\\n--- Vista previa de la submission ---\")\n",
    "display(submission_df.head())\n",
    "print(\"\\\\n--- Estadísticas de las predicciones ---\")\n",
    "display(submission_df[\"monthly_sales\"].describe())"
   ]
  },
  {
   "cell_type": "markdown",
   "id": "82f09a06",
   "metadata": {},
   "source": [
    "## **7. Conclusión y Próximos Pasos**\n",
    "\n",
    "Este proyecto ha culminado con el desarrollo de un pipeline de Machine Learning altamente efectivo para la predicción de ventas. La clave del éxito ha sido doble: una **ingeniería de características causal** robusta y la **combinación inteligente de modelos diversos** en un ensamble final.\n",
    "\n",
    "**Resultados Clave**\n",
    "- **Rendimiento del Modelo**: El Ensemble Final (**Blend Calibrado**) superó a todos los modelos individuales, logrando un **RMSE de Validación de 2.6816**. Esto representa una mejora notable sobre el mejor modelo base (CatBoost), que obtuvo un RMSE de 2.7067.\n",
    "\n",
    "- **La Historia Reciente es el Factor Más Predictivo**: El análisis de importancia de características reveló que las variables de lag y rolling mean (media móvil) de las ventas recientes son, con diferencia, los predictores más potentes.\n",
    "\n",
    "- **La Diversidad de Modelos es Esencial**: El ensamble demostró la importancia de combinar modelos que aprenden de diferentes representaciones de los datos (crudos vs. codificados con Target Encoding), lo que produce un resultado final más preciso y generalizable.\n",
    "\n",
    "- **Un Pipeline Robusto es Fundamental**: El preprocesamiento causal, el Target Encoding temporal y las clases personalizadas fueron cruciales para evitar la fuga de datos y garantizar la fiabilidad del modelo.\n",
    "\n",
    "**Próximos Pasos Posibles**\n",
    "- **Validación Avanzada**: Implementar una estrategia de validación cruzada temporal (Time Series Cross-Validation) para obtener una estimación aún más robusta del rendimiento. Se podría incorporar un target encoding dinámico y aplicar \"recency weights\" para dar más importancia a los datos recientes.\n",
    "\n",
    "- **Optimización del Ensamble**: Experimentar con la selección de características para cada modelo de forma individual y probar con meta-modelos más complejos.\n",
    "\n",
    "- **Despliegue**: Preparar el modelo final para su despliegue en un entorno de producción, permitiendo realizar predicciones en tiempo real y aportar valor directo al negocio."
   ]
  }
 ],
 "metadata": {
  "kernelspec": {
   "display_name": "Python 3",
   "language": "python",
   "name": "python3"
  },
  "language_info": {
   "codemirror_mode": {
    "name": "ipython",
    "version": 3
   },
   "file_extension": ".py",
   "mimetype": "text/x-python",
   "name": "python",
   "nbconvert_exporter": "python",
   "pygments_lexer": "ipython3",
   "version": "3.10.14"
  }
 },
 "nbformat": 4,
 "nbformat_minor": 5
}
